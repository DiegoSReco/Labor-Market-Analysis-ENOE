{
  "nbformat": 4,
  "nbformat_minor": 0,
  "metadata": {
    "colab": {
      "provenance": [],
      "authorship_tag": "ABX9TyPMiMLyNqNriUMpv6z8Xm4n",
      "include_colab_link": true
    },
    "kernelspec": {
      "name": "ir",
      "display_name": "R"
    },
    "language_info": {
      "name": "R"
    }
  },
  "cells": [
    {
      "cell_type": "markdown",
      "metadata": {
        "id": "view-in-github",
        "colab_type": "text"
      },
      "source": [
        "<a href=\"https://colab.research.google.com/github/DiegoSReco/Labor-Market-Analysis-ENOE/blob/main/Analisis_de_Encuestas_en_R.ipynb\" target=\"_parent\"><img src=\"https://colab.research.google.com/assets/colab-badge.svg\" alt=\"Open In Colab\"/></a>"
      ]
    },
    {
      "cell_type": "markdown",
      "source": [],
      "metadata": {
        "id": "DpSKYyHL9qBM"
      }
    },
    {
      "cell_type": "markdown",
      "source": [
        "\n",
        "\n",
        "# **Taller de Análisis de Encuestas Complejas en R**\n",
        "## **Colegio de Economistas de Aguascalientes**\n",
        "## **Diego Sánchez Rojas**\n",
        "\n",
        "### [LinkedIn](https://www.linkedin.com/in/diegorojas12/) [Github](https://github.com/DiegoSReco)\n",
        "\n",
        "\n",
        "**Objetivo: Comprender las nociones básicos del análisis de encuestas complejas en R**\n",
        "\n"
      ],
      "metadata": {
        "id": "2SjG1XuZwXVj"
      }
    },
    {
      "cell_type": "markdown",
      "source": [
        "# **1. Introducción**\n",
        "Los gobiernos, las empresas, ONGs, partidos políticos e investigadores necesitamos información de características, opiniones, preferencias y comportamiento de una población.\n",
        "\n",
        "*   ¿Cuántas personas están desempleadas?\n",
        "*   ¿Cuántas personas tienen acceso a eduación?\n",
        "*   ¿Por qué partido se inclinan las preferencias en las próximas elecciones?\n",
        "*   ¿Cuáles son las preferencias de los consumidores en cuanto a productos y servicios?\n",
        "\n",
        "*    ¿Qué políticas consideran los votantes como prioritarias?\n",
        "\n",
        "\n",
        "Para contestar a estas preguntas recurrimos al uso de **encuestas complejas** o  **encuestas de diseño probabilístico.**\n",
        "\n",
        "* Restricción de tiempo y costos\n",
        "\n",
        "\n",
        "### Otra opción son los **censos**:\n",
        "\n",
        "De acuerdo con el INEGI en el Censo Población y Vivienda 2020 se visitaron 55 millones de inmuebles y participaron 147 mil entrevistadores.\n",
        "\n",
        "\n",
        "###**1.1 ¿Qué son las encuestas complejas?**\n",
        "\n",
        "- Las encuestas complejas tienen un diseño de muestra probabilístico, en donde los encuestados son seleccionados de forma aleatoria de tal forma que los resultados representen de forma precisa y eficiente a la población de interés.\n",
        "\n",
        "\n",
        "![sampling-inference.svg](data:image/svg+xml;base64,PHN2ZyB4bWxucz0iaHR0cDovL3d3dy53My5vcmcvMjAwMC9zdmciIHZpZXdCb3g9IjAgMCA4MDAgNDAwIj4KICAgIDwhLS0gRm9uZG8gLS0+CiAgICA8cmVjdCB3aWR0aD0iODAwIiBoZWlnaHQ9IjQwMCIgZmlsbD0iI2Y4ZjlmYSIvPgogICAgCiAgICA8IS0tIFBvYmxhY2nDs24gKGPDrXJjdWxvIGdyYW5kZSkgLS0+CiAgICA8Y2lyY2xlIGN4PSIyMDAiIGN5PSIyMDAiIHI9IjE1MCIgZmlsbD0iI2U5ZWNlZiIgc3Ryb2tlPSIjNDk1MDU3IiBzdHJva2Utd2lkdGg9IjIiLz4KICAgIDx0ZXh0IHg9IjIwMCIgeT0iMjAwIiB0ZXh0LWFuY2hvcj0ibWlkZGxlIiBmb250LXNpemU9IjIwIiBmaWxsPSIjMjEyNTI5Ij5Qb2JsYWNpw7NuPC90ZXh0PgogICAgPHRleHQgeD0iMjAwIiB5PSIyMzAiIHRleHQtYW5jaG9yPSJtaWRkbGUiIGZvbnQtc2l6ZT0iMTQiIGZpbGw9IiM0OTUwNTciPk4gPSAxLDAwMCwwMDA8L3RleHQ+CgogICAgPCEtLSBGbGVjaGEgZGUgbXVlc3RyZW8gLS0+CiAgICA8cGF0aCBkPSJNIDM1MCAyMDAgTCA0NTAgMjAwIiBzdHJva2U9IiM0OTUwNTciIHN0cm9rZS13aWR0aD0iMiIgbWFya2VyLWVuZD0idXJsKCNhcnJvdykiLz4KICAgIDx0ZXh0IHg9IjQwMCIgeT0iMTgwIiB0ZXh0LWFuY2hvcj0ibWlkZGxlIiBmb250LXNpemU9IjE2IiBmaWxsPSIjNDk1MDU3Ij5NdWVzdHJlbzwvdGV4dD4KICAgIAogICAgPCEtLSBEZWZpbmljacOzbiBkZSBsYSBmbGVjaGEgLS0+CiAgICA8ZGVmcz4KICAgICAgICA8bWFya2VyIGlkPSJhcnJvdyIgdmlld0JveD0iMCAwIDEwIDEwIiByZWZYPSI5IiByZWZZPSI1IgogICAgICAgICAgICBtYXJrZXJXaWR0aD0iNiIgbWFya2VySGVpZ2h0PSI2IiBvcmllbnQ9ImF1dG8iPgogICAgICAgICAgICA8cGF0aCBkPSJNIDAgMCBMIDEwIDUgTCAwIDEwIHoiIGZpbGw9IiM0OTUwNTciLz4KICAgICAgICA8L21hcmtlcj4KICAgIDwvZGVmcz4KCiAgICA8IS0tIE11ZXN0cmEgKGPDrXJjdWxvIHBlcXVlw7FvKSAtLT4KICAgIDxjaXJjbGUgY3g9IjYwMCIgY3k9IjIwMCIgcj0iODAiIGZpbGw9IiNjNWY2ZmEiIHN0cm9rZT0iIzQ5NTA1NyIgc3Ryb2tlLXdpZHRoPSIyIi8+CiAgICA8dGV4dCB4PSI2MDAiIHk9IjE5MCIgdGV4dC1hbmNob3I9Im1pZGRsZSIgZm9udC1zaXplPSIxOCIgZmlsbD0iIzIxMjUyOSI+TXVlc3RyYTwvdGV4dD4KICAgIDx0ZXh0IHg9IjYwMCIgeT0iMjEwIiB0ZXh0LWFuY2hvcj0ibWlkZGxlIiBmb250LXNpemU9IjE0IiBmaWxsPSIjNDk1MDU3Ij5uID0gMSwwMDA8L3RleHQ+CgogICAgPCEtLSBJbnRlcnZhbG8gZGUgY29uZmlhbnphIC0tPgogICAgPHJlY3QgeD0iNTAwIiB5PSIzMDAiIHdpZHRoPSIyMDAiIGhlaWdodD0iNDAiIGZpbGw9IiNlOWVjZWYiIHN0cm9rZT0iIzQ5NTA1NyIgc3Ryb2tlLXdpZHRoPSIyIi8+CiAgICA8bGluZSB4MT0iNjAwIiB5MT0iMzIwIiB4Mj0iNjAwIiB5Mj0iMzIwIiBzdHJva2U9IiM0OTUwNTciIHN0cm9rZS13aWR0aD0iMiIvPgogICAgPHRleHQgeD0iNjAwIiB5PSIzMTUiIHRleHQtYW5jaG9yPSJtaWRkbGUiIGZvbnQtc2l6ZT0iMTQiIGZpbGw9IiMyMTI1MjkiPkludGVydmFsbyBkZSBDb25maWFuemEgOTUlPC90ZXh0PgogICAgPHRleHQgeD0iNTIwIiB5PSIzMzUiIGZvbnQtc2l6ZT0iMTIiIGZpbGw9IiM0OTUwNTciPkxJPC90ZXh0PgogICAgPHRleHQgeD0iNjgwIiB5PSIzMzUiIGZvbnQtc2l6ZT0iMTIiIGZpbGw9IiM0OTUwNTciPkxTPC90ZXh0PgoKICAgIDwhLS0gUGFyw6FtZXRybyBwb2JsYWNpb25hbCAtLT4KICAgIDxsaW5lIHgxPSIxNTAiIHkxPSI1MCIgeDI9IjI1MCIgeTI9IjUwIiBzdHJva2U9IiM0OTUwNTciIHN0cm9rZS13aWR0aD0iMiIvPgogICAgPHRleHQgeD0iMjAwIiB5PSI0MCIgdGV4dC1hbmNob3I9Im1pZGRsZSIgZm9udC1zaXplPSIxNCIgZmlsbD0iIzIxMjUyOSI+UGFyw6FtZXRybyDOuDwvdGV4dD4KCiAgICA8IS0tIEVzdGFkw61zdGljbyBtdWVzdHJhbCAtLT4KICAgIDxsaW5lIHgxPSI1NTAiIHkxPSI1MCIgeDI9IjY1MCIgeTI9IjUwIiBzdHJva2U9IiM0OTUwNTciIHN0cm9rZS13aWR0aD0iMiIvPgogICAgPHRleHQgeD0iNjAwIiB5PSI0MCIgdGV4dC1hbmNob3I9Im1pZGRsZSIgZm9udC1zaXplPSIxNCIgZmlsbD0iIzIxMjUyOSI+RXN0aW1hZG9yIM64zII8L3RleHQ+Cjwvc3ZnPgo=)\n",
        "\n",
        "\n",
        "- El problema al que nos enfrentamos es la diversidad en la población. Existen subgrupos con características diferentes, por lo tanto el muestreo aleatorio simple no siempre garantiza que todos estos subgrupos estén bien representados en la muestra y tengamos estimaciones precisas.\n",
        "\n"
      ],
      "metadata": {
        "id": "cnmKd2zH2TJK"
      }
    },
    {
      "cell_type": "markdown",
      "source": [],
      "metadata": {
        "id": "S4svROjf3vlT"
      }
    },
    {
      "cell_type": "markdown",
      "source": [
        "\n",
        "\n",
        "###**1.2 Tipos de muestreo probabilístico**\n",
        "El muestreo probabilístico se caracteriza porque todos los individuos de la población tienen una probabilidad conocida y distinta de cero de ser seleccionados. Esto permite hacer inferencias estadísticas sobre la población.\n",
        "\n",
        "- **Muestreo aleatorio simple**: Cada miembro de la población tiene la misma probabilidad de ser seleccionado.\n",
        "\n",
        "$$ Probabilidad~de~ser~seleccionado = \\frac{1}{1,000,000} = 0.000001 $$\n",
        "\n",
        "\n",
        "- **Muestreo sistemático**: Se selecciona un punto de partida aleatorio y luego se elige cada k-ésimo miembro de la población. Imagina que quieres evaluar la satisfacción de clientes en una tienda. Puedes tomar una lista ordenada de clientes y, comenzando desde un cliente seleccionado al azar, elegir cada décimo cliente para la encuesta.\n",
        "\n",
        "- **Muestreo estratificado**: La población se divide en subgrupos o estratos (por ejemplo, género, edad, estados) y se selecciona una muestra aleatoria de cada estrato.\n",
        "\n",
        "- **Muestreo por clusters**: La población se divide en grupos o clusters (como barrios, ciudades), y se seleccionan aleatoriamente algunos clusters. Luego, se estudian todos los individuos dentro de los clusters seleccionados o se toma una muestra dentro de ellos.\n",
        "\n",
        "- **Muestreo multietápico**: Combina varios tipos de muestreo (por ejemplo, clusters y luego aleatorio) en diferentes etapas.\n",
        "\n",
        "\n",
        "**Bibliografía:**\n",
        "\n",
        "- Klinger Angarita, R. (2024). Muestreo estadístico: métodos básicos (1st ed.). Programa Editorial Universidad del Valle.\n",
        "- Lehtonen, R. & Pahkinen E. (2004). Practical Methods for Design and Analysis of Complex Surveys\n",
        "\n",
        "- Levy, P. S., & Lemeshow, S. (1993). Sampling of Populations: Methods and Applications.\n",
        "\n",
        "\n"
      ],
      "metadata": {
        "id": "dd7tuooXMmlr"
      }
    },
    {
      "cell_type": "markdown",
      "source": [],
      "metadata": {
        "id": "BB_oNefa7J7-"
      }
    },
    {
      "cell_type": "markdown",
      "source": [
        "### **1.3 Conceptos básicos  del análisis de encuestas complejas**\n",
        "\n",
        "- **Estrato**\n",
        "\n",
        " Subgrupo o subdivisión de la población que comparte ciertas características comunes. En el muestreo estratificado, la población se divide en estratos, como grupos de edad, género, ubicación geográfica, nivel socioeconómico, entre otros. Cada estrato se trata como una subpoblación independiente, y se toma una muestra aleatoria de cada uno.\n",
        "\n",
        "- **Unidad primaria de muestreo (UPM)**\n",
        "  Primer nivel de selección de la muestra en un muestreo por etapas. En una encuesta compleja, especialmente en un muestreo por clusters o multietápico, se seleccionan primero las UPMs, que son subgrupos más grandes de la población, y luego se eligen unidades de muestreo adicionales dentro de ellas.  Ejemplo de UPM sería las viviendas.\n",
        "\n",
        "\n",
        "  - **Ponderadores**\n",
        "  Son factores aplicados a cada observación en la muestra para corregir las probabilidades de selección y asegurar que los resultados sean representativos de la población total.\n",
        "  Ejemplo de cálculo de ponderadores:\n",
        "  \n",
        "  Si suponemos que el muestreo fue aletorio simple la probabilidad de selección será la misma y la definimos como $p_i$, el peso o ponderador será igual al inverso de la probabilidad:\n",
        "  $$ Peso Base (w_i) = \\frac{1}{p_i}$$\n",
        "\n",
        "  Población: 10,000 personas\n",
        "\n",
        "  Muestra seleccionada: 500 personas  \n",
        "\n",
        "$$p_i = \\frac{500}{10,000} = 0.05 $$\n",
        "\n",
        "$$\\therefore~~~w_i = \\frac{1}{0.05}=20$$\n",
        "\n",
        "\n",
        "\n",
        "- En la realidad no es tan simple y se deben considerar ajustes por no respuesta, ajuste porestratificación o clusterisación, normalización de ponderadores, etc.\n",
        "\n"
      ],
      "metadata": {
        "id": "-eKt-Ft-Rfjj"
      }
    },
    {
      "cell_type": "markdown",
      "source": [
        "- **Estimador puntual**\n",
        "\n",
        "La mejor aproximación de una característica poblacional usando datos de una muestra.\n",
        "\n",
        "- **Error Estándar**\n",
        "\n",
        "Que tan seguro o preciso es nuestro estimador puntual. Cuanta variación hay en determinada carácterísticas. Buscamos el menor error estándar.\n",
        "\n",
        "\n",
        "- **Interval de confianza**\n",
        "\n",
        "\"No sabemos el valor exacto, pero estamos 95% seguros de que está en un rango determinado\"\n",
        "\n",
        "\n",
        "\n"
      ],
      "metadata": {
        "id": "cLtqt58T7big"
      }
    },
    {
      "cell_type": "markdown",
      "source": [
        "### **Bibliografría: Zimmer, S. A., Powell, R. J., & Velásquez, I. C. (2024). Exploring Complex Survey Data Analysis Using R: A Tidy Introduction with {srvyr} and {survey}. Chapman & Hall: CRC Press.**\n",
        "[Libro](https://tidy-survey-r.github.io/tidy-survey-book/index.html)\n"
      ],
      "metadata": {
        "id": "qvDT7p0z-IkL"
      }
    },
    {
      "cell_type": "markdown",
      "source": [
        "# **¿Cómo podemos manejar el diseño de la encuesta?**\n",
        "\n",
        "*   Anteriormente se utilizaban softwares como SPSS, SAS y Stata\n",
        "*   Software libre y de código abierto como R\n",
        "\n",
        "### **Ventajas**\n",
        "\n",
        "\n",
        "1.  A diferencia de SPSS y Stata que requieren licencias costosas, R es completamente gratuito. Esto facilita el acceso para estudiantes, investigadores y organizaciones con presupuestos limitados.\n",
        "\n",
        "2. Flexibilidad y facilidad:\n",
        "En R, específicamente utilizamos la  paquete **srvyr** la cual combina la sintaxis intuitiva de **dplyr** para manipulación de datos con las capacidades de **survey** para análisis de encuestas complejas.\n",
        "\n",
        "\n",
        "3. Reproducibilidad y automatización: Permite crear flujos de trabajo reproducibles y personalizados debido a la integración con otros paquetes de R para visualizaciónes de gran calidad (**ggplot2**) y reportes automatizados (**RMarkdown o Quarto**).\n",
        "\n",
        "[dplyr Cheatsheet](https://github.com/rstudio/cheatsheets/blob/main/data-transformation.pdf)\n",
        "\n",
        "[srvyr](https://cran.r-project.org/web/packages/srvyr/index.html)\n",
        "\n",
        "\n",
        "\n",
        "\n",
        "\n",
        "\n"
      ],
      "metadata": {
        "id": "E-LHZtRF1eT7"
      }
    },
    {
      "cell_type": "markdown",
      "source": [
        "# **2. Ejemplo**\n",
        "\n",
        "## **¿Cuál es el promedio de horas trabajadas por semana en México, y cómo cambia por entidad y sexo?**\n",
        "\n",
        "*   **Utilizaremos los microdatos de la Encuesta Nacional de Ocupación y Empleo (ENOE) trimestre II de 2024 del INEGI**.\n",
        "*   **Específicamente, la tabla de Sociodemográficos.**\n",
        "\n"
      ],
      "metadata": {
        "id": "1rUTJBxZ0Hpr"
      }
    },
    {
      "cell_type": "markdown",
      "source": [
        "## **2.1 Carga de Datos**\n",
        "\n",
        "*  **Realizamos la descarga temporal de los datos de la página del INEGI:**"
      ],
      "metadata": {
        "id": "XAVMWCTw5UaT"
      }
    },
    {
      "cell_type": "code",
      "source": [
        "#Librerias\n",
        "install.packages('pacman')\n",
        "library('pacman')\n",
        "\n",
        "p_load('tidyverse',\n",
        "        \"readxl\",\n",
        "        \"data.table\",\n",
        "        \"curl\")"
      ],
      "metadata": {
        "id": "lQX3jRV12L3F",
        "colab": {
          "base_uri": "https://localhost:8080/"
        },
        "outputId": "f8a1ecc1-cc45-4dea-b173-4b85549cd026"
      },
      "execution_count": null,
      "outputs": [
        {
          "output_type": "stream",
          "name": "stderr",
          "text": [
            "Installing package into ‘/usr/local/lib/R/site-library’\n",
            "(as ‘lib’ is unspecified)\n",
            "\n"
          ]
        }
      ]
    },
    {
      "cell_type": "code",
      "source": [
        "#Datos\n",
        "#Link ENOE 2024 T2\n",
        "url_enoe  <- \"https://www.inegi.org.mx/contenidos/programas/enoe/15ymas/microdatos//enoe_2024_trim2_csv.zip\"\n",
        "#Descarga temporal\n",
        "td  <- tempdir() #directorio\n",
        "tf <- tempfile(tmpdir= td, fileext = \".zip\") #file\n",
        "dir.create(td, recursive = TRUE, showWarnings = FALSE)\n",
        "#Descarga temporal\n",
        "curl::curl_download(url_enoe, tf, quiet = FALSE, mode = \"wb\")\n",
        "#Nombres de los file dentro del archivo que descargamos temporalmente\n",
        "zipped_files <- as.data.frame(unzip(tf, list = TRUE,  overwrite=TRUE))$Name\n",
        "#UTILIZAMOS TABLA DE SOCIODEMOGRÁFICOS\n",
        "file_to_load <- zipped_files[grepl(\"(?i)sdem\", zipped_files)]\n",
        "#Unzip\n",
        "unzip(tf, files= file_to_load, exdir=td, overwrite=TRUE)\n",
        "#path del file que utilizaremos\n",
        "fpath <- file.path(td, file_to_load  )\n",
        "#Unlink\n",
        "unlink(td)\n",
        "\n",
        "print(file_to_load)\n"
      ],
      "metadata": {
        "colab": {
          "base_uri": "https://localhost:8080/"
        },
        "id": "HjFSYTuUSToX",
        "outputId": "70716193-cf9e-4275-c4fd-94303d41f4f4"
      },
      "execution_count": null,
      "outputs": [
        {
          "output_type": "stream",
          "name": "stdout",
          "text": [
            "[1] \"ENOE_SDEMT224.csv\"\n"
          ]
        }
      ]
    },
    {
      "cell_type": "markdown",
      "source": [
        "### Vistazo de los datos que usaremos"
      ],
      "metadata": {
        "id": "vjxQjXF_Zakl"
      }
    },
    {
      "cell_type": "code",
      "source": [
        "  #Cargamos datos con la función fread de la libreria data.table\n",
        "  #Load file\n",
        "  df_enoe <- fread(fpath)\n",
        "  glimpse(df_enoe)\n"
      ],
      "metadata": {
        "colab": {
          "base_uri": "https://localhost:8080/"
        },
        "id": "dwzSOVaFy0n1",
        "outputId": "0d5427d8-a535-4f8c-9fe0-ee28b31f7e70"
      },
      "execution_count": null,
      "outputs": [
        {
          "output_type": "stream",
          "name": "stdout",
          "text": [
            "Rows: 427,123\n",
            "Columns: 114\n",
            "$ r_def      \u001b[3m\u001b[90m<int>\u001b[39m\u001b[23m 0, 0, 0, 0, 0, 0, 0, 0, 0, 0, 0, 0, 0, 0, 0, 0, 0, 0, 0, 0,…\n",
            "$ loc        \u001b[3m\u001b[90m<lgl>\u001b[39m\u001b[23m NA, NA, NA, NA, NA, NA, NA, NA, NA, NA, NA, NA, NA, NA, NA,…\n",
            "$ mun        \u001b[3m\u001b[90m<int>\u001b[39m\u001b[23m 2, 2, 10, 6, 6, 6, 6, 6, 11, 11, 10, 13, 5, 7, 7, 15, 14, 1…\n",
            "$ est        \u001b[3m\u001b[90m<int>\u001b[39m\u001b[23m 10, 10, 30, 20, 20, 20, 30, 30, 20, 20, 30, 20, 30, 20, 30,…\n",
            "$ est_d_tri  \u001b[3m\u001b[90m<int>\u001b[39m\u001b[23m 122, 122, 124, 123, 123, 123, 124, 124, 123, 123, 124, 123,…\n",
            "$ est_d_men  \u001b[3m\u001b[90m<int>\u001b[39m\u001b[23m NA, NA, NA, 117, 117, NA, NA, NA, NA, NA, NA, NA, NA, NA, N…\n",
            "$ ageb       \u001b[3m\u001b[90m<int>\u001b[39m\u001b[23m 0, 0, 0, 0, 0, 0, 0, 0, 0, 0, 0, 0, 0, 0, 0, 0, 0, 0, 0, 0,…\n",
            "$ t_loc_tri  \u001b[3m\u001b[90m<int>\u001b[39m\u001b[23m 1, 1, 1, 1, 1, 1, 1, 1, 1, 1, 1, 1, 1, 1, 1, 1, 1, 1, 1, 1,…\n",
            "$ t_loc_men  \u001b[3m\u001b[90m<int>\u001b[39m\u001b[23m NA, NA, NA, 1, 1, NA, NA, NA, NA, NA, NA, NA, NA, NA, NA, 1…\n",
            "$ cd_a       \u001b[3m\u001b[90m<int>\u001b[39m\u001b[23m 1, 1, 1, 1, 1, 1, 1, 1, 1, 1, 1, 1, 1, 1, 1, 1, 1, 1, 1, 1,…\n",
            "$ ent        \u001b[3m\u001b[90m<int>\u001b[39m\u001b[23m 9, 9, 9, 9, 9, 9, 9, 9, 9, 9, 9, 9, 9, 9, 9, 9, 9, 9, 9, 9,…\n",
            "$ con        \u001b[3m\u001b[90m<int>\u001b[39m\u001b[23m 40001, 40001, 40002, 40003, 40003, 40003, 40004, 40004, 400…\n",
            "$ upm        \u001b[3m\u001b[90m<int>\u001b[39m\u001b[23m 900987, 900987, 912033, 906619, 906619, 906619, 906094, 906…\n",
            "$ d_sem      \u001b[3m\u001b[90m<int>\u001b[39m\u001b[23m 101, 101, 101, 112, 112, 101, 101, 101, 101, 101, 101, 101,…\n",
            "$ n_pro_viv  \u001b[3m\u001b[90m<int>\u001b[39m\u001b[23m 86, 120, 73, 28, 9, 33, 3, 80, 59, 59, 58, 77, 71, 36, 56, …\n",
            "$ v_sel      \u001b[3m\u001b[90m<int>\u001b[39m\u001b[23m 3, 4, 3, 2, 1, 2, 1, 4, 2, 2, 3, 2, 5, 2, 2, 5, 3, 5, 1, 3,…\n",
            "$ n_hog      \u001b[3m\u001b[90m<int>\u001b[39m\u001b[23m 1, 1, 1, 1, 1, 1, 1, 1, 1, 1, 1, 1, 1, 1, 1, 1, 1, 1, 1, 1,…\n",
            "$ h_mud      \u001b[3m\u001b[90m<int>\u001b[39m\u001b[23m 0, 0, 0, 0, 0, 0, 1, 0, 0, 0, 0, 0, 0, 0, 0, 0, 0, 0, 0, 0,…\n",
            "$ n_ent      \u001b[3m\u001b[90m<int>\u001b[39m\u001b[23m 2, 2, 2, 2, 2, 2, 2, 2, 2, 2, 2, 2, 5, 5, 5, 5, 5, 5, 5, 5,…\n",
            "$ per        \u001b[3m\u001b[90m<int>\u001b[39m\u001b[23m 224, 224, 224, 224, 224, 224, 224, 224, 224, 224, 224, 224,…\n",
            "$ n_ren      \u001b[3m\u001b[90m<int>\u001b[39m\u001b[23m 1, 2, 1, 1, 1, 3, 2, 2, 2, 3, 1, 2, 5, 4, 2, 3, 3, 1, 1, 4,…\n",
            "$ c_res      \u001b[3m\u001b[90m<int>\u001b[39m\u001b[23m 1, 1, 1, 1, 1, 1, 1, 1, 1, 1, 1, 1, 1, 1, 1, 1, 1, 1, 1, 1,…\n",
            "$ par_c      \u001b[3m\u001b[90m<int>\u001b[39m\u001b[23m 101, 202, 101, 101, 101, 418, 201, 201, 201, 301, 101, 201,…\n",
            "$ sex        \u001b[3m\u001b[90m<int>\u001b[39m\u001b[23m 2, 2, 2, 2, 2, 2, 2, 2, 2, 2, 1, 2, 2, 1, 1, 1, 1, 2, 2, 1,…\n",
            "$ eda        \u001b[3m\u001b[90m<int>\u001b[39m\u001b[23m 33, 52, 74, 24, 24, 50, 36, 39, 52, 28, 31, 63, 19, 27, 57,…\n",
            "$ nac_dia    \u001b[3m\u001b[90m<int>\u001b[39m\u001b[23m 23, 30, 26, 11, 25, 22, 27, 27, 6, 1, 5, 22, 99, 13, 11, 4,…\n",
            "$ nac_mes    \u001b[3m\u001b[90m<int>\u001b[39m\u001b[23m 4, 4, 1, 6, 2, 7, 10, 12, 7, 1, 4, 10, 99, 9, 3, 2, 1, 4, 1…\n",
            "$ nac_anio   \u001b[3m\u001b[90m<int>\u001b[39m\u001b[23m 1990, 1971, 1950, 2000, 2000, 1973, 1987, 1984, 1971, 1996,…\n",
            "$ l_nac_c    \u001b[3m\u001b[90m<int>\u001b[39m\u001b[23m 9, 22, 13, 30, 9, 9, 9, 9, 9, 9, 15, 9, 9, 9, 9, 9, 9, 9, 9…\n",
            "$ cs_p12     \u001b[3m\u001b[90m<int>\u001b[39m\u001b[23m 1, 1, 1, 1, 1, 1, 1, 1, 1, 1, 1, 1, 1, 1, 1, 1, 1, 1, 1, 1,…\n",
            "$ cs_p13_1   \u001b[3m\u001b[90m<int>\u001b[39m\u001b[23m 7, 6, 6, 2, 7, 6, 4, 4, 4, 7, 2, 7, 4, 7, 3, 3, 2, 8, 6, 4,…\n",
            "$ cs_p13_2   \u001b[3m\u001b[90m<int>\u001b[39m\u001b[23m 1, 3, 3, 6, 5, 3, 3, 3, 3, 4, 6, 4, 2, 4, 3, 3, 6, 3, 3, 3,…\n",
            "$ cs_p14_c   \u001b[3m\u001b[90m<int>\u001b[39m\u001b[23m 41400, 41400, 101400, NA, 33100, 61300, NA, NA, NA, 42100, …\n",
            "$ cs_p15     \u001b[3m\u001b[90m<int>\u001b[39m\u001b[23m 3, 2, 1, NA, 3, 2, NA, NA, NA, 3, NA, 3, NA, 3, NA, NA, NA,…\n",
            "$ cs_p16     \u001b[3m\u001b[90m<int>\u001b[39m\u001b[23m 2, 1, 2, NA, 1, 1, NA, NA, NA, 1, NA, 1, NA, 1, NA, NA, NA,…\n",
            "$ cs_p17     \u001b[3m\u001b[90m<int>\u001b[39m\u001b[23m 2, 2, 2, 2, 2, 2, 2, 2, 2, 2, 2, 2, 1, 2, 2, 2, 2, 2, 2, 2,…\n",
            "$ n_hij      \u001b[3m\u001b[90m<int>\u001b[39m\u001b[23m 2, 2, 1, 0, 0, 2, 3, 4, 2, 0, NA, 2, 0, NA, NA, NA, NA, 0, …\n",
            "$ e_con      \u001b[3m\u001b[90m<int>\u001b[39m\u001b[23m 5, 5, 6, 6, 6, 5, 5, 1, 5, 6, 5, 5, 6, 6, 6, 5, 6, 6, 4, 6,…\n",
            "$ cs_p20a_1  \u001b[3m\u001b[90m<int>\u001b[39m\u001b[23m 1, 1, 1, 1, 1, 1, 1, 1, 1, 1, 1, 1, 1, 1, 1, 1, 1, 1, 1, 1,…\n",
            "$ cs_p20a_c  \u001b[3m\u001b[90m<int>\u001b[39m\u001b[23m 9, 9, 9, 9, 9, 9, 9, 9, 9, 9, 9, 9, 9, 9, 9, 9, 9, 9, 9, 9,…\n",
            "$ cs_p20b_1  \u001b[3m\u001b[90m<int>\u001b[39m\u001b[23m 1, 1, 1, 1, 1, 1, 1, 1, 1, 1, 1, 1, 1, 1, 1, 1, 1, 1, 1, 1,…\n",
            "$ cs_p20b_c  \u001b[3m\u001b[90m<int>\u001b[39m\u001b[23m 2, 2, 10, 6, 6, 6, 6, 6, 11, 11, 10, 13, 5, 7, 7, 15, 14, 1…\n",
            "$ cs_p20c_1  \u001b[3m\u001b[90m<int>\u001b[39m\u001b[23m NA, NA, NA, NA, NA, NA, NA, NA, NA, NA, NA, NA, NA, NA, NA,…\n",
            "$ cs_ad_mot  \u001b[3m\u001b[90m<int>\u001b[39m\u001b[23m NA, NA, NA, NA, NA, NA, NA, NA, NA, NA, NA, NA, NA, NA, NA,…\n",
            "$ cs_p21_des \u001b[3m\u001b[90m<chr>\u001b[39m\u001b[23m \"\", \"\", \"\", \"\", \"\", \"\", \"\", \"\", \"\", \"\", \"\", \"\", \"\", \"\", \"\",…\n",
            "$ cs_ad_des  \u001b[3m\u001b[90m<int>\u001b[39m\u001b[23m NA, NA, NA, NA, NA, NA, NA, NA, NA, NA, NA, NA, NA, NA, NA,…\n",
            "$ cs_nr_mot  \u001b[3m\u001b[90m<int>\u001b[39m\u001b[23m NA, NA, NA, NA, NA, NA, NA, NA, NA, NA, NA, NA, NA, NA, NA,…\n",
            "$ cs_p23_des \u001b[3m\u001b[90m<chr>\u001b[39m\u001b[23m \"\", \"\", \"\", \"\", \"\", \"\", \"\", \"\", \"\", \"\", \"\", \"\", \"\", \"\", \"\",…\n",
            "$ cs_nr_ori  \u001b[3m\u001b[90m<int>\u001b[39m\u001b[23m NA, NA, NA, NA, NA, NA, NA, NA, NA, NA, NA, NA, NA, NA, NA,…\n",
            "$ ur         \u001b[3m\u001b[90m<int>\u001b[39m\u001b[23m 1, 1, 1, 1, 1, 1, 1, 1, 1, 1, 1, 1, 1, 1, 1, 1, 1, 1, 1, 1,…\n",
            "$ zona       \u001b[3m\u001b[90m<int>\u001b[39m\u001b[23m 2, 2, 2, 2, 2, 2, 2, 2, 2, 2, 2, 2, 2, 2, 2, 2, 2, 2, 2, 2,…\n",
            "$ salario    \u001b[3m\u001b[90m<int>\u001b[39m\u001b[23m 7468, 7468, 7468, 7468, 7468, 7468, 7468, 7468, 7468, 7468,…\n",
            "$ fac_tri    \u001b[3m\u001b[90m<int>\u001b[39m\u001b[23m 2998, 2998, 862, 432, 432, 432, 1007, 1007, 1026, 1026, 341…\n",
            "$ fac_men    \u001b[3m\u001b[90m<int>\u001b[39m\u001b[23m 0, 0, 0, 4038, 4038, 0, 0, 0, 0, 0, 0, 0, 0, 0, 0, 3479, 0,…\n",
            "$ clase1     \u001b[3m\u001b[90m<int>\u001b[39m\u001b[23m 1, 1, 2, 1, 1, 1, 2, 2, 1, 1, 1, 1, 2, 1, 2, 2, 1, 1, 2, 1,…\n",
            "$ clase2     \u001b[3m\u001b[90m<int>\u001b[39m\u001b[23m 1, 1, 4, 1, 1, 1, 4, 3, 1, 2, 2, 1, 4, 1, 4, 4, 1, 1, 3, 1,…\n",
            "$ clase3     \u001b[3m\u001b[90m<int>\u001b[39m\u001b[23m 1, 3, 0, 1, 1, 1, 0, 0, 3, 6, 6, 1, 0, 1, 0, 0, 1, 1, 0, 1,…\n",
            "$ pos_ocu    \u001b[3m\u001b[90m<int>\u001b[39m\u001b[23m 1, 1, 0, 1, 1, 3, 0, 0, 1, 0, 0, 2, 0, 1, 0, 0, 1, 1, 0, 1,…\n",
            "$ seg_soc    \u001b[3m\u001b[90m<int>\u001b[39m\u001b[23m 1, 1, 0, 2, 2, 2, 0, 0, 1, 0, 0, 2, 0, 1, 0, 0, 2, 1, 0, 2,…\n",
            "$ rama       \u001b[3m\u001b[90m<int>\u001b[39m\u001b[23m 4, 1, 0, 4, 4, 3, 0, 0, 4, 0, 0, 4, 0, 1, 0, 0, 4, 4, 0, 7,…\n",
            "$ c_ocu11c   \u001b[3m\u001b[90m<int>\u001b[39m\u001b[23m 1, 5, 0, 8, 1, 6, 0, 0, 4, 0, 0, 1, 0, 1, 0, 0, 6, 1, 0, 6,…\n",
            "$ ing7c      \u001b[3m\u001b[90m<int>\u001b[39m\u001b[23m 3, 7, 0, 1, 2, 1, 0, 0, 1, 0, 0, 3, 0, 7, 0, 0, 1, 1, 0, 1,…\n",
            "$ dur9c      \u001b[3m\u001b[90m<int>\u001b[39m\u001b[23m 4, 1, 0, 8, 4, 4, 0, 0, 1, 0, 0, 3, 0, 4, 0, 0, 5, 3, 0, 4,…\n",
            "$ emple7c    \u001b[3m\u001b[90m<int>\u001b[39m\u001b[23m 6, 6, 0, 2, 3, 1, 0, 0, 6, 0, 0, 2, 0, 6, 0, 0, 4, 6, 0, 2,…\n",
            "$ medica5c   \u001b[3m\u001b[90m<int>\u001b[39m\u001b[23m 3, 3, 0, 4, 4, 1, 0, 0, 3, 0, 0, 1, 0, 3, 0, 0, 4, 3, 0, 1,…\n",
            "$ buscar5c   \u001b[3m\u001b[90m<int>\u001b[39m\u001b[23m 4, 4, 0, 4, 4, 4, 0, 0, 4, 0, 0, 4, 0, 4, 0, 0, 4, 4, 0, 4,…\n",
            "$ rama_est1  \u001b[3m\u001b[90m<int>\u001b[39m\u001b[23m 3, 2, 0, 3, 3, 3, 0, 0, 3, 0, 0, 3, 0, 2, 0, 0, 3, 3, 0, 4,…\n",
            "$ rama_est2  \u001b[3m\u001b[90m<int>\u001b[39m\u001b[23m 8, 4, 0, 6, 8, 5, 0, 0, 9, 0, 0, 8, 0, 4, 0, 0, 6, 11, 0, 0…\n",
            "$ dur_est    \u001b[3m\u001b[90m<int>\u001b[39m\u001b[23m 3, 1, 0, 5, 3, 3, 0, 0, 1, 0, 0, 3, 0, 3, 0, 0, 4, 3, 0, 3,…\n",
            "$ ambito1    \u001b[3m\u001b[90m<int>\u001b[39m\u001b[23m 2, 2, 0, 2, 2, 2, 0, 0, 2, 0, 0, 2, 0, 2, 0, 0, 2, 2, 0, 2,…\n",
            "$ ambito2    \u001b[3m\u001b[90m<int>\u001b[39m\u001b[23m 5, 5, 0, 3, 4, 3, 0, 0, 5, 0, 0, 3, 0, 5, 0, 0, 4, 7, 0, 8,…\n",
            "$ tue1       \u001b[3m\u001b[90m<int>\u001b[39m\u001b[23m 1, 1, 0, 1, 1, 3, 0, 0, 2, 0, 0, 1, 0, 1, 0, 0, 1, 2, 0, 4,…\n",
            "$ tue2       \u001b[3m\u001b[90m<int>\u001b[39m\u001b[23m 1, 1, 0, 2, 1, 5, 0, 0, 4, 0, 0, 2, 0, 1, 0, 0, 2, 4, 0, 0,…\n",
            "$ tue3       \u001b[3m\u001b[90m<int>\u001b[39m\u001b[23m 0, 0, 0, 0, 0, 0, 0, 0, 1, 0, 0, 0, 0, 0, 0, 0, 0, 2, 0, 0,…\n",
            "$ busqueda   \u001b[3m\u001b[90m<int>\u001b[39m\u001b[23m 2, 2, 0, 2, 2, 2, 0, 0, 2, 0, 0, 2, 0, 2, 0, 0, 2, 2, 0, 2,…\n",
            "$ d_ant_lab  \u001b[3m\u001b[90m<int>\u001b[39m\u001b[23m 0, 0, 0, 0, 0, 0, 0, 0, 0, 1, 1, 0, 0, 0, 0, 0, 0, 0, 0, 0,…\n",
            "$ d_cexp_est \u001b[3m\u001b[90m<int>\u001b[39m\u001b[23m 0, 0, 0, 0, 0, 0, 0, 0, 0, 2, 2, 0, 0, 0, 0, 0, 0, 0, 0, 0,…\n",
            "$ dur_des    \u001b[3m\u001b[90m<int>\u001b[39m\u001b[23m 0, 0, 0, 0, 0, 0, 0, 0, 0, 4, 6, 0, 0, 0, 0, 0, 0, 0, 0, 0,…\n",
            "$ sub_o      \u001b[3m\u001b[90m<int>\u001b[39m\u001b[23m 0, 0, 0, 0, 0, 1, 0, 0, 0, 0, 0, 0, 0, 0, 0, 0, 0, 0, 0, 0,…\n",
            "$ s_clasifi  \u001b[3m\u001b[90m<int>\u001b[39m\u001b[23m 0, 0, 0, 0, 0, 3, 0, 0, 0, 0, 0, 0, 0, 0, 0, 0, 0, 0, 0, 0,…\n",
            "$ remune2c   \u001b[3m\u001b[90m<int>\u001b[39m\u001b[23m 1, 1, 0, 1, 1, 0, 0, 0, 1, 0, 0, 0, 0, 1, 0, 0, 1, 1, 0, 2,…\n",
            "$ pre_asa    \u001b[3m\u001b[90m<int>\u001b[39m\u001b[23m 1, 1, 0, 1, 1, 0, 0, 0, 1, 0, 0, 0, 0, 1, 0, 0, 1, 1, 0, 2,…\n",
            "$ tip_con    \u001b[3m\u001b[90m<int>\u001b[39m\u001b[23m 3, 3, 0, 5, 5, 0, 0, 0, 3, 0, 0, 0, 0, 3, 0, 0, 5, 3, 0, 5,…\n",
            "$ dispo      \u001b[3m\u001b[90m<int>\u001b[39m\u001b[23m 0, 0, 0, 0, 0, 0, 0, 4, 0, 0, 0, 0, 0, 0, 0, 0, 0, 0, 4, 0,…\n",
            "$ nodispo    \u001b[3m\u001b[90m<int>\u001b[39m\u001b[23m 0, 0, 3, 0, 0, 0, 9, 0, 0, 0, 0, 0, 3, 0, 9, 3, 0, 0, 0, 0,…\n",
            "$ c_inac5c   \u001b[3m\u001b[90m<int>\u001b[39m\u001b[23m 0, 0, 2, 0, 0, 0, 2, 2, 0, 0, 0, 0, 1, 0, 2, 3, 0, 0, 2, 0,…\n",
            "$ pnea_est   \u001b[3m\u001b[90m<int>\u001b[39m\u001b[23m 0, 0, 4, 0, 0, 0, 3, 2, 0, 0, 0, 0, 4, 0, 3, 4, 0, 0, 2, 0,…\n",
            "$ niv_ins    \u001b[3m\u001b[90m<int>\u001b[39m\u001b[23m 4, 3, 2, 2, 4, 3, 4, 4, 4, 4, 2, 4, 3, 4, 3, 3, 2, 4, 3, 4,…\n",
            "$ eda5c      \u001b[3m\u001b[90m<int>\u001b[39m\u001b[23m 2, 3, 4, 1, 1, 3, 2, 2, 3, 2, 2, 3, 1, 2, 3, 4, 1, 2, 3, 1,…\n",
            "$ eda7c      \u001b[3m\u001b[90m<int>\u001b[39m\u001b[23m 3, 5, 6, 2, 2, 5, 3, 3, 5, 2, 3, 6, 1, 2, 5, 6, 1, 3, 6, 1,…\n",
            "$ eda12c     \u001b[3m\u001b[90m<int>\u001b[39m\u001b[23m 4, 8, 11, 2, 2, 8, 5, 5, 8, 3, 4, 10, 1, 3, 9, 11, 1, 5, 10…\n",
            "$ eda19c     \u001b[3m\u001b[90m<int>\u001b[39m\u001b[23m 9, 13, 17, 7, 7, 13, 10, 10, 13, 8, 9, 15, 6, 8, 14, 16, 6,…\n",
            "$ hij5c      \u001b[3m\u001b[90m<int>\u001b[39m\u001b[23m 2, 2, 2, 1, 1, 2, 3, 3, 2, 1, 0, 2, 1, 0, 0, 0, 0, 1, 3, 0,…\n",
            "$ domestico  \u001b[3m\u001b[90m<int>\u001b[39m\u001b[23m 3, 3, 8, 3, 3, 3, 8, 8, 3, 3, 3, 3, 8, 3, 8, 9, 3, 3, 8, 3,…\n",
            "$ anios_esc  \u001b[3m\u001b[90m<int>\u001b[39m\u001b[23m 13, 12, 9, 6, 17, 12, 12, 12, 12, 16, 6, 16, 11, 16, 9, 9, …\n",
            "$ hrsocup    \u001b[3m\u001b[90m<int>\u001b[39m\u001b[23m 30, 0, 0, 66, 30, 25, 0, 0, 0, 0, 0, 24, 0, 30, 0, 0, 36, 1…\n",
            "$ ingocup    \u001b[3m\u001b[90m<int>\u001b[39m\u001b[23m 20000, 0, 0, 5160, 10000, 0, 0, 0, 7000, 0, 0, 0, 0, 0, 0, …\n",
            "$ ing_x_hrs  \u001b[3m\u001b[90m<dbl>\u001b[39m\u001b[23m 155.03876, 0.00000, 0.00000, 18.18182, 77.51938, 0.00000, 0…\n",
            "$ tpg_p8a    \u001b[3m\u001b[90m<int>\u001b[39m\u001b[23m 0, 0, 0, 0, 0, 0, 0, 0, 0, 0, 0, 0, 0, 0, 0, 0, 0, 0, 0, 0,…\n",
            "$ tcco       \u001b[3m\u001b[90m<int>\u001b[39m\u001b[23m 0, 0, 0, 2, 0, 1, 0, 0, 0, 0, 0, 0, 0, 0, 0, 0, 2, 0, 0, 0,…\n",
            "$ cp_anoc    \u001b[3m\u001b[90m<int>\u001b[39m\u001b[23m 0, 0, 0, 0, 0, 1, 0, 0, 0, 0, 0, 0, 0, 0, 0, 0, 0, 0, 0, 0,…\n",
            "$ imssissste \u001b[3m\u001b[90m<int>\u001b[39m\u001b[23m 1, 1, 0, 4, 4, 4, 0, 0, 2, 0, 0, 4, 0, 1, 0, 0, 4, 2, 0, 4,…\n",
            "$ ma48me1sm  \u001b[3m\u001b[90m<int>\u001b[39m\u001b[23m 0, 0, 0, 1, 0, 0, 0, 0, 0, 0, 0, 0, 0, 0, 0, 0, 0, 0, 0, 0,…\n",
            "$ p14apoyos  \u001b[3m\u001b[90m<int>\u001b[39m\u001b[23m 0, 0, 0, 0, 0, 0, 0, 0, 0, 0, 0, 0, 0, 0, 0, 0, 0, 0, 0, 0,…\n",
            "$ scian      \u001b[3m\u001b[90m<int>\u001b[39m\u001b[23m 12, 4, 0, 18, 12, 7, 0, 0, 15, 0, 0, 12, 0, 4, 0, 0, 18, 20…\n",
            "$ t_tra      \u001b[3m\u001b[90m<int>\u001b[39m\u001b[23m 1, 1, 1, 1, 1, 1, 1, 1, 1, 1, 1, 1, 1, 1, 1, 1, 1, 1, 1, 1,…\n",
            "$ emp_ppal   \u001b[3m\u001b[90m<int>\u001b[39m\u001b[23m 2, 2, 0, 1, 1, 1, 0, 0, 2, 0, 0, 2, 0, 2, 0, 0, 1, 2, 0, 1,…\n",
            "$ tue_ppal   \u001b[3m\u001b[90m<int>\u001b[39m\u001b[23m 2, 2, 0, 2, 2, 1, 0, 0, 2, 0, 0, 2, 0, 2, 0, 0, 2, 2, 0, 2,…\n",
            "$ trans_ppal \u001b[3m\u001b[90m<int>\u001b[39m\u001b[23m 0, 0, 0, 0, 0, 0, 0, 0, 0, 0, 0, 0, 0, 0, 0, 0, 0, 0, 0, 0,…\n",
            "$ mh_fil2    \u001b[3m\u001b[90m<int>\u001b[39m\u001b[23m 3, 3, 0, 3, 3, 1, 0, 0, 3, 0, 0, 3, 0, 3, 0, 0, 3, 3, 0, 3,…\n",
            "$ mh_col     \u001b[3m\u001b[90m<int>\u001b[39m\u001b[23m 2, 2, 0, 1, 1, 7, 0, 0, 2, 0, 0, 6, 0, 2, 0, 0, 1, 2, 0, 3,…\n",
            "$ sec_ins    \u001b[3m\u001b[90m<int>\u001b[39m\u001b[23m 2, 2, 0, 4, 2, 8, 0, 0, 7, 0, 0, 4, 0, 2, 0, 0, 4, 5, 0, 11…\n",
            "$ tipo       \u001b[3m\u001b[90m<int>\u001b[39m\u001b[23m 1, 1, 1, 2, 2, 1, 1, 1, 1, 1, 1, 1, 1, 1, 1, 2, 1, 1, 1, 1,…\n",
            "$ mes_cal    \u001b[3m\u001b[90m<int>\u001b[39m\u001b[23m 97, 97, 97, 6, 6, 97, 97, 97, 97, 97, 97, 97, 97, 97, 97, 4…\n"
          ]
        }
      ]
    },
    {
      "cell_type": "code",
      "source": [
        "#Primera 15 filas\n",
        "head(df_enoe, 15)"
      ],
      "metadata": {
        "colab": {
          "base_uri": "https://localhost:8080/",
          "height": 568
        },
        "id": "g_ddDw1Z_A68",
        "outputId": "1a5c1596-b735-4617-94fc-99508b653da3"
      },
      "execution_count": null,
      "outputs": [
        {
          "output_type": "display_data",
          "data": {
            "text/html": [
              "<table class=\"dataframe\">\n",
              "<caption>A data.table: 15 × 114</caption>\n",
              "<thead>\n",
              "\t<tr><th scope=col>r_def</th><th scope=col>loc</th><th scope=col>mun</th><th scope=col>est</th><th scope=col>est_d_tri</th><th scope=col>est_d_men</th><th scope=col>ageb</th><th scope=col>t_loc_tri</th><th scope=col>t_loc_men</th><th scope=col>cd_a</th><th scope=col>⋯</th><th scope=col>scian</th><th scope=col>t_tra</th><th scope=col>emp_ppal</th><th scope=col>tue_ppal</th><th scope=col>trans_ppal</th><th scope=col>mh_fil2</th><th scope=col>mh_col</th><th scope=col>sec_ins</th><th scope=col>tipo</th><th scope=col>mes_cal</th></tr>\n",
              "\t<tr><th scope=col>&lt;int&gt;</th><th scope=col>&lt;lgl&gt;</th><th scope=col>&lt;int&gt;</th><th scope=col>&lt;int&gt;</th><th scope=col>&lt;int&gt;</th><th scope=col>&lt;int&gt;</th><th scope=col>&lt;int&gt;</th><th scope=col>&lt;int&gt;</th><th scope=col>&lt;int&gt;</th><th scope=col>&lt;int&gt;</th><th scope=col>⋯</th><th scope=col>&lt;int&gt;</th><th scope=col>&lt;int&gt;</th><th scope=col>&lt;int&gt;</th><th scope=col>&lt;int&gt;</th><th scope=col>&lt;int&gt;</th><th scope=col>&lt;int&gt;</th><th scope=col>&lt;int&gt;</th><th scope=col>&lt;int&gt;</th><th scope=col>&lt;int&gt;</th><th scope=col>&lt;int&gt;</th></tr>\n",
              "</thead>\n",
              "<tbody>\n",
              "\t<tr><td>0</td><td>NA</td><td> 2</td><td>10</td><td>122</td><td> NA</td><td>0</td><td>1</td><td>NA</td><td>1</td><td>⋯</td><td>12</td><td>1</td><td>2</td><td>2</td><td>0</td><td>3</td><td>2</td><td>2</td><td>1</td><td>97</td></tr>\n",
              "\t<tr><td>0</td><td>NA</td><td> 2</td><td>10</td><td>122</td><td> NA</td><td>0</td><td>1</td><td>NA</td><td>1</td><td>⋯</td><td> 4</td><td>1</td><td>2</td><td>2</td><td>0</td><td>3</td><td>2</td><td>2</td><td>1</td><td>97</td></tr>\n",
              "\t<tr><td>0</td><td>NA</td><td>10</td><td>30</td><td>124</td><td> NA</td><td>0</td><td>1</td><td>NA</td><td>1</td><td>⋯</td><td> 0</td><td>1</td><td>0</td><td>0</td><td>0</td><td>0</td><td>0</td><td>0</td><td>1</td><td>97</td></tr>\n",
              "\t<tr><td>0</td><td>NA</td><td> 6</td><td>20</td><td>123</td><td>117</td><td>0</td><td>1</td><td> 1</td><td>1</td><td>⋯</td><td>18</td><td>1</td><td>1</td><td>2</td><td>0</td><td>3</td><td>1</td><td>4</td><td>2</td><td> 6</td></tr>\n",
              "\t<tr><td>0</td><td>NA</td><td> 6</td><td>20</td><td>123</td><td>117</td><td>0</td><td>1</td><td> 1</td><td>1</td><td>⋯</td><td>12</td><td>1</td><td>1</td><td>2</td><td>0</td><td>3</td><td>1</td><td>2</td><td>2</td><td> 6</td></tr>\n",
              "\t<tr><td>0</td><td>NA</td><td> 6</td><td>20</td><td>123</td><td> NA</td><td>0</td><td>1</td><td>NA</td><td>1</td><td>⋯</td><td> 7</td><td>1</td><td>1</td><td>1</td><td>0</td><td>1</td><td>7</td><td>8</td><td>1</td><td>97</td></tr>\n",
              "\t<tr><td>0</td><td>NA</td><td> 6</td><td>30</td><td>124</td><td> NA</td><td>0</td><td>1</td><td>NA</td><td>1</td><td>⋯</td><td> 0</td><td>1</td><td>0</td><td>0</td><td>0</td><td>0</td><td>0</td><td>0</td><td>1</td><td>97</td></tr>\n",
              "\t<tr><td>0</td><td>NA</td><td> 6</td><td>30</td><td>124</td><td> NA</td><td>0</td><td>1</td><td>NA</td><td>1</td><td>⋯</td><td> 0</td><td>1</td><td>0</td><td>0</td><td>0</td><td>0</td><td>0</td><td>0</td><td>1</td><td>97</td></tr>\n",
              "\t<tr><td>0</td><td>NA</td><td>11</td><td>20</td><td>123</td><td> NA</td><td>0</td><td>1</td><td>NA</td><td>1</td><td>⋯</td><td>15</td><td>1</td><td>2</td><td>2</td><td>0</td><td>3</td><td>2</td><td>7</td><td>1</td><td>97</td></tr>\n",
              "\t<tr><td>0</td><td>NA</td><td>11</td><td>20</td><td>123</td><td> NA</td><td>0</td><td>1</td><td>NA</td><td>1</td><td>⋯</td><td> 0</td><td>1</td><td>0</td><td>0</td><td>0</td><td>0</td><td>0</td><td>0</td><td>1</td><td>97</td></tr>\n",
              "\t<tr><td>0</td><td>NA</td><td>10</td><td>30</td><td>124</td><td> NA</td><td>0</td><td>1</td><td>NA</td><td>1</td><td>⋯</td><td> 0</td><td>1</td><td>0</td><td>0</td><td>0</td><td>0</td><td>0</td><td>0</td><td>1</td><td>97</td></tr>\n",
              "\t<tr><td>0</td><td>NA</td><td>13</td><td>20</td><td>123</td><td> NA</td><td>0</td><td>1</td><td>NA</td><td>1</td><td>⋯</td><td>12</td><td>1</td><td>2</td><td>2</td><td>0</td><td>3</td><td>6</td><td>4</td><td>1</td><td>97</td></tr>\n",
              "\t<tr><td>0</td><td>NA</td><td> 5</td><td>30</td><td>124</td><td> NA</td><td>0</td><td>1</td><td>NA</td><td>1</td><td>⋯</td><td> 0</td><td>1</td><td>0</td><td>0</td><td>0</td><td>0</td><td>0</td><td>0</td><td>1</td><td>97</td></tr>\n",
              "\t<tr><td>0</td><td>NA</td><td> 7</td><td>20</td><td>123</td><td> NA</td><td>0</td><td>1</td><td>NA</td><td>1</td><td>⋯</td><td> 4</td><td>1</td><td>2</td><td>2</td><td>0</td><td>3</td><td>2</td><td>2</td><td>1</td><td>97</td></tr>\n",
              "\t<tr><td>0</td><td>NA</td><td> 7</td><td>30</td><td>124</td><td> NA</td><td>0</td><td>1</td><td>NA</td><td>1</td><td>⋯</td><td> 0</td><td>1</td><td>0</td><td>0</td><td>0</td><td>0</td><td>0</td><td>0</td><td>1</td><td>97</td></tr>\n",
              "</tbody>\n",
              "</table>\n"
            ],
            "text/markdown": "\nA data.table: 15 × 114\n\n| r_def &lt;int&gt; | loc &lt;lgl&gt; | mun &lt;int&gt; | est &lt;int&gt; | est_d_tri &lt;int&gt; | est_d_men &lt;int&gt; | ageb &lt;int&gt; | t_loc_tri &lt;int&gt; | t_loc_men &lt;int&gt; | cd_a &lt;int&gt; | ⋯ ⋯ | scian &lt;int&gt; | t_tra &lt;int&gt; | emp_ppal &lt;int&gt; | tue_ppal &lt;int&gt; | trans_ppal &lt;int&gt; | mh_fil2 &lt;int&gt; | mh_col &lt;int&gt; | sec_ins &lt;int&gt; | tipo &lt;int&gt; | mes_cal &lt;int&gt; |\n|---|---|---|---|---|---|---|---|---|---|---|---|---|---|---|---|---|---|---|---|---|\n| 0 | NA |  2 | 10 | 122 |  NA | 0 | 1 | NA | 1 | ⋯ | 12 | 1 | 2 | 2 | 0 | 3 | 2 | 2 | 1 | 97 |\n| 0 | NA |  2 | 10 | 122 |  NA | 0 | 1 | NA | 1 | ⋯ |  4 | 1 | 2 | 2 | 0 | 3 | 2 | 2 | 1 | 97 |\n| 0 | NA | 10 | 30 | 124 |  NA | 0 | 1 | NA | 1 | ⋯ |  0 | 1 | 0 | 0 | 0 | 0 | 0 | 0 | 1 | 97 |\n| 0 | NA |  6 | 20 | 123 | 117 | 0 | 1 |  1 | 1 | ⋯ | 18 | 1 | 1 | 2 | 0 | 3 | 1 | 4 | 2 |  6 |\n| 0 | NA |  6 | 20 | 123 | 117 | 0 | 1 |  1 | 1 | ⋯ | 12 | 1 | 1 | 2 | 0 | 3 | 1 | 2 | 2 |  6 |\n| 0 | NA |  6 | 20 | 123 |  NA | 0 | 1 | NA | 1 | ⋯ |  7 | 1 | 1 | 1 | 0 | 1 | 7 | 8 | 1 | 97 |\n| 0 | NA |  6 | 30 | 124 |  NA | 0 | 1 | NA | 1 | ⋯ |  0 | 1 | 0 | 0 | 0 | 0 | 0 | 0 | 1 | 97 |\n| 0 | NA |  6 | 30 | 124 |  NA | 0 | 1 | NA | 1 | ⋯ |  0 | 1 | 0 | 0 | 0 | 0 | 0 | 0 | 1 | 97 |\n| 0 | NA | 11 | 20 | 123 |  NA | 0 | 1 | NA | 1 | ⋯ | 15 | 1 | 2 | 2 | 0 | 3 | 2 | 7 | 1 | 97 |\n| 0 | NA | 11 | 20 | 123 |  NA | 0 | 1 | NA | 1 | ⋯ |  0 | 1 | 0 | 0 | 0 | 0 | 0 | 0 | 1 | 97 |\n| 0 | NA | 10 | 30 | 124 |  NA | 0 | 1 | NA | 1 | ⋯ |  0 | 1 | 0 | 0 | 0 | 0 | 0 | 0 | 1 | 97 |\n| 0 | NA | 13 | 20 | 123 |  NA | 0 | 1 | NA | 1 | ⋯ | 12 | 1 | 2 | 2 | 0 | 3 | 6 | 4 | 1 | 97 |\n| 0 | NA |  5 | 30 | 124 |  NA | 0 | 1 | NA | 1 | ⋯ |  0 | 1 | 0 | 0 | 0 | 0 | 0 | 0 | 1 | 97 |\n| 0 | NA |  7 | 20 | 123 |  NA | 0 | 1 | NA | 1 | ⋯ |  4 | 1 | 2 | 2 | 0 | 3 | 2 | 2 | 1 | 97 |\n| 0 | NA |  7 | 30 | 124 |  NA | 0 | 1 | NA | 1 | ⋯ |  0 | 1 | 0 | 0 | 0 | 0 | 0 | 0 | 1 | 97 |\n\n",
            "text/latex": "A data.table: 15 × 114\n\\begin{tabular}{lllllllllllllllllllll}\n r\\_def & loc & mun & est & est\\_d\\_tri & est\\_d\\_men & ageb & t\\_loc\\_tri & t\\_loc\\_men & cd\\_a & ⋯ & scian & t\\_tra & emp\\_ppal & tue\\_ppal & trans\\_ppal & mh\\_fil2 & mh\\_col & sec\\_ins & tipo & mes\\_cal\\\\\n <int> & <lgl> & <int> & <int> & <int> & <int> & <int> & <int> & <int> & <int> & ⋯ & <int> & <int> & <int> & <int> & <int> & <int> & <int> & <int> & <int> & <int>\\\\\n\\hline\n\t 0 & NA &  2 & 10 & 122 &  NA & 0 & 1 & NA & 1 & ⋯ & 12 & 1 & 2 & 2 & 0 & 3 & 2 & 2 & 1 & 97\\\\\n\t 0 & NA &  2 & 10 & 122 &  NA & 0 & 1 & NA & 1 & ⋯ &  4 & 1 & 2 & 2 & 0 & 3 & 2 & 2 & 1 & 97\\\\\n\t 0 & NA & 10 & 30 & 124 &  NA & 0 & 1 & NA & 1 & ⋯ &  0 & 1 & 0 & 0 & 0 & 0 & 0 & 0 & 1 & 97\\\\\n\t 0 & NA &  6 & 20 & 123 & 117 & 0 & 1 &  1 & 1 & ⋯ & 18 & 1 & 1 & 2 & 0 & 3 & 1 & 4 & 2 &  6\\\\\n\t 0 & NA &  6 & 20 & 123 & 117 & 0 & 1 &  1 & 1 & ⋯ & 12 & 1 & 1 & 2 & 0 & 3 & 1 & 2 & 2 &  6\\\\\n\t 0 & NA &  6 & 20 & 123 &  NA & 0 & 1 & NA & 1 & ⋯ &  7 & 1 & 1 & 1 & 0 & 1 & 7 & 8 & 1 & 97\\\\\n\t 0 & NA &  6 & 30 & 124 &  NA & 0 & 1 & NA & 1 & ⋯ &  0 & 1 & 0 & 0 & 0 & 0 & 0 & 0 & 1 & 97\\\\\n\t 0 & NA &  6 & 30 & 124 &  NA & 0 & 1 & NA & 1 & ⋯ &  0 & 1 & 0 & 0 & 0 & 0 & 0 & 0 & 1 & 97\\\\\n\t 0 & NA & 11 & 20 & 123 &  NA & 0 & 1 & NA & 1 & ⋯ & 15 & 1 & 2 & 2 & 0 & 3 & 2 & 7 & 1 & 97\\\\\n\t 0 & NA & 11 & 20 & 123 &  NA & 0 & 1 & NA & 1 & ⋯ &  0 & 1 & 0 & 0 & 0 & 0 & 0 & 0 & 1 & 97\\\\\n\t 0 & NA & 10 & 30 & 124 &  NA & 0 & 1 & NA & 1 & ⋯ &  0 & 1 & 0 & 0 & 0 & 0 & 0 & 0 & 1 & 97\\\\\n\t 0 & NA & 13 & 20 & 123 &  NA & 0 & 1 & NA & 1 & ⋯ & 12 & 1 & 2 & 2 & 0 & 3 & 6 & 4 & 1 & 97\\\\\n\t 0 & NA &  5 & 30 & 124 &  NA & 0 & 1 & NA & 1 & ⋯ &  0 & 1 & 0 & 0 & 0 & 0 & 0 & 0 & 1 & 97\\\\\n\t 0 & NA &  7 & 20 & 123 &  NA & 0 & 1 & NA & 1 & ⋯ &  4 & 1 & 2 & 2 & 0 & 3 & 2 & 2 & 1 & 97\\\\\n\t 0 & NA &  7 & 30 & 124 &  NA & 0 & 1 & NA & 1 & ⋯ &  0 & 1 & 0 & 0 & 0 & 0 & 0 & 0 & 1 & 97\\\\\n\\end{tabular}\n",
            "text/plain": [
              "   r_def loc mun est est_d_tri est_d_men ageb t_loc_tri t_loc_men cd_a ⋯ scian\n",
              "1  0     NA   2  10  122        NA       0    1         NA        1    ⋯ 12   \n",
              "2  0     NA   2  10  122        NA       0    1         NA        1    ⋯  4   \n",
              "3  0     NA  10  30  124        NA       0    1         NA        1    ⋯  0   \n",
              "4  0     NA   6  20  123       117       0    1          1        1    ⋯ 18   \n",
              "5  0     NA   6  20  123       117       0    1          1        1    ⋯ 12   \n",
              "6  0     NA   6  20  123        NA       0    1         NA        1    ⋯  7   \n",
              "7  0     NA   6  30  124        NA       0    1         NA        1    ⋯  0   \n",
              "8  0     NA   6  30  124        NA       0    1         NA        1    ⋯  0   \n",
              "9  0     NA  11  20  123        NA       0    1         NA        1    ⋯ 15   \n",
              "10 0     NA  11  20  123        NA       0    1         NA        1    ⋯  0   \n",
              "11 0     NA  10  30  124        NA       0    1         NA        1    ⋯  0   \n",
              "12 0     NA  13  20  123        NA       0    1         NA        1    ⋯ 12   \n",
              "13 0     NA   5  30  124        NA       0    1         NA        1    ⋯  0   \n",
              "14 0     NA   7  20  123        NA       0    1         NA        1    ⋯  4   \n",
              "15 0     NA   7  30  124        NA       0    1         NA        1    ⋯  0   \n",
              "   t_tra emp_ppal tue_ppal trans_ppal mh_fil2 mh_col sec_ins tipo mes_cal\n",
              "1  1     2        2        0          3       2      2       1    97     \n",
              "2  1     2        2        0          3       2      2       1    97     \n",
              "3  1     0        0        0          0       0      0       1    97     \n",
              "4  1     1        2        0          3       1      4       2     6     \n",
              "5  1     1        2        0          3       1      2       2     6     \n",
              "6  1     1        1        0          1       7      8       1    97     \n",
              "7  1     0        0        0          0       0      0       1    97     \n",
              "8  1     0        0        0          0       0      0       1    97     \n",
              "9  1     2        2        0          3       2      7       1    97     \n",
              "10 1     0        0        0          0       0      0       1    97     \n",
              "11 1     0        0        0          0       0      0       1    97     \n",
              "12 1     2        2        0          3       6      4       1    97     \n",
              "13 1     0        0        0          0       0      0       1    97     \n",
              "14 1     2        2        0          3       2      2       1    97     \n",
              "15 1     0        0        0          0       0      0       1    97     "
            ]
          },
          "metadata": {}
        }
      ]
    },
    {
      "cell_type": "markdown",
      "source": [
        "## **Identificar los UPM, Estrato, Ponderadores**"
      ],
      "metadata": {
        "id": "9PX_JcMY_hnv"
      }
    },
    {
      "cell_type": "code",
      "source": [
        "#En la ENOE son las siguientes: upm, etc ,fact_tri\n",
        "df_enoe |>\n",
        "  select(upm, est, fac_tri)"
      ],
      "metadata": {
        "colab": {
          "base_uri": "https://localhost:8080/",
          "height": 1000
        },
        "id": "bXHO-lnw_nl9",
        "outputId": "4eeeb23e-bdcc-46f7-bc0b-6732b99ef99f"
      },
      "execution_count": null,
      "outputs": [
        {
          "output_type": "display_data",
          "data": {
            "text/html": [
              "<table class=\"dataframe\">\n",
              "<caption>A data.table: 427123 × 3</caption>\n",
              "<thead>\n",
              "\t<tr><th scope=col>upm</th><th scope=col>est</th><th scope=col>fac_tri</th></tr>\n",
              "\t<tr><th scope=col>&lt;int&gt;</th><th scope=col>&lt;int&gt;</th><th scope=col>&lt;int&gt;</th></tr>\n",
              "</thead>\n",
              "<tbody>\n",
              "\t<tr><td>900987</td><td>10</td><td>2998</td></tr>\n",
              "\t<tr><td>900987</td><td>10</td><td>2998</td></tr>\n",
              "\t<tr><td>912033</td><td>30</td><td> 862</td></tr>\n",
              "\t<tr><td>906619</td><td>20</td><td> 432</td></tr>\n",
              "\t<tr><td>906619</td><td>20</td><td> 432</td></tr>\n",
              "\t<tr><td>906619</td><td>20</td><td> 432</td></tr>\n",
              "\t<tr><td>906094</td><td>30</td><td>1007</td></tr>\n",
              "\t<tr><td>906094</td><td>30</td><td>1007</td></tr>\n",
              "\t<tr><td>913239</td><td>20</td><td>1026</td></tr>\n",
              "\t<tr><td>913239</td><td>20</td><td>1026</td></tr>\n",
              "\t<tr><td>912168</td><td>30</td><td>3416</td></tr>\n",
              "\t<tr><td>915641</td><td>20</td><td>2310</td></tr>\n",
              "\t<tr><td>903064</td><td>30</td><td>1064</td></tr>\n",
              "\t<tr><td>908007</td><td>20</td><td>1373</td></tr>\n",
              "\t<tr><td>907719</td><td>30</td><td> 911</td></tr>\n",
              "\t<tr><td>917542</td><td>20</td><td> 631</td></tr>\n",
              "\t<tr><td>917277</td><td>30</td><td> 538</td></tr>\n",
              "\t<tr><td>917277</td><td>30</td><td> 538</td></tr>\n",
              "\t<tr><td>900219</td><td>30</td><td>1294</td></tr>\n",
              "\t<tr><td>900219</td><td>30</td><td>1294</td></tr>\n",
              "\t<tr><td>920583</td><td>20</td><td> 826</td></tr>\n",
              "\t<tr><td>916876</td><td>40</td><td>1117</td></tr>\n",
              "\t<tr><td>902996</td><td>30</td><td>1217</td></tr>\n",
              "\t<tr><td>902996</td><td>30</td><td>1217</td></tr>\n",
              "\t<tr><td>902996</td><td>30</td><td>1217</td></tr>\n",
              "\t<tr><td>902996</td><td>30</td><td>1217</td></tr>\n",
              "\t<tr><td>902996</td><td>30</td><td>1217</td></tr>\n",
              "\t<tr><td>921622</td><td>20</td><td> 877</td></tr>\n",
              "\t<tr><td>921622</td><td>20</td><td> 877</td></tr>\n",
              "\t<tr><td>909615</td><td>30</td><td> 913</td></tr>\n",
              "\t<tr><td>⋮</td><td>⋮</td><td>⋮</td></tr>\n",
              "\t<tr><td>3260768</td><td>20</td><td>220</td></tr>\n",
              "\t<tr><td>3260768</td><td>20</td><td>220</td></tr>\n",
              "\t<tr><td>3260650</td><td>10</td><td>230</td></tr>\n",
              "\t<tr><td>3260650</td><td>10</td><td>230</td></tr>\n",
              "\t<tr><td>3260650</td><td>10</td><td>230</td></tr>\n",
              "\t<tr><td>3260750</td><td>20</td><td>290</td></tr>\n",
              "\t<tr><td>3260048</td><td>20</td><td>176</td></tr>\n",
              "\t<tr><td>3260405</td><td>10</td><td>142</td></tr>\n",
              "\t<tr><td>3260405</td><td>10</td><td>142</td></tr>\n",
              "\t<tr><td>3260405</td><td>10</td><td>142</td></tr>\n",
              "\t<tr><td>3260404</td><td>10</td><td>244</td></tr>\n",
              "\t<tr><td>3260404</td><td>10</td><td>244</td></tr>\n",
              "\t<tr><td>3260404</td><td>10</td><td>244</td></tr>\n",
              "\t<tr><td>3260695</td><td>20</td><td>143</td></tr>\n",
              "\t<tr><td>3260695</td><td>20</td><td>143</td></tr>\n",
              "\t<tr><td>3260002</td><td>20</td><td>220</td></tr>\n",
              "\t<tr><td>3260689</td><td>20</td><td>265</td></tr>\n",
              "\t<tr><td>3260689</td><td>20</td><td>265</td></tr>\n",
              "\t<tr><td>3260689</td><td>20</td><td>265</td></tr>\n",
              "\t<tr><td>3260689</td><td>20</td><td>265</td></tr>\n",
              "\t<tr><td>3260689</td><td>20</td><td>265</td></tr>\n",
              "\t<tr><td>3260810</td><td>20</td><td>283</td></tr>\n",
              "\t<tr><td>3260860</td><td>20</td><td>290</td></tr>\n",
              "\t<tr><td>3260860</td><td>20</td><td>290</td></tr>\n",
              "\t<tr><td>3260962</td><td>20</td><td>220</td></tr>\n",
              "\t<tr><td>3261261</td><td>20</td><td>266</td></tr>\n",
              "\t<tr><td>3261261</td><td>20</td><td>266</td></tr>\n",
              "\t<tr><td>3261261</td><td>20</td><td>266</td></tr>\n",
              "\t<tr><td>3261198</td><td>30</td><td> 48</td></tr>\n",
              "\t<tr><td>3261198</td><td>30</td><td> 48</td></tr>\n",
              "</tbody>\n",
              "</table>\n"
            ],
            "text/markdown": "\nA data.table: 427123 × 3\n\n| upm &lt;int&gt; | est &lt;int&gt; | fac_tri &lt;int&gt; |\n|---|---|---|\n| 900987 | 10 | 2998 |\n| 900987 | 10 | 2998 |\n| 912033 | 30 |  862 |\n| 906619 | 20 |  432 |\n| 906619 | 20 |  432 |\n| 906619 | 20 |  432 |\n| 906094 | 30 | 1007 |\n| 906094 | 30 | 1007 |\n| 913239 | 20 | 1026 |\n| 913239 | 20 | 1026 |\n| 912168 | 30 | 3416 |\n| 915641 | 20 | 2310 |\n| 903064 | 30 | 1064 |\n| 908007 | 20 | 1373 |\n| 907719 | 30 |  911 |\n| 917542 | 20 |  631 |\n| 917277 | 30 |  538 |\n| 917277 | 30 |  538 |\n| 900219 | 30 | 1294 |\n| 900219 | 30 | 1294 |\n| 920583 | 20 |  826 |\n| 916876 | 40 | 1117 |\n| 902996 | 30 | 1217 |\n| 902996 | 30 | 1217 |\n| 902996 | 30 | 1217 |\n| 902996 | 30 | 1217 |\n| 902996 | 30 | 1217 |\n| 921622 | 20 |  877 |\n| 921622 | 20 |  877 |\n| 909615 | 30 |  913 |\n| ⋮ | ⋮ | ⋮ |\n| 3260768 | 20 | 220 |\n| 3260768 | 20 | 220 |\n| 3260650 | 10 | 230 |\n| 3260650 | 10 | 230 |\n| 3260650 | 10 | 230 |\n| 3260750 | 20 | 290 |\n| 3260048 | 20 | 176 |\n| 3260405 | 10 | 142 |\n| 3260405 | 10 | 142 |\n| 3260405 | 10 | 142 |\n| 3260404 | 10 | 244 |\n| 3260404 | 10 | 244 |\n| 3260404 | 10 | 244 |\n| 3260695 | 20 | 143 |\n| 3260695 | 20 | 143 |\n| 3260002 | 20 | 220 |\n| 3260689 | 20 | 265 |\n| 3260689 | 20 | 265 |\n| 3260689 | 20 | 265 |\n| 3260689 | 20 | 265 |\n| 3260689 | 20 | 265 |\n| 3260810 | 20 | 283 |\n| 3260860 | 20 | 290 |\n| 3260860 | 20 | 290 |\n| 3260962 | 20 | 220 |\n| 3261261 | 20 | 266 |\n| 3261261 | 20 | 266 |\n| 3261261 | 20 | 266 |\n| 3261198 | 30 |  48 |\n| 3261198 | 30 |  48 |\n\n",
            "text/latex": "A data.table: 427123 × 3\n\\begin{tabular}{lll}\n upm & est & fac\\_tri\\\\\n <int> & <int> & <int>\\\\\n\\hline\n\t 900987 & 10 & 2998\\\\\n\t 900987 & 10 & 2998\\\\\n\t 912033 & 30 &  862\\\\\n\t 906619 & 20 &  432\\\\\n\t 906619 & 20 &  432\\\\\n\t 906619 & 20 &  432\\\\\n\t 906094 & 30 & 1007\\\\\n\t 906094 & 30 & 1007\\\\\n\t 913239 & 20 & 1026\\\\\n\t 913239 & 20 & 1026\\\\\n\t 912168 & 30 & 3416\\\\\n\t 915641 & 20 & 2310\\\\\n\t 903064 & 30 & 1064\\\\\n\t 908007 & 20 & 1373\\\\\n\t 907719 & 30 &  911\\\\\n\t 917542 & 20 &  631\\\\\n\t 917277 & 30 &  538\\\\\n\t 917277 & 30 &  538\\\\\n\t 900219 & 30 & 1294\\\\\n\t 900219 & 30 & 1294\\\\\n\t 920583 & 20 &  826\\\\\n\t 916876 & 40 & 1117\\\\\n\t 902996 & 30 & 1217\\\\\n\t 902996 & 30 & 1217\\\\\n\t 902996 & 30 & 1217\\\\\n\t 902996 & 30 & 1217\\\\\n\t 902996 & 30 & 1217\\\\\n\t 921622 & 20 &  877\\\\\n\t 921622 & 20 &  877\\\\\n\t 909615 & 30 &  913\\\\\n\t ⋮ & ⋮ & ⋮\\\\\n\t 3260768 & 20 & 220\\\\\n\t 3260768 & 20 & 220\\\\\n\t 3260650 & 10 & 230\\\\\n\t 3260650 & 10 & 230\\\\\n\t 3260650 & 10 & 230\\\\\n\t 3260750 & 20 & 290\\\\\n\t 3260048 & 20 & 176\\\\\n\t 3260405 & 10 & 142\\\\\n\t 3260405 & 10 & 142\\\\\n\t 3260405 & 10 & 142\\\\\n\t 3260404 & 10 & 244\\\\\n\t 3260404 & 10 & 244\\\\\n\t 3260404 & 10 & 244\\\\\n\t 3260695 & 20 & 143\\\\\n\t 3260695 & 20 & 143\\\\\n\t 3260002 & 20 & 220\\\\\n\t 3260689 & 20 & 265\\\\\n\t 3260689 & 20 & 265\\\\\n\t 3260689 & 20 & 265\\\\\n\t 3260689 & 20 & 265\\\\\n\t 3260689 & 20 & 265\\\\\n\t 3260810 & 20 & 283\\\\\n\t 3260860 & 20 & 290\\\\\n\t 3260860 & 20 & 290\\\\\n\t 3260962 & 20 & 220\\\\\n\t 3261261 & 20 & 266\\\\\n\t 3261261 & 20 & 266\\\\\n\t 3261261 & 20 & 266\\\\\n\t 3261198 & 30 &  48\\\\\n\t 3261198 & 30 &  48\\\\\n\\end{tabular}\n",
            "text/plain": [
              "       upm     est fac_tri\n",
              "1      900987  10  2998   \n",
              "2      900987  10  2998   \n",
              "3      912033  30   862   \n",
              "4      906619  20   432   \n",
              "5      906619  20   432   \n",
              "6      906619  20   432   \n",
              "7      906094  30  1007   \n",
              "8      906094  30  1007   \n",
              "9      913239  20  1026   \n",
              "10     913239  20  1026   \n",
              "11     912168  30  3416   \n",
              "12     915641  20  2310   \n",
              "13     903064  30  1064   \n",
              "14     908007  20  1373   \n",
              "15     907719  30   911   \n",
              "16     917542  20   631   \n",
              "17     917277  30   538   \n",
              "18     917277  30   538   \n",
              "19     900219  30  1294   \n",
              "20     900219  30  1294   \n",
              "21     920583  20   826   \n",
              "22     916876  40  1117   \n",
              "23     902996  30  1217   \n",
              "24     902996  30  1217   \n",
              "25     902996  30  1217   \n",
              "26     902996  30  1217   \n",
              "27     902996  30  1217   \n",
              "28     921622  20   877   \n",
              "29     921622  20   877   \n",
              "30     909615  30   913   \n",
              "⋮      ⋮       ⋮   ⋮      \n",
              "427094 3260768 20  220    \n",
              "427095 3260768 20  220    \n",
              "427096 3260650 10  230    \n",
              "427097 3260650 10  230    \n",
              "427098 3260650 10  230    \n",
              "427099 3260750 20  290    \n",
              "427100 3260048 20  176    \n",
              "427101 3260405 10  142    \n",
              "427102 3260405 10  142    \n",
              "427103 3260405 10  142    \n",
              "427104 3260404 10  244    \n",
              "427105 3260404 10  244    \n",
              "427106 3260404 10  244    \n",
              "427107 3260695 20  143    \n",
              "427108 3260695 20  143    \n",
              "427109 3260002 20  220    \n",
              "427110 3260689 20  265    \n",
              "427111 3260689 20  265    \n",
              "427112 3260689 20  265    \n",
              "427113 3260689 20  265    \n",
              "427114 3260689 20  265    \n",
              "427115 3260810 20  283    \n",
              "427116 3260860 20  290    \n",
              "427117 3260860 20  290    \n",
              "427118 3260962 20  220    \n",
              "427119 3261261 20  266    \n",
              "427120 3261261 20  266    \n",
              "427121 3261261 20  266    \n",
              "427122 3261198 30   48    \n",
              "427123 3261198 30   48    "
            ]
          },
          "metadata": {}
        }
      ]
    },
    {
      "cell_type": "markdown",
      "source": [
        "## **Paquetería srvyr**\n",
        "\n",
        "Combina la capacidad de la paquetería survery con la sintaxis intuitiva de dplyr\n",
        "\n",
        "**Funciones:**\n",
        "\n",
        "as_survey_design(): Convierte un dataframe en un objeto de diseño de encuesta\n",
        "\n",
        "\n",
        "**Funciones de resumen y estadísticas:**\n",
        "\n",
        "survey_mean(): Calcula medias ponderadas\n",
        "\n",
        "survey_total(): Calcula totales ponderados\n",
        "\n",
        "survey_ratio(): Calcula razones/proporciones\n",
        "\n",
        "survey_quantile(): Calcula cuantiles ponderados\n",
        "\n",
        "survey_median(): Calcula la mediana ponderada\n",
        "\n",
        "survey_var(): Calcula varianzas muestrales"
      ],
      "metadata": {
        "id": "aZ2xYj0jB9li"
      }
    },
    {
      "cell_type": "code",
      "source": [
        "#Cargamos libreria\n",
        "p_load('srvyr')\n",
        "\n",
        "# Diseño en srvyr\n",
        "df_enoe_total_diseño <- df_enoe |>\n",
        "                        as_survey_design( ids = upm,                  # ID\n",
        "                                          strata = est,               # Estrato\n",
        "                                          weights = fac_tri,           # Pesos de cada observación\n",
        "                                          nest =TRUE)                  #Cada UPM está contenida en un solo estrato, entonces los estratos son anidados (nest) dentro de los conglomerados.\n",
        "df_enoe_total_diseño"
      ],
      "metadata": {
        "colab": {
          "base_uri": "https://localhost:8080/"
        },
        "id": "J_BlvUPPBMoK",
        "outputId": "408f5e35-f4fa-4b56-ae9c-2d22fbdc8ea8"
      },
      "execution_count": null,
      "outputs": [
        {
          "output_type": "stream",
          "name": "stderr",
          "text": [
            "Installing package into ‘/usr/local/lib/R/site-library’\n",
            "(as ‘lib’ is unspecified)\n",
            "\n",
            "also installing the dependencies ‘minqa’, ‘numDeriv’, ‘mitools’, ‘RcppArmadillo’, ‘survey’\n",
            "\n",
            "\n",
            "\n",
            "srvyr installed\n",
            "\n"
          ]
        }
      ]
    },
    {
      "cell_type": "code",
      "source": [
        "#Población total con la ENOE\n",
        "print(df_enoe_total_diseño %>%\n",
        "              summarize(población_total = survey_total(vartype = \"ci\")))   #se: error estándar , ci:intervalo de confianza\n",
        "\n",
        "print(df_enoe_total_diseño %>%\n",
        "              summarize(población_total = survey_total(vartype = \"se\")))"
      ],
      "metadata": {
        "colab": {
          "base_uri": "https://localhost:8080/"
        },
        "id": "dltR8wfrCSVV",
        "outputId": "746f5364-d83b-4ddb-f2ab-637df6948df5"
      },
      "execution_count": null,
      "outputs": [
        {
          "output_type": "stream",
          "name": "stdout",
          "text": [
            "\u001b[90m# A tibble: 1 × 3\u001b[39m\n",
            "  población_total población_total_low población_total_upp\n",
            "            \u001b[3m\u001b[90m<dbl>\u001b[39m\u001b[23m               \u001b[3m\u001b[90m<dbl>\u001b[39m\u001b[23m               \u001b[3m\u001b[90m<dbl>\u001b[39m\u001b[23m\n",
            "\u001b[90m1\u001b[39m       129\u001b[4m9\u001b[24m\u001b[4m4\u001b[24m\u001b[4m0\u001b[24m228          126\u001b[4m6\u001b[24m\u001b[4m4\u001b[24m\u001b[4m5\u001b[24m682.          133\u001b[4m2\u001b[24m\u001b[4m3\u001b[24m\u001b[4m4\u001b[24m774.\n",
            "\u001b[90m# A tibble: 1 × 2\u001b[39m\n",
            "  población_total población_total_se\n",
            "            \u001b[3m\u001b[90m<dbl>\u001b[39m\u001b[23m              \u001b[3m\u001b[90m<dbl>\u001b[39m\u001b[23m\n",
            "\u001b[90m1\u001b[39m       129\u001b[4m9\u001b[24m\u001b[4m4\u001b[24m\u001b[4m0\u001b[24m228           1\u001b[4m6\u001b[24m\u001b[4m8\u001b[24m\u001b[4m0\u001b[24m824.\n"
          ]
        }
      ]
    },
    {
      "cell_type": "markdown",
      "source": [
        "## La población estimada en México es de 129,940,228 (95% IC: 126,645,682-133,234,774; SE:1,332,34774) de personas"
      ],
      "metadata": {
        "id": "7UNTkX_tF_1y"
      }
    },
    {
      "cell_type": "markdown",
      "source": [
        "## Preparación de los datos para estimar población ocupada y horas semanales trabajadas"
      ],
      "metadata": {
        "id": "HsDud0jlZpk5"
      }
    },
    {
      "cell_type": "code",
      "source": [
        "#Preparación de datos\n",
        "#Cambiamos nombres de algunas variables\n",
        "rename_dict <- c( \"clase1\" = \"clas_PEA\",\n",
        "                  \"clase2\" = \"clas_PO\",\n",
        "                  \"emp_ppal\" = \"clas_INF\",\n",
        "                  \"sex\" = \"sexo\",\n",
        "                  \"hrsocup\" = \"n_hrs\",\n",
        "                  \"ingocup\" = \"ing_men\",\n",
        "                  \"ing_x_hrs\" = \"ing_hrs\",\n",
        "                  \"t_loc\" = \"t_loc\",\n",
        "                  \"ent\" = \"entidad\")\n",
        "\n",
        "colnames(df_enoe) <- rename_dict[match(colnames(df_enoe),\n",
        "                                                   names(rename_dict))]\n"
      ],
      "metadata": {
        "id": "qKL4AALty2su"
      },
      "execution_count": null,
      "outputs": []
    },
    {
      "cell_type": "code",
      "source": [
        "### Filtros y codificación de algunas variables\n",
        "\n",
        "df_enoe_f <- df_enoe |>\n",
        "             filter(r_def==0 & (c_res ==1 | c_res ==3) & (eda >= 15 &  eda < 99)) |>    #c_res: Condición de residencia y r_def: residencia definitiva. Para el uso de variables tenemos que aplicar este criterio según el Descriptor del archivo\n",
        "             mutate(\n",
        "                     clas_ocupado = case_when(\n",
        "                                  clas_PO == 1 ~ 'ocupados' ,\n",
        "                                  clas_PO == 2 ~ 'desocupados',\n",
        "                                  clas_PO == 3 ~ 'disponibles',\n",
        "                                  clas_PO == 4 ~ 'no disponibles',\n",
        "                                  TRUE ~ NA),\n",
        "\n",
        "                      sex = case_when(sexo == 1 ~ \"Hombre\",\n",
        "                                      sexo == 2 ~ \"Mujer\",\n",
        "                                        TRUE ~ NA ),\n",
        "\n",
        "                      entidad_ab = case_when(\n",
        "                                               entidad == 1 ~ \"AGS\",\n",
        "                                               entidad == 2 ~ \"BC\",\n",
        "                                               entidad == 3 ~ \"BCS\",\n",
        "                                               entidad == 4 ~ \"CAMP\",\n",
        "                                               entidad == 5 ~ \"COAH\",\n",
        "                                               entidad == 6 ~ \"COL\",\n",
        "                                               entidad == 7 ~ \"CHIS\",\n",
        "                                               entidad == 8 ~ \"CHIH\",\n",
        "                                               entidad == 9 ~ \"CDMX\",\n",
        "                                               entidad == 10 ~ \"DGO\",\n",
        "                                               entidad == 11 ~ \"GTO\",\n",
        "                                               entidad == 12 ~ \"GRO\",\n",
        "                                               entidad == 13 ~ \"HGO\",\n",
        "                                               entidad == 14 ~ \"JAL\",\n",
        "                                               entidad == 15 ~ \"MEX\",\n",
        "                                               entidad == 16 ~ \"MICH\",\n",
        "                                               entidad == 17 ~ \"MOR\",\n",
        "                                               entidad == 18 ~ \"NAY\",\n",
        "                                               entidad == 19 ~ \"NL\",\n",
        "                                               entidad == 20 ~ \"OAX\",\n",
        "                                               entidad == 21 ~ \"PUE\",\n",
        "                                               entidad == 22 ~ \"QRO\",\n",
        "                                               entidad == 23 ~ \"QR\",\n",
        "                                               entidad == 24 ~ \"SLP\",\n",
        "                                               entidad == 25 ~ \"SIN\",\n",
        "                                               entidad == 26 ~ \"SON\",\n",
        "                                               entidad == 27 ~ \"TAB\",\n",
        "                                               entidad == 28 ~ \"TAMS\",\n",
        "                                               entidad == 29 ~ \"TLAX\",\n",
        "                                               entidad == 30 ~ \"VER\",\n",
        "                                               entidad == 31 ~ \"YUC\",\n",
        "                                               entidad == 32 ~ \"ZAC\",\n",
        "                                               TRUE ~ \"Desconocido\") )    |>\n",
        "\n",
        "\n",
        "                                               filter(clas_PO == 1)\n",
        "\n"
      ],
      "metadata": {
        "id": "n9WeCHwu5B1C"
      },
      "execution_count": null,
      "outputs": []
    },
    {
      "cell_type": "code",
      "source": [
        "#Este paso ya lo hicimos pero lo hacemos con los datos tratados\n",
        "\n",
        "#UPM: Unidad primaria de muestreo\n",
        "#EST: Estrato\n",
        "#fac_tri: Factor de expansión trimestrar\n",
        "# Diseño en srvyr\n",
        "df_enoe_d <- df_enoe_f |>\n",
        "                as_survey_design(\n",
        "                    ids = upm,                  # ID\n",
        "                    strata = est,               # Estrato\n",
        "                    weights = fac_tri,           # Pesos de cada observación\n",
        "                    nest =TRUE)                  #Cada UPM está contenida en un solo estrato, entonces los estratos son anidados (nest) dentro de los conglomerados.\n",
        "\n"
      ],
      "metadata": {
        "id": "GE9dGY357kAA"
      },
      "execution_count": null,
      "outputs": []
    },
    {
      "cell_type": "code",
      "source": [
        "#Población ocupada en México\n",
        "df_enoe_d |>\n",
        "        survey_tally()"
      ],
      "metadata": {
        "colab": {
          "base_uri": "https://localhost:8080/",
          "height": 129
        },
        "id": "dmEf8LBWHKtB",
        "outputId": "86f7ef22-758b-41a3-feb4-fc09eb7548f8"
      },
      "execution_count": null,
      "outputs": [
        {
          "output_type": "display_data",
          "data": {
            "text/html": [
              "<table class=\"dataframe\">\n",
              "<caption>A tibble: 1 × 2</caption>\n",
              "<thead>\n",
              "\t<tr><th scope=col>n</th><th scope=col>n_se</th></tr>\n",
              "\t<tr><th scope=col>&lt;dbl&gt;</th><th scope=col>&lt;dbl&gt;</th></tr>\n",
              "</thead>\n",
              "<tbody>\n",
              "\t<tr><td>59327161</td><td>746732.1</td></tr>\n",
              "</tbody>\n",
              "</table>\n"
            ],
            "text/markdown": "\nA tibble: 1 × 2\n\n| n &lt;dbl&gt; | n_se &lt;dbl&gt; |\n|---|---|\n| 59327161 | 746732.1 |\n\n",
            "text/latex": "A tibble: 1 × 2\n\\begin{tabular}{ll}\n n & n\\_se\\\\\n <dbl> & <dbl>\\\\\n\\hline\n\t 59327161 & 746732.1\\\\\n\\end{tabular}\n",
            "text/plain": [
              "  n        n_se    \n",
              "1 59327161 746732.1"
            ]
          },
          "metadata": {}
        }
      ]
    },
    {
      "cell_type": "code",
      "source": [
        "df_enoe_d   |>\n",
        "        summarise(ocupados_totales = survey_total())"
      ],
      "metadata": {
        "colab": {
          "base_uri": "https://localhost:8080/",
          "height": 129
        },
        "id": "8HkVegntJGzv",
        "outputId": "8fcde02e-be21-4574-e1d3-f118f7fa6aa5"
      },
      "execution_count": null,
      "outputs": [
        {
          "output_type": "display_data",
          "data": {
            "text/html": [
              "<table class=\"dataframe\">\n",
              "<caption>A tibble: 1 × 2</caption>\n",
              "<thead>\n",
              "\t<tr><th scope=col>ocupados_totales</th><th scope=col>ocupados_totales_se</th></tr>\n",
              "\t<tr><th scope=col>&lt;dbl&gt;</th><th scope=col>&lt;dbl&gt;</th></tr>\n",
              "</thead>\n",
              "<tbody>\n",
              "\t<tr><td>59327161</td><td>746732.1</td></tr>\n",
              "</tbody>\n",
              "</table>\n"
            ],
            "text/markdown": "\nA tibble: 1 × 2\n\n| ocupados_totales &lt;dbl&gt; | ocupados_totales_se &lt;dbl&gt; |\n|---|---|\n| 59327161 | 746732.1 |\n\n",
            "text/latex": "A tibble: 1 × 2\n\\begin{tabular}{ll}\n ocupados\\_totales & ocupados\\_totales\\_se\\\\\n <dbl> & <dbl>\\\\\n\\hline\n\t 59327161 & 746732.1\\\\\n\\end{tabular}\n",
            "text/plain": [
              "  ocupados_totales ocupados_totales_se\n",
              "1 59327161         746732.1           "
            ]
          },
          "metadata": {}
        }
      ]
    },
    {
      "cell_type": "markdown",
      "source": [
        "## **Promedio de horas semanales trabajadas en México**"
      ],
      "metadata": {
        "id": "gzLrEYT6J9aX"
      }
    },
    {
      "cell_type": "code",
      "source": [
        "#Promedio total\n",
        "df_enoe_d  |>\n",
        "  summarise(prom_horas = survey_mean(n_hrs )) #vartype = \"ci\")"
      ],
      "metadata": {
        "colab": {
          "base_uri": "https://localhost:8080/",
          "height": 129
        },
        "id": "jO5YTJby9caq",
        "outputId": "bf7c61df-42fc-49d5-f029-db242d61488d"
      },
      "execution_count": null,
      "outputs": [
        {
          "output_type": "display_data",
          "data": {
            "text/html": [
              "<table class=\"dataframe\">\n",
              "<caption>A tibble: 1 × 2</caption>\n",
              "<thead>\n",
              "\t<tr><th scope=col>prom_horas</th><th scope=col>prom_horas_se</th></tr>\n",
              "\t<tr><th scope=col>&lt;dbl&gt;</th><th scope=col>&lt;dbl&gt;</th></tr>\n",
              "</thead>\n",
              "<tbody>\n",
              "\t<tr><td>40.59777</td><td>0.09590479</td></tr>\n",
              "</tbody>\n",
              "</table>\n"
            ],
            "text/markdown": "\nA tibble: 1 × 2\n\n| prom_horas &lt;dbl&gt; | prom_horas_se &lt;dbl&gt; |\n|---|---|\n| 40.59777 | 0.09590479 |\n\n",
            "text/latex": "A tibble: 1 × 2\n\\begin{tabular}{ll}\n prom\\_horas & prom\\_horas\\_se\\\\\n <dbl> & <dbl>\\\\\n\\hline\n\t 40.59777 & 0.09590479\\\\\n\\end{tabular}\n",
            "text/plain": [
              "  prom_horas prom_horas_se\n",
              "1 40.59777   0.09590479   "
            ]
          },
          "metadata": {}
        }
      ]
    },
    {
      "cell_type": "markdown",
      "source": [
        "## **Promedio de horas semanales trabajadas en México por entidad**"
      ],
      "metadata": {
        "id": "phLL1MpsKLGi"
      }
    },
    {
      "cell_type": "code",
      "source": [
        "#Promedio de horas semanales trabajdas por entidad\n",
        "table_horas_ent <- df_enoe_d  |>\n",
        "                   group_by(entidad_ab)  |>\n",
        "                    summarise(survey_mean(n_hrs))  |>\n",
        "                      arrange(desc(coef))\n",
        "\n",
        "table_horas_ent"
      ],
      "metadata": {
        "colab": {
          "base_uri": "https://localhost:8080/",
          "height": 1000
        },
        "id": "G8gnCwIF-SS7",
        "outputId": "8d43ac6c-cfce-4984-c5dc-7c9851bb1c30"
      },
      "execution_count": null,
      "outputs": [
        {
          "output_type": "display_data",
          "data": {
            "text/html": [
              "<table class=\"dataframe\">\n",
              "<caption>A tibble: 32 × 3</caption>\n",
              "<thead>\n",
              "\t<tr><th scope=col>entidad_ab</th><th scope=col>coef</th><th scope=col>_se</th></tr>\n",
              "\t<tr><th scope=col>&lt;chr&gt;</th><th scope=col>&lt;dbl&gt;</th><th scope=col>&lt;dbl&gt;</th></tr>\n",
              "</thead>\n",
              "<tbody>\n",
              "\t<tr><td>AGS </td><td>43.87691</td><td>0.3007180</td></tr>\n",
              "\t<tr><td>MEX </td><td>42.75005</td><td>0.3868505</td></tr>\n",
              "\t<tr><td>QRO </td><td>42.35155</td><td>0.2927336</td></tr>\n",
              "\t<tr><td>TLAX</td><td>42.00230</td><td>0.5322119</td></tr>\n",
              "\t<tr><td>MOR </td><td>41.93094</td><td>0.3798288</td></tr>\n",
              "\t<tr><td>PUE </td><td>41.85291</td><td>0.4459148</td></tr>\n",
              "\t<tr><td>VER </td><td>41.80286</td><td>0.5286389</td></tr>\n",
              "\t<tr><td>QR  </td><td>41.72504</td><td>0.3992117</td></tr>\n",
              "\t<tr><td>COAH</td><td>41.72131</td><td>0.3003402</td></tr>\n",
              "\t<tr><td>NL  </td><td>41.35484</td><td>0.2949767</td></tr>\n",
              "\t<tr><td>GTO </td><td>41.14705</td><td>0.3489594</td></tr>\n",
              "\t<tr><td>CHIS</td><td>40.43463</td><td>0.5263196</td></tr>\n",
              "\t<tr><td>CDMX</td><td>40.38396</td><td>0.3607778</td></tr>\n",
              "\t<tr><td>CAMP</td><td>40.27982</td><td>0.4504968</td></tr>\n",
              "\t<tr><td>BCS </td><td>40.23299</td><td>0.4200149</td></tr>\n",
              "\t<tr><td>GRO </td><td>40.13696</td><td>0.5200999</td></tr>\n",
              "\t<tr><td>BC  </td><td>40.01451</td><td>0.3030334</td></tr>\n",
              "\t<tr><td>TAB </td><td>39.83326</td><td>0.6390476</td></tr>\n",
              "\t<tr><td>CHIH</td><td>39.73171</td><td>0.3426651</td></tr>\n",
              "\t<tr><td>HGO </td><td>39.61911</td><td>0.7158549</td></tr>\n",
              "\t<tr><td>JAL </td><td>39.61837</td><td>0.3242140</td></tr>\n",
              "\t<tr><td>ZAC </td><td>39.48161</td><td>0.5545598</td></tr>\n",
              "\t<tr><td>TAMS</td><td>39.39590</td><td>0.3708814</td></tr>\n",
              "\t<tr><td>COL </td><td>39.38803</td><td>0.5982116</td></tr>\n",
              "\t<tr><td>SON </td><td>39.32026</td><td>0.3952248</td></tr>\n",
              "\t<tr><td>MICH</td><td>39.06571</td><td>0.4448089</td></tr>\n",
              "\t<tr><td>DGO </td><td>38.97461</td><td>0.4675645</td></tr>\n",
              "\t<tr><td>NAY </td><td>38.92686</td><td>0.3685148</td></tr>\n",
              "\t<tr><td>SLP </td><td>38.87313</td><td>0.4677261</td></tr>\n",
              "\t<tr><td>YUC </td><td>38.29900</td><td>0.3780785</td></tr>\n",
              "\t<tr><td>OAX </td><td>37.65747</td><td>0.5448167</td></tr>\n",
              "\t<tr><td>SIN </td><td>36.69156</td><td>0.4669639</td></tr>\n",
              "</tbody>\n",
              "</table>\n"
            ],
            "text/markdown": "\nA tibble: 32 × 3\n\n| entidad_ab &lt;chr&gt; | coef &lt;dbl&gt; | _se &lt;dbl&gt; |\n|---|---|---|\n| AGS  | 43.87691 | 0.3007180 |\n| MEX  | 42.75005 | 0.3868505 |\n| QRO  | 42.35155 | 0.2927336 |\n| TLAX | 42.00230 | 0.5322119 |\n| MOR  | 41.93094 | 0.3798288 |\n| PUE  | 41.85291 | 0.4459148 |\n| VER  | 41.80286 | 0.5286389 |\n| QR   | 41.72504 | 0.3992117 |\n| COAH | 41.72131 | 0.3003402 |\n| NL   | 41.35484 | 0.2949767 |\n| GTO  | 41.14705 | 0.3489594 |\n| CHIS | 40.43463 | 0.5263196 |\n| CDMX | 40.38396 | 0.3607778 |\n| CAMP | 40.27982 | 0.4504968 |\n| BCS  | 40.23299 | 0.4200149 |\n| GRO  | 40.13696 | 0.5200999 |\n| BC   | 40.01451 | 0.3030334 |\n| TAB  | 39.83326 | 0.6390476 |\n| CHIH | 39.73171 | 0.3426651 |\n| HGO  | 39.61911 | 0.7158549 |\n| JAL  | 39.61837 | 0.3242140 |\n| ZAC  | 39.48161 | 0.5545598 |\n| TAMS | 39.39590 | 0.3708814 |\n| COL  | 39.38803 | 0.5982116 |\n| SON  | 39.32026 | 0.3952248 |\n| MICH | 39.06571 | 0.4448089 |\n| DGO  | 38.97461 | 0.4675645 |\n| NAY  | 38.92686 | 0.3685148 |\n| SLP  | 38.87313 | 0.4677261 |\n| YUC  | 38.29900 | 0.3780785 |\n| OAX  | 37.65747 | 0.5448167 |\n| SIN  | 36.69156 | 0.4669639 |\n\n",
            "text/latex": "A tibble: 32 × 3\n\\begin{tabular}{lll}\n entidad\\_ab & coef & \\_se\\\\\n <chr> & <dbl> & <dbl>\\\\\n\\hline\n\t AGS  & 43.87691 & 0.3007180\\\\\n\t MEX  & 42.75005 & 0.3868505\\\\\n\t QRO  & 42.35155 & 0.2927336\\\\\n\t TLAX & 42.00230 & 0.5322119\\\\\n\t MOR  & 41.93094 & 0.3798288\\\\\n\t PUE  & 41.85291 & 0.4459148\\\\\n\t VER  & 41.80286 & 0.5286389\\\\\n\t QR   & 41.72504 & 0.3992117\\\\\n\t COAH & 41.72131 & 0.3003402\\\\\n\t NL   & 41.35484 & 0.2949767\\\\\n\t GTO  & 41.14705 & 0.3489594\\\\\n\t CHIS & 40.43463 & 0.5263196\\\\\n\t CDMX & 40.38396 & 0.3607778\\\\\n\t CAMP & 40.27982 & 0.4504968\\\\\n\t BCS  & 40.23299 & 0.4200149\\\\\n\t GRO  & 40.13696 & 0.5200999\\\\\n\t BC   & 40.01451 & 0.3030334\\\\\n\t TAB  & 39.83326 & 0.6390476\\\\\n\t CHIH & 39.73171 & 0.3426651\\\\\n\t HGO  & 39.61911 & 0.7158549\\\\\n\t JAL  & 39.61837 & 0.3242140\\\\\n\t ZAC  & 39.48161 & 0.5545598\\\\\n\t TAMS & 39.39590 & 0.3708814\\\\\n\t COL  & 39.38803 & 0.5982116\\\\\n\t SON  & 39.32026 & 0.3952248\\\\\n\t MICH & 39.06571 & 0.4448089\\\\\n\t DGO  & 38.97461 & 0.4675645\\\\\n\t NAY  & 38.92686 & 0.3685148\\\\\n\t SLP  & 38.87313 & 0.4677261\\\\\n\t YUC  & 38.29900 & 0.3780785\\\\\n\t OAX  & 37.65747 & 0.5448167\\\\\n\t SIN  & 36.69156 & 0.4669639\\\\\n\\end{tabular}\n",
            "text/plain": [
              "   entidad_ab coef     _se      \n",
              "1  AGS        43.87691 0.3007180\n",
              "2  MEX        42.75005 0.3868505\n",
              "3  QRO        42.35155 0.2927336\n",
              "4  TLAX       42.00230 0.5322119\n",
              "5  MOR        41.93094 0.3798288\n",
              "6  PUE        41.85291 0.4459148\n",
              "7  VER        41.80286 0.5286389\n",
              "8  QR         41.72504 0.3992117\n",
              "9  COAH       41.72131 0.3003402\n",
              "10 NL         41.35484 0.2949767\n",
              "11 GTO        41.14705 0.3489594\n",
              "12 CHIS       40.43463 0.5263196\n",
              "13 CDMX       40.38396 0.3607778\n",
              "14 CAMP       40.27982 0.4504968\n",
              "15 BCS        40.23299 0.4200149\n",
              "16 GRO        40.13696 0.5200999\n",
              "17 BC         40.01451 0.3030334\n",
              "18 TAB        39.83326 0.6390476\n",
              "19 CHIH       39.73171 0.3426651\n",
              "20 HGO        39.61911 0.7158549\n",
              "21 JAL        39.61837 0.3242140\n",
              "22 ZAC        39.48161 0.5545598\n",
              "23 TAMS       39.39590 0.3708814\n",
              "24 COL        39.38803 0.5982116\n",
              "25 SON        39.32026 0.3952248\n",
              "26 MICH       39.06571 0.4448089\n",
              "27 DGO        38.97461 0.4675645\n",
              "28 NAY        38.92686 0.3685148\n",
              "29 SLP        38.87313 0.4677261\n",
              "30 YUC        38.29900 0.3780785\n",
              "31 OAX        37.65747 0.5448167\n",
              "32 SIN        36.69156 0.4669639"
            ]
          },
          "metadata": {}
        }
      ]
    },
    {
      "cell_type": "markdown",
      "source": [
        "## **Promedio de horas semanales trabajadas en México por sexo y entindad**"
      ],
      "metadata": {
        "id": "n5hb247HLIlf"
      }
    },
    {
      "cell_type": "code",
      "source": [
        "#Promedio de horas semanales trabajdas por entidad\n",
        "table_horas_sex <- df_enoe_d  |>\n",
        "                   group_by(sex)  |>\n",
        "                    summarise(survey_mean(n_hrs))  |>\n",
        "                      arrange(desc(coef))\n",
        "\n",
        "table_horas_sex"
      ],
      "metadata": {
        "colab": {
          "base_uri": "https://localhost:8080/",
          "height": 161
        },
        "id": "cNCYXHQtKnko",
        "outputId": "c351c4ee-e93b-4a73-8e71-17bf73832092"
      },
      "execution_count": null,
      "outputs": [
        {
          "output_type": "display_data",
          "data": {
            "text/html": [
              "<table class=\"dataframe\">\n",
              "<caption>A tibble: 2 × 3</caption>\n",
              "<thead>\n",
              "\t<tr><th scope=col>sex</th><th scope=col>coef</th><th scope=col>_se</th></tr>\n",
              "\t<tr><th scope=col>&lt;chr&gt;</th><th scope=col>&lt;dbl&gt;</th><th scope=col>&lt;dbl&gt;</th></tr>\n",
              "</thead>\n",
              "<tbody>\n",
              "\t<tr><td>Hombre</td><td>43.46962</td><td>0.1151113</td></tr>\n",
              "\t<tr><td>Mujer </td><td>36.45211</td><td>0.1210786</td></tr>\n",
              "</tbody>\n",
              "</table>\n"
            ],
            "text/markdown": "\nA tibble: 2 × 3\n\n| sex &lt;chr&gt; | coef &lt;dbl&gt; | _se &lt;dbl&gt; |\n|---|---|---|\n| Hombre | 43.46962 | 0.1151113 |\n| Mujer  | 36.45211 | 0.1210786 |\n\n",
            "text/latex": "A tibble: 2 × 3\n\\begin{tabular}{lll}\n sex & coef & \\_se\\\\\n <chr> & <dbl> & <dbl>\\\\\n\\hline\n\t Hombre & 43.46962 & 0.1151113\\\\\n\t Mujer  & 36.45211 & 0.1210786\\\\\n\\end{tabular}\n",
            "text/plain": [
              "  sex    coef     _se      \n",
              "1 Hombre 43.46962 0.1151113\n",
              "2 Mujer  36.45211 0.1210786"
            ]
          },
          "metadata": {}
        }
      ]
    },
    {
      "cell_type": "code",
      "source": [
        "#Promedio de horas semanales trabajdas por entidad y sexo\n",
        "df_enoe_d  |>\n",
        "  group_by(entidad_ab, sex)  |>\n",
        "     summarise(survey_mean(n_hrs))"
      ],
      "metadata": {
        "colab": {
          "base_uri": "https://localhost:8080/",
          "height": 1000
        },
        "id": "aqXJ3WnZ-W0b",
        "outputId": "b7befc63-a458-4bc6-a3f5-99485975ad00"
      },
      "execution_count": null,
      "outputs": [
        {
          "output_type": "display_data",
          "data": {
            "text/html": [
              "<table class=\"dataframe\">\n",
              "<caption>A grouped_df: 64 × 4</caption>\n",
              "<thead>\n",
              "\t<tr><th scope=col>entidad_ab</th><th scope=col>sex</th><th scope=col>coef</th><th scope=col>_se</th></tr>\n",
              "\t<tr><th scope=col>&lt;chr&gt;</th><th scope=col>&lt;chr&gt;</th><th scope=col>&lt;dbl&gt;</th><th scope=col>&lt;dbl&gt;</th></tr>\n",
              "</thead>\n",
              "<tbody>\n",
              "\t<tr><td>AGS </td><td>Hombre</td><td>46.12230</td><td>0.5219736</td></tr>\n",
              "\t<tr><td>AGS </td><td>Mujer </td><td>39.43186</td><td>0.5496093</td></tr>\n",
              "\t<tr><td>BC  </td><td>Hombre</td><td>41.98870</td><td>0.4796051</td></tr>\n",
              "\t<tr><td>BC  </td><td>Mujer </td><td>37.80203</td><td>0.6647691</td></tr>\n",
              "\t<tr><td>BCS </td><td>Hombre</td><td>44.17163</td><td>0.7326871</td></tr>\n",
              "\t<tr><td>BCS </td><td>Mujer </td><td>37.15739</td><td>1.0119375</td></tr>\n",
              "\t<tr><td>CAMP</td><td>Hombre</td><td>43.38589</td><td>0.9779845</td></tr>\n",
              "\t<tr><td>CAMP</td><td>Mujer </td><td>35.56918</td><td>0.8107598</td></tr>\n",
              "\t<tr><td>CDMX</td><td>Hombre</td><td>41.94775</td><td>0.9412069</td></tr>\n",
              "\t<tr><td>CDMX</td><td>Mujer </td><td>36.64546</td><td>0.9024512</td></tr>\n",
              "\t<tr><td>CHIH</td><td>Hombre</td><td>41.87224</td><td>0.5707191</td></tr>\n",
              "\t<tr><td>CHIH</td><td>Mujer </td><td>36.95445</td><td>0.6099381</td></tr>\n",
              "\t<tr><td>CHIS</td><td>Hombre</td><td>42.94933</td><td>0.8961132</td></tr>\n",
              "\t<tr><td>CHIS</td><td>Mujer </td><td>38.65210</td><td>1.0018781</td></tr>\n",
              "\t<tr><td>COAH</td><td>Hombre</td><td>43.56698</td><td>0.5173595</td></tr>\n",
              "\t<tr><td>COAH</td><td>Mujer </td><td>37.38506</td><td>0.6533107</td></tr>\n",
              "\t<tr><td>COL </td><td>Hombre</td><td>42.33369</td><td>1.0985414</td></tr>\n",
              "\t<tr><td>COL </td><td>Mujer </td><td>35.46094</td><td>0.9984331</td></tr>\n",
              "\t<tr><td>DGO </td><td>Hombre</td><td>41.33545</td><td>0.8193891</td></tr>\n",
              "\t<tr><td>DGO </td><td>Mujer </td><td>34.44500</td><td>0.7924918</td></tr>\n",
              "\t<tr><td>GRO </td><td>Hombre</td><td>42.01568</td><td>1.0584354</td></tr>\n",
              "\t<tr><td>GRO </td><td>Mujer </td><td>34.79544</td><td>1.0113925</td></tr>\n",
              "\t<tr><td>GTO </td><td>Hombre</td><td>43.23454</td><td>0.7158171</td></tr>\n",
              "\t<tr><td>GTO </td><td>Mujer </td><td>38.59298</td><td>0.8710084</td></tr>\n",
              "\t<tr><td>HGO </td><td>Hombre</td><td>44.52837</td><td>1.5158549</td></tr>\n",
              "\t<tr><td>HGO </td><td>Mujer </td><td>35.15354</td><td>1.2438737</td></tr>\n",
              "\t<tr><td>JAL </td><td>Hombre</td><td>41.46729</td><td>0.6040301</td></tr>\n",
              "\t<tr><td>JAL </td><td>Mujer </td><td>36.71492</td><td>0.6506586</td></tr>\n",
              "\t<tr><td>MEX </td><td>Hombre</td><td>44.52518</td><td>0.7298736</td></tr>\n",
              "\t<tr><td>MEX </td><td>Mujer </td><td>39.18935</td><td>1.0728874</td></tr>\n",
              "\t<tr><td>⋮</td><td>⋮</td><td>⋮</td><td>⋮</td></tr>\n",
              "\t<tr><td>NAY </td><td>Hombre</td><td>40.58148</td><td>0.7082175</td></tr>\n",
              "\t<tr><td>NAY </td><td>Mujer </td><td>34.30097</td><td>0.8017480</td></tr>\n",
              "\t<tr><td>NL  </td><td>Hombre</td><td>44.26508</td><td>0.5055748</td></tr>\n",
              "\t<tr><td>NL  </td><td>Mujer </td><td>38.71976</td><td>0.7360635</td></tr>\n",
              "\t<tr><td>OAX </td><td>Hombre</td><td>41.13180</td><td>1.0630753</td></tr>\n",
              "\t<tr><td>OAX </td><td>Mujer </td><td>34.80619</td><td>1.1104018</td></tr>\n",
              "\t<tr><td>PUE </td><td>Hombre</td><td>44.23943</td><td>0.6625499</td></tr>\n",
              "\t<tr><td>PUE </td><td>Mujer </td><td>37.97027</td><td>0.8212068</td></tr>\n",
              "\t<tr><td>QR  </td><td>Hombre</td><td>43.71120</td><td>0.7285003</td></tr>\n",
              "\t<tr><td>QR  </td><td>Mujer </td><td>39.66277</td><td>0.9089010</td></tr>\n",
              "\t<tr><td>QRO </td><td>Hombre</td><td>43.83402</td><td>0.6501149</td></tr>\n",
              "\t<tr><td>QRO </td><td>Mujer </td><td>39.80324</td><td>0.7482710</td></tr>\n",
              "\t<tr><td>SIN </td><td>Hombre</td><td>38.90242</td><td>0.8453076</td></tr>\n",
              "\t<tr><td>SIN </td><td>Mujer </td><td>33.33865</td><td>0.8973798</td></tr>\n",
              "\t<tr><td>SLP </td><td>Hombre</td><td>41.57872</td><td>0.9763866</td></tr>\n",
              "\t<tr><td>SLP </td><td>Mujer </td><td>36.61128</td><td>1.0070133</td></tr>\n",
              "\t<tr><td>SON </td><td>Hombre</td><td>41.42328</td><td>0.8257629</td></tr>\n",
              "\t<tr><td>SON </td><td>Mujer </td><td>37.29997</td><td>0.7609136</td></tr>\n",
              "\t<tr><td>TAB </td><td>Hombre</td><td>43.91174</td><td>1.0205767</td></tr>\n",
              "\t<tr><td>TAB </td><td>Mujer </td><td>35.55192</td><td>1.2137522</td></tr>\n",
              "\t<tr><td>TAMS</td><td>Hombre</td><td>43.19199</td><td>0.7100676</td></tr>\n",
              "\t<tr><td>TAMS</td><td>Mujer </td><td>35.79955</td><td>0.7964164</td></tr>\n",
              "\t<tr><td>TLAX</td><td>Hombre</td><td>44.48562</td><td>0.7102445</td></tr>\n",
              "\t<tr><td>TLAX</td><td>Mujer </td><td>39.14719</td><td>0.9451800</td></tr>\n",
              "\t<tr><td>VER </td><td>Hombre</td><td>44.23561</td><td>0.8394195</td></tr>\n",
              "\t<tr><td>VER </td><td>Mujer </td><td>39.01789</td><td>1.2618085</td></tr>\n",
              "\t<tr><td>YUC </td><td>Hombre</td><td>41.81922</td><td>0.5917985</td></tr>\n",
              "\t<tr><td>YUC </td><td>Mujer </td><td>34.00206</td><td>0.8320484</td></tr>\n",
              "\t<tr><td>ZAC </td><td>Hombre</td><td>41.31268</td><td>1.2470861</td></tr>\n",
              "\t<tr><td>ZAC </td><td>Mujer </td><td>34.90959</td><td>1.1560800</td></tr>\n",
              "</tbody>\n",
              "</table>\n"
            ],
            "text/markdown": "\nA grouped_df: 64 × 4\n\n| entidad_ab &lt;chr&gt; | sex &lt;chr&gt; | coef &lt;dbl&gt; | _se &lt;dbl&gt; |\n|---|---|---|---|\n| AGS  | Hombre | 46.12230 | 0.5219736 |\n| AGS  | Mujer  | 39.43186 | 0.5496093 |\n| BC   | Hombre | 41.98870 | 0.4796051 |\n| BC   | Mujer  | 37.80203 | 0.6647691 |\n| BCS  | Hombre | 44.17163 | 0.7326871 |\n| BCS  | Mujer  | 37.15739 | 1.0119375 |\n| CAMP | Hombre | 43.38589 | 0.9779845 |\n| CAMP | Mujer  | 35.56918 | 0.8107598 |\n| CDMX | Hombre | 41.94775 | 0.9412069 |\n| CDMX | Mujer  | 36.64546 | 0.9024512 |\n| CHIH | Hombre | 41.87224 | 0.5707191 |\n| CHIH | Mujer  | 36.95445 | 0.6099381 |\n| CHIS | Hombre | 42.94933 | 0.8961132 |\n| CHIS | Mujer  | 38.65210 | 1.0018781 |\n| COAH | Hombre | 43.56698 | 0.5173595 |\n| COAH | Mujer  | 37.38506 | 0.6533107 |\n| COL  | Hombre | 42.33369 | 1.0985414 |\n| COL  | Mujer  | 35.46094 | 0.9984331 |\n| DGO  | Hombre | 41.33545 | 0.8193891 |\n| DGO  | Mujer  | 34.44500 | 0.7924918 |\n| GRO  | Hombre | 42.01568 | 1.0584354 |\n| GRO  | Mujer  | 34.79544 | 1.0113925 |\n| GTO  | Hombre | 43.23454 | 0.7158171 |\n| GTO  | Mujer  | 38.59298 | 0.8710084 |\n| HGO  | Hombre | 44.52837 | 1.5158549 |\n| HGO  | Mujer  | 35.15354 | 1.2438737 |\n| JAL  | Hombre | 41.46729 | 0.6040301 |\n| JAL  | Mujer  | 36.71492 | 0.6506586 |\n| MEX  | Hombre | 44.52518 | 0.7298736 |\n| MEX  | Mujer  | 39.18935 | 1.0728874 |\n| ⋮ | ⋮ | ⋮ | ⋮ |\n| NAY  | Hombre | 40.58148 | 0.7082175 |\n| NAY  | Mujer  | 34.30097 | 0.8017480 |\n| NL   | Hombre | 44.26508 | 0.5055748 |\n| NL   | Mujer  | 38.71976 | 0.7360635 |\n| OAX  | Hombre | 41.13180 | 1.0630753 |\n| OAX  | Mujer  | 34.80619 | 1.1104018 |\n| PUE  | Hombre | 44.23943 | 0.6625499 |\n| PUE  | Mujer  | 37.97027 | 0.8212068 |\n| QR   | Hombre | 43.71120 | 0.7285003 |\n| QR   | Mujer  | 39.66277 | 0.9089010 |\n| QRO  | Hombre | 43.83402 | 0.6501149 |\n| QRO  | Mujer  | 39.80324 | 0.7482710 |\n| SIN  | Hombre | 38.90242 | 0.8453076 |\n| SIN  | Mujer  | 33.33865 | 0.8973798 |\n| SLP  | Hombre | 41.57872 | 0.9763866 |\n| SLP  | Mujer  | 36.61128 | 1.0070133 |\n| SON  | Hombre | 41.42328 | 0.8257629 |\n| SON  | Mujer  | 37.29997 | 0.7609136 |\n| TAB  | Hombre | 43.91174 | 1.0205767 |\n| TAB  | Mujer  | 35.55192 | 1.2137522 |\n| TAMS | Hombre | 43.19199 | 0.7100676 |\n| TAMS | Mujer  | 35.79955 | 0.7964164 |\n| TLAX | Hombre | 44.48562 | 0.7102445 |\n| TLAX | Mujer  | 39.14719 | 0.9451800 |\n| VER  | Hombre | 44.23561 | 0.8394195 |\n| VER  | Mujer  | 39.01789 | 1.2618085 |\n| YUC  | Hombre | 41.81922 | 0.5917985 |\n| YUC  | Mujer  | 34.00206 | 0.8320484 |\n| ZAC  | Hombre | 41.31268 | 1.2470861 |\n| ZAC  | Mujer  | 34.90959 | 1.1560800 |\n\n",
            "text/latex": "A grouped\\_df: 64 × 4\n\\begin{tabular}{llll}\n entidad\\_ab & sex & coef & \\_se\\\\\n <chr> & <chr> & <dbl> & <dbl>\\\\\n\\hline\n\t AGS  & Hombre & 46.12230 & 0.5219736\\\\\n\t AGS  & Mujer  & 39.43186 & 0.5496093\\\\\n\t BC   & Hombre & 41.98870 & 0.4796051\\\\\n\t BC   & Mujer  & 37.80203 & 0.6647691\\\\\n\t BCS  & Hombre & 44.17163 & 0.7326871\\\\\n\t BCS  & Mujer  & 37.15739 & 1.0119375\\\\\n\t CAMP & Hombre & 43.38589 & 0.9779845\\\\\n\t CAMP & Mujer  & 35.56918 & 0.8107598\\\\\n\t CDMX & Hombre & 41.94775 & 0.9412069\\\\\n\t CDMX & Mujer  & 36.64546 & 0.9024512\\\\\n\t CHIH & Hombre & 41.87224 & 0.5707191\\\\\n\t CHIH & Mujer  & 36.95445 & 0.6099381\\\\\n\t CHIS & Hombre & 42.94933 & 0.8961132\\\\\n\t CHIS & Mujer  & 38.65210 & 1.0018781\\\\\n\t COAH & Hombre & 43.56698 & 0.5173595\\\\\n\t COAH & Mujer  & 37.38506 & 0.6533107\\\\\n\t COL  & Hombre & 42.33369 & 1.0985414\\\\\n\t COL  & Mujer  & 35.46094 & 0.9984331\\\\\n\t DGO  & Hombre & 41.33545 & 0.8193891\\\\\n\t DGO  & Mujer  & 34.44500 & 0.7924918\\\\\n\t GRO  & Hombre & 42.01568 & 1.0584354\\\\\n\t GRO  & Mujer  & 34.79544 & 1.0113925\\\\\n\t GTO  & Hombre & 43.23454 & 0.7158171\\\\\n\t GTO  & Mujer  & 38.59298 & 0.8710084\\\\\n\t HGO  & Hombre & 44.52837 & 1.5158549\\\\\n\t HGO  & Mujer  & 35.15354 & 1.2438737\\\\\n\t JAL  & Hombre & 41.46729 & 0.6040301\\\\\n\t JAL  & Mujer  & 36.71492 & 0.6506586\\\\\n\t MEX  & Hombre & 44.52518 & 0.7298736\\\\\n\t MEX  & Mujer  & 39.18935 & 1.0728874\\\\\n\t ⋮ & ⋮ & ⋮ & ⋮\\\\\n\t NAY  & Hombre & 40.58148 & 0.7082175\\\\\n\t NAY  & Mujer  & 34.30097 & 0.8017480\\\\\n\t NL   & Hombre & 44.26508 & 0.5055748\\\\\n\t NL   & Mujer  & 38.71976 & 0.7360635\\\\\n\t OAX  & Hombre & 41.13180 & 1.0630753\\\\\n\t OAX  & Mujer  & 34.80619 & 1.1104018\\\\\n\t PUE  & Hombre & 44.23943 & 0.6625499\\\\\n\t PUE  & Mujer  & 37.97027 & 0.8212068\\\\\n\t QR   & Hombre & 43.71120 & 0.7285003\\\\\n\t QR   & Mujer  & 39.66277 & 0.9089010\\\\\n\t QRO  & Hombre & 43.83402 & 0.6501149\\\\\n\t QRO  & Mujer  & 39.80324 & 0.7482710\\\\\n\t SIN  & Hombre & 38.90242 & 0.8453076\\\\\n\t SIN  & Mujer  & 33.33865 & 0.8973798\\\\\n\t SLP  & Hombre & 41.57872 & 0.9763866\\\\\n\t SLP  & Mujer  & 36.61128 & 1.0070133\\\\\n\t SON  & Hombre & 41.42328 & 0.8257629\\\\\n\t SON  & Mujer  & 37.29997 & 0.7609136\\\\\n\t TAB  & Hombre & 43.91174 & 1.0205767\\\\\n\t TAB  & Mujer  & 35.55192 & 1.2137522\\\\\n\t TAMS & Hombre & 43.19199 & 0.7100676\\\\\n\t TAMS & Mujer  & 35.79955 & 0.7964164\\\\\n\t TLAX & Hombre & 44.48562 & 0.7102445\\\\\n\t TLAX & Mujer  & 39.14719 & 0.9451800\\\\\n\t VER  & Hombre & 44.23561 & 0.8394195\\\\\n\t VER  & Mujer  & 39.01789 & 1.2618085\\\\\n\t YUC  & Hombre & 41.81922 & 0.5917985\\\\\n\t YUC  & Mujer  & 34.00206 & 0.8320484\\\\\n\t ZAC  & Hombre & 41.31268 & 1.2470861\\\\\n\t ZAC  & Mujer  & 34.90959 & 1.1560800\\\\\n\\end{tabular}\n",
            "text/plain": [
              "   entidad_ab sex    coef     _se      \n",
              "1  AGS        Hombre 46.12230 0.5219736\n",
              "2  AGS        Mujer  39.43186 0.5496093\n",
              "3  BC         Hombre 41.98870 0.4796051\n",
              "4  BC         Mujer  37.80203 0.6647691\n",
              "5  BCS        Hombre 44.17163 0.7326871\n",
              "6  BCS        Mujer  37.15739 1.0119375\n",
              "7  CAMP       Hombre 43.38589 0.9779845\n",
              "8  CAMP       Mujer  35.56918 0.8107598\n",
              "9  CDMX       Hombre 41.94775 0.9412069\n",
              "10 CDMX       Mujer  36.64546 0.9024512\n",
              "11 CHIH       Hombre 41.87224 0.5707191\n",
              "12 CHIH       Mujer  36.95445 0.6099381\n",
              "13 CHIS       Hombre 42.94933 0.8961132\n",
              "14 CHIS       Mujer  38.65210 1.0018781\n",
              "15 COAH       Hombre 43.56698 0.5173595\n",
              "16 COAH       Mujer  37.38506 0.6533107\n",
              "17 COL        Hombre 42.33369 1.0985414\n",
              "18 COL        Mujer  35.46094 0.9984331\n",
              "19 DGO        Hombre 41.33545 0.8193891\n",
              "20 DGO        Mujer  34.44500 0.7924918\n",
              "21 GRO        Hombre 42.01568 1.0584354\n",
              "22 GRO        Mujer  34.79544 1.0113925\n",
              "23 GTO        Hombre 43.23454 0.7158171\n",
              "24 GTO        Mujer  38.59298 0.8710084\n",
              "25 HGO        Hombre 44.52837 1.5158549\n",
              "26 HGO        Mujer  35.15354 1.2438737\n",
              "27 JAL        Hombre 41.46729 0.6040301\n",
              "28 JAL        Mujer  36.71492 0.6506586\n",
              "29 MEX        Hombre 44.52518 0.7298736\n",
              "30 MEX        Mujer  39.18935 1.0728874\n",
              "⋮  ⋮          ⋮      ⋮        ⋮        \n",
              "35 NAY        Hombre 40.58148 0.7082175\n",
              "36 NAY        Mujer  34.30097 0.8017480\n",
              "37 NL         Hombre 44.26508 0.5055748\n",
              "38 NL         Mujer  38.71976 0.7360635\n",
              "39 OAX        Hombre 41.13180 1.0630753\n",
              "40 OAX        Mujer  34.80619 1.1104018\n",
              "41 PUE        Hombre 44.23943 0.6625499\n",
              "42 PUE        Mujer  37.97027 0.8212068\n",
              "43 QR         Hombre 43.71120 0.7285003\n",
              "44 QR         Mujer  39.66277 0.9089010\n",
              "45 QRO        Hombre 43.83402 0.6501149\n",
              "46 QRO        Mujer  39.80324 0.7482710\n",
              "47 SIN        Hombre 38.90242 0.8453076\n",
              "48 SIN        Mujer  33.33865 0.8973798\n",
              "49 SLP        Hombre 41.57872 0.9763866\n",
              "50 SLP        Mujer  36.61128 1.0070133\n",
              "51 SON        Hombre 41.42328 0.8257629\n",
              "52 SON        Mujer  37.29997 0.7609136\n",
              "53 TAB        Hombre 43.91174 1.0205767\n",
              "54 TAB        Mujer  35.55192 1.2137522\n",
              "55 TAMS       Hombre 43.19199 0.7100676\n",
              "56 TAMS       Mujer  35.79955 0.7964164\n",
              "57 TLAX       Hombre 44.48562 0.7102445\n",
              "58 TLAX       Mujer  39.14719 0.9451800\n",
              "59 VER        Hombre 44.23561 0.8394195\n",
              "60 VER        Mujer  39.01789 1.2618085\n",
              "61 YUC        Hombre 41.81922 0.5917985\n",
              "62 YUC        Mujer  34.00206 0.8320484\n",
              "63 ZAC        Hombre 41.31268 1.2470861\n",
              "64 ZAC        Mujer  34.90959 1.1560800"
            ]
          },
          "metadata": {}
        }
      ]
    }
  ]
}