{
  "nbformat": 4,
  "nbformat_minor": 0,
  "metadata": {
    "colab": {
      "provenance": [],
      "authorship_tag": "ABX9TyNg8y1UINM2DpbWbPv6NfX1",
      "include_colab_link": true
    },
    "kernelspec": {
      "name": "ir",
      "display_name": "R"
    },
    "language_info": {
      "name": "R"
    }
  },
  "cells": [
    {
      "cell_type": "markdown",
      "metadata": {
        "id": "view-in-github",
        "colab_type": "text"
      },
      "source": [
        "<a href=\"https://colab.research.google.com/github/DiegoSReco/Labor-Market-Analysis-ENOE/blob/main/Analisis_de_Encuestas_en_R.ipynb\" target=\"_parent\"><img src=\"https://colab.research.google.com/assets/colab-badge.svg\" alt=\"Open In Colab\"/></a>"
      ]
    },
    {
      "cell_type": "markdown",
      "source": [],
      "metadata": {
        "id": "DpSKYyHL9qBM"
      }
    },
    {
      "cell_type": "markdown",
      "source": [
        "\n",
        "\n",
        "# **Taller de Análisis de Encuestas Complejas en R**\n",
        "## **Colegio de Economistas de Aguascalientes**\n",
        "## **Diego Sánchez Rojas**\n",
        "\n",
        "### [LinkedIn](https://www.linkedin.com/in/diegorojas12/) [Github](https://github.com/DiegoSReco)\n",
        "\n",
        "\n",
        "**Objetivo:**\n",
        "\n",
        "\n",
        "\n"
      ],
      "metadata": {
        "id": "2SjG1XuZwXVj"
      }
    },
    {
      "cell_type": "markdown",
      "source": [
        "# **1. Introducción**\n",
        "- Los gobiernos, las empresas, ONGs e investigadores necesitamos información de características, opiniones, preferencias y comportamiento de una población.\n",
        "- Por la restricción de tiempo y dinero recurrimos al uso de **encuestas complejas** o  **encuestas de diseño probabilístico.**\n",
        "\n",
        "###**1.1 ¿Qué son las encuestas complejas?**\n",
        "\n",
        "- Las encuestas complejas tienen un diseño de muestra probabilístico, en donde los encuestados son seleccionados de forma aleatoria de tal forma que los resultados representen de forma precisa y eficiente a la población de interés.\n",
        "\n",
        "\n",
        "![sampling-inference.svg](data:image/svg+xml;base64,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)\n"
      ],
      "metadata": {
        "id": "cnmKd2zH2TJK"
      }
    },
    {
      "cell_type": "markdown",
      "source": [
        "\n",
        "\n",
        "###**1.2 Tipos de muestreo probabilístico**\n",
        "El muestreo probabilístico se caracteriza porque todos los individuos de la población tienen una probabilidad conocida y distinta de cero de ser seleccionados. Esto permite hacer inferencias estadísticas sobre la población.\n",
        "\n",
        "- **Muestreo aleatorio simple**: Cada miembro de la población tiene la misma probabilidad de ser seleccionado.\n",
        "\n",
        "- **Muestreo sistemático**: Se selecciona un punto de partida aleatorio y luego se elige cada k-ésimo miembro de la población.\n",
        "\n",
        "- **Muestreo estratificado**: La población se divide en subgrupos o estratos (por ejemplo, género, edad, estados) y se selecciona una muestra aleatoria de cada estrato.\n",
        "\n",
        "- **Muestreo por clusters**: La población se divide en grupos o clusters (como barrios, ciudades), y se seleccionan aleatoriamente algunos clusters. Luego, se estudian todos los individuos dentro de los clusters seleccionados o se toma una muestra dentro de ellos.\n",
        "\n",
        "- **Muestreo multietápico**: Combina varios tipos de muestreo (por ejemplo, clusters y luego aleatorio) en diferentes etapas.\n",
        "\n",
        "\n",
        "**Bibliografía:**\n",
        "\n",
        "- Lehtonen, R. & Pahkinen E. (2004). Practical Methods for Design and Analysis of Complex Surveys\n",
        "\n",
        "- Levy, P. S., & Lemeshow, S. (1993). Sampling of Populations: Methods and Applications.\n",
        "\n"
      ],
      "metadata": {
        "id": "dd7tuooXMmlr"
      }
    },
    {
      "cell_type": "markdown",
      "source": [
        "### **1.3 Conceptos básicos de una encuesta compleja**\n",
        "\n",
        "- **Estrato**\n",
        "\n",
        " Subgrupo o subdivisión de la población que comparte ciertas características comunes. En el muestreo estratificado, la población se divide en estratos, como grupos de edad, género, ubicación geográfica, nivel socioeconómico, entre otros. Cada estrato se trata como una subpoblación independiente, y se toma una muestra aleatoria de cada uno.\n",
        "\n",
        "- **Unidad primaria de muestreo (UPM)**\n",
        "  Primer nivel de selección de la muestra en un muestreo por etapas. En una encuesta compleja, especialmente en un muestreo por clusters o multietápico, se seleccionan primero las UPMs, que son subgrupos más grandes de la población, y luego se eligen unidades de muestreo adicionales dentro de ellas.  Ejemplo de UPM sería las viviendas.\n",
        "\n",
        "\n",
        "  - **Ponderadores**\n",
        "  Son factores aplicados a cada observación en la muestra para corregir las probabilidades de selección y asegurar que los resultados sean representativos de la población total.\n",
        "  Ejemplo de cálculo de ponderadores:\n",
        "  \n",
        "  Si suponemos que el muestreo fue aletorio simple la probabilidad de selección será la misma y la definimos como $p_i$, el peso o ponderador será igual al inverso de la probabilidad:\n",
        "  $$ Peso Base (w_i) = \\frac{1}{p_i}$$\n",
        "\n",
        "  Población: 10,000 personas\n",
        "\n",
        "  Muestra seleccionada: 500 personas  \n",
        "\n",
        "$$p_i = \\frac{500}{10,000} = 0.05 $$\n",
        "\n",
        "$$\\therefore~~~w_i = \\frac{1}{0.05}=20$$\n",
        "\n",
        "\n",
        "\n",
        "- En la realidad no es tan simple y se deben considerar ajustes por no respuesta, ajuste porestratificación o clusterisación, normalización de ponderadores, etc.\n",
        "\n"
      ],
      "metadata": {
        "id": "-eKt-Ft-Rfjj"
      }
    },
    {
      "cell_type": "markdown",
      "source": [
        "# **¿Cómo podemos manejar el diseño de la encuesta?**\n",
        "\n",
        "*   Anteriormente se utilizaban softwares como SPSS y Stata\n",
        "*   Software libre y de código abierto como R\n",
        "\n",
        "### **Ventajas**\n",
        "\n",
        "\n",
        "1.  A diferencia de SPSS y Stata que requieren licencias costosas, R es completamente gratuito. Esto facilita el acceso para estudiantes, investigadores y organizaciones con presupuestos limitados.\n",
        "\n",
        "2. Flexibilidad y facilidad:\n",
        "En R, específicamente utilizamos la  paquete **srvyr** la cual combina la sintaxis intuitiva de **dplyr** para manipulación de datos con las capacidades de **survey** para análisis de encuestas complejas.\n",
        "\n",
        "\n",
        "3. Reproducibilidad y automatización: Permite crear flujos de trabajo reproducibles y personalizados debido a la integración con otros paquetes de R para visualizaciónes de gran calidad (**ggplot2**) y reportes automatizados (**RMarkdown o Quarto**).\n",
        "\n",
        "[dplyr](https://dplyr.tidyverse.org/index.html)\n",
        "\n",
        "[srvyr](https://cran.r-project.org/web/packages/srvyr/index.html)\n",
        "\n",
        "\n",
        "\n",
        "\n",
        "\n",
        "\n"
      ],
      "metadata": {
        "id": "E-LHZtRF1eT7"
      }
    },
    {
      "cell_type": "markdown",
      "source": [
        "# **2. Ejemplo**\n",
        "\n",
        "## **¿Cuál es el promedio de horas trabajadas por semana en México, y cómo cambia por entidad y sexo?**\n",
        "\n",
        "*   **Utilizaremos los microdatos de la Encuesta Nacional de Ocupación y Empleo (ENOE) trimestre II de 2024 del INEGI**.\n",
        "*   **Específicamente, la tabla de Sociodemográficos.**\n",
        "\n"
      ],
      "metadata": {
        "id": "1rUTJBxZ0Hpr"
      }
    },
    {
      "cell_type": "markdown",
      "source": [
        "## **2.1 Carga de Datos**\n",
        "\n",
        "*  **Realizamos la descarga temporal de los datos de la página del INEGI:**"
      ],
      "metadata": {
        "id": "XAVMWCTw5UaT"
      }
    },
    {
      "cell_type": "code",
      "source": [
        "#Librerias\n",
        "install.packages('pacman')\n",
        "library('pacman')\n",
        "\n",
        "p_load('tidyverse',\n",
        "        \"readxl\",\n",
        "        \"data.table\",\n",
        "        \"curl\")"
      ],
      "metadata": {
        "id": "lQX3jRV12L3F"
      },
      "execution_count": null,
      "outputs": []
    },
    {
      "cell_type": "code",
      "source": [
        "#Datos\n",
        "#Link ENOE 2024 T2\n",
        "url_enoe  <- \"https://www.inegi.org.mx/contenidos/programas/enoe/15ymas/microdatos//enoe_2024_trim2_csv.zip\"\n",
        "#Descarga temporal\n",
        "td  <- tempdir() #directorio\n",
        "tf <- tempfile(tmpdir= td, fileext = \".zip\") #file\n",
        "dir.create(td, recursive = TRUE, showWarnings = FALSE)\n",
        "#Descarga temporal\n",
        "curl::curl_download(url_enoe, tf, quiet = FALSE, mode = \"wb\")\n",
        "#Nombres de los file dentro del archivo que descargamos temporalmente\n",
        "zipped_files <- as.data.frame(unzip(tf, list = TRUE,  overwrite=TRUE))$Name\n",
        "#UTILIZAMOS TABLA DE SOCIODEMOGRÁFICOS\n",
        "file_to_load <- zipped_files[grepl(\"(?i)sdem\", zipped_files)]\n",
        "#Unzip\n",
        "unzip(tf, files= file_to_load, exdir=td, overwrite=TRUE)\n",
        "#path del file que utilizaremos\n",
        "fpath <- file.path(td, file_to_load  )\n",
        "#Unlink\n",
        "unlink(td)\n",
        "\n",
        "print(file_to_load)\n"
      ],
      "metadata": {
        "colab": {
          "base_uri": "https://localhost:8080/"
        },
        "id": "HjFSYTuUSToX",
        "outputId": "c00213bb-026d-4f4f-bd88-789486fa45b8"
      },
      "execution_count": null,
      "outputs": [
        {
          "output_type": "stream",
          "name": "stdout",
          "text": [
            "[1] \"ENOE_COE1T224.csv\" \"ENOE_COE2T224.csv\" \"ENOE_HOGT224.csv\" \n",
            "[4] \"ENOE_SDEMT224.csv\" \"ENOE_VIVT224.csv\" \n"
          ]
        }
      ]
    },
    {
      "cell_type": "markdown",
      "source": [
        "### Vistazo de los datos que usaremos"
      ],
      "metadata": {
        "id": "vjxQjXF_Zakl"
      }
    },
    {
      "cell_type": "code",
      "source": [
        "  #Cargamos datos con la función fread de la libreria data.table\n",
        "  #Load file\n",
        "  df_enoe <- fread(fpath)\n",
        "  glimpse(df_enoe)\n"
      ],
      "metadata": {
        "colab": {
          "base_uri": "https://localhost:8080/"
        },
        "id": "dwzSOVaFy0n1",
        "outputId": "cc2ba170-deb8-4f44-c7e1-b4da72ec020d"
      },
      "execution_count": null,
      "outputs": [
        {
          "output_type": "stream",
          "name": "stdout",
          "text": [
            "Rows: 427,123\n",
            "Columns: 114\n",
            "$ r_def      \u001b[3m\u001b[90m<int>\u001b[39m\u001b[23m 0, 0, 0, 0, 0, 0, 0, 0, 0, 0, 0, 0, 0, 0, 0, 0, 0, 0, 0, 0,…\n",
            "$ loc        \u001b[3m\u001b[90m<lgl>\u001b[39m\u001b[23m NA, NA, NA, NA, NA, NA, NA, NA, NA, NA, NA, NA, NA, NA, NA,…\n",
            "$ mun        \u001b[3m\u001b[90m<int>\u001b[39m\u001b[23m 2, 2, 10, 6, 6, 6, 6, 6, 11, 11, 10, 13, 5, 7, 7, 15, 14, 1…\n",
            "$ est        \u001b[3m\u001b[90m<int>\u001b[39m\u001b[23m 10, 10, 30, 20, 20, 20, 30, 30, 20, 20, 30, 20, 30, 20, 30,…\n",
            "$ est_d_tri  \u001b[3m\u001b[90m<int>\u001b[39m\u001b[23m 122, 122, 124, 123, 123, 123, 124, 124, 123, 123, 124, 123,…\n",
            "$ est_d_men  \u001b[3m\u001b[90m<int>\u001b[39m\u001b[23m NA, NA, NA, 117, 117, NA, NA, NA, NA, NA, NA, NA, NA, NA, N…\n",
            "$ ageb       \u001b[3m\u001b[90m<int>\u001b[39m\u001b[23m 0, 0, 0, 0, 0, 0, 0, 0, 0, 0, 0, 0, 0, 0, 0, 0, 0, 0, 0, 0,…\n",
            "$ t_loc_tri  \u001b[3m\u001b[90m<int>\u001b[39m\u001b[23m 1, 1, 1, 1, 1, 1, 1, 1, 1, 1, 1, 1, 1, 1, 1, 1, 1, 1, 1, 1,…\n",
            "$ t_loc_men  \u001b[3m\u001b[90m<int>\u001b[39m\u001b[23m NA, NA, NA, 1, 1, NA, NA, NA, NA, NA, NA, NA, NA, NA, NA, 1…\n",
            "$ cd_a       \u001b[3m\u001b[90m<int>\u001b[39m\u001b[23m 1, 1, 1, 1, 1, 1, 1, 1, 1, 1, 1, 1, 1, 1, 1, 1, 1, 1, 1, 1,…\n",
            "$ ent        \u001b[3m\u001b[90m<int>\u001b[39m\u001b[23m 9, 9, 9, 9, 9, 9, 9, 9, 9, 9, 9, 9, 9, 9, 9, 9, 9, 9, 9, 9,…\n",
            "$ con        \u001b[3m\u001b[90m<int>\u001b[39m\u001b[23m 40001, 40001, 40002, 40003, 40003, 40003, 40004, 40004, 400…\n",
            "$ upm        \u001b[3m\u001b[90m<int>\u001b[39m\u001b[23m 900987, 900987, 912033, 906619, 906619, 906619, 906094, 906…\n",
            "$ d_sem      \u001b[3m\u001b[90m<int>\u001b[39m\u001b[23m 101, 101, 101, 112, 112, 101, 101, 101, 101, 101, 101, 101,…\n",
            "$ n_pro_viv  \u001b[3m\u001b[90m<int>\u001b[39m\u001b[23m 86, 120, 73, 28, 9, 33, 3, 80, 59, 59, 58, 77, 71, 36, 56, …\n",
            "$ v_sel      \u001b[3m\u001b[90m<int>\u001b[39m\u001b[23m 3, 4, 3, 2, 1, 2, 1, 4, 2, 2, 3, 2, 5, 2, 2, 5, 3, 5, 1, 3,…\n",
            "$ n_hog      \u001b[3m\u001b[90m<int>\u001b[39m\u001b[23m 1, 1, 1, 1, 1, 1, 1, 1, 1, 1, 1, 1, 1, 1, 1, 1, 1, 1, 1, 1,…\n",
            "$ h_mud      \u001b[3m\u001b[90m<int>\u001b[39m\u001b[23m 0, 0, 0, 0, 0, 0, 1, 0, 0, 0, 0, 0, 0, 0, 0, 0, 0, 0, 0, 0,…\n",
            "$ n_ent      \u001b[3m\u001b[90m<int>\u001b[39m\u001b[23m 2, 2, 2, 2, 2, 2, 2, 2, 2, 2, 2, 2, 5, 5, 5, 5, 5, 5, 5, 5,…\n",
            "$ per        \u001b[3m\u001b[90m<int>\u001b[39m\u001b[23m 224, 224, 224, 224, 224, 224, 224, 224, 224, 224, 224, 224,…\n",
            "$ n_ren      \u001b[3m\u001b[90m<int>\u001b[39m\u001b[23m 1, 2, 1, 1, 1, 3, 2, 2, 2, 3, 1, 2, 5, 4, 2, 3, 3, 1, 1, 4,…\n",
            "$ c_res      \u001b[3m\u001b[90m<int>\u001b[39m\u001b[23m 1, 1, 1, 1, 1, 1, 1, 1, 1, 1, 1, 1, 1, 1, 1, 1, 1, 1, 1, 1,…\n",
            "$ par_c      \u001b[3m\u001b[90m<int>\u001b[39m\u001b[23m 101, 202, 101, 101, 101, 418, 201, 201, 201, 301, 101, 201,…\n",
            "$ sex        \u001b[3m\u001b[90m<int>\u001b[39m\u001b[23m 2, 2, 2, 2, 2, 2, 2, 2, 2, 2, 1, 2, 2, 1, 1, 1, 1, 2, 2, 1,…\n",
            "$ eda        \u001b[3m\u001b[90m<int>\u001b[39m\u001b[23m 33, 52, 74, 24, 24, 50, 36, 39, 52, 28, 31, 63, 19, 27, 57,…\n",
            "$ nac_dia    \u001b[3m\u001b[90m<int>\u001b[39m\u001b[23m 23, 30, 26, 11, 25, 22, 27, 27, 6, 1, 5, 22, 99, 13, 11, 4,…\n",
            "$ nac_mes    \u001b[3m\u001b[90m<int>\u001b[39m\u001b[23m 4, 4, 1, 6, 2, 7, 10, 12, 7, 1, 4, 10, 99, 9, 3, 2, 1, 4, 1…\n",
            "$ nac_anio   \u001b[3m\u001b[90m<int>\u001b[39m\u001b[23m 1990, 1971, 1950, 2000, 2000, 1973, 1987, 1984, 1971, 1996,…\n",
            "$ l_nac_c    \u001b[3m\u001b[90m<int>\u001b[39m\u001b[23m 9, 22, 13, 30, 9, 9, 9, 9, 9, 9, 15, 9, 9, 9, 9, 9, 9, 9, 9…\n",
            "$ cs_p12     \u001b[3m\u001b[90m<int>\u001b[39m\u001b[23m 1, 1, 1, 1, 1, 1, 1, 1, 1, 1, 1, 1, 1, 1, 1, 1, 1, 1, 1, 1,…\n",
            "$ cs_p13_1   \u001b[3m\u001b[90m<int>\u001b[39m\u001b[23m 7, 6, 6, 2, 7, 6, 4, 4, 4, 7, 2, 7, 4, 7, 3, 3, 2, 8, 6, 4,…\n",
            "$ cs_p13_2   \u001b[3m\u001b[90m<int>\u001b[39m\u001b[23m 1, 3, 3, 6, 5, 3, 3, 3, 3, 4, 6, 4, 2, 4, 3, 3, 6, 3, 3, 3,…\n",
            "$ cs_p14_c   \u001b[3m\u001b[90m<int>\u001b[39m\u001b[23m 41400, 41400, 101400, NA, 33100, 61300, NA, NA, NA, 42100, …\n",
            "$ cs_p15     \u001b[3m\u001b[90m<int>\u001b[39m\u001b[23m 3, 2, 1, NA, 3, 2, NA, NA, NA, 3, NA, 3, NA, 3, NA, NA, NA,…\n",
            "$ cs_p16     \u001b[3m\u001b[90m<int>\u001b[39m\u001b[23m 2, 1, 2, NA, 1, 1, NA, NA, NA, 1, NA, 1, NA, 1, NA, NA, NA,…\n",
            "$ cs_p17     \u001b[3m\u001b[90m<int>\u001b[39m\u001b[23m 2, 2, 2, 2, 2, 2, 2, 2, 2, 2, 2, 2, 1, 2, 2, 2, 2, 2, 2, 2,…\n",
            "$ n_hij      \u001b[3m\u001b[90m<int>\u001b[39m\u001b[23m 2, 2, 1, 0, 0, 2, 3, 4, 2, 0, NA, 2, 0, NA, NA, NA, NA, 0, …\n",
            "$ e_con      \u001b[3m\u001b[90m<int>\u001b[39m\u001b[23m 5, 5, 6, 6, 6, 5, 5, 1, 5, 6, 5, 5, 6, 6, 6, 5, 6, 6, 4, 6,…\n",
            "$ cs_p20a_1  \u001b[3m\u001b[90m<int>\u001b[39m\u001b[23m 1, 1, 1, 1, 1, 1, 1, 1, 1, 1, 1, 1, 1, 1, 1, 1, 1, 1, 1, 1,…\n",
            "$ cs_p20a_c  \u001b[3m\u001b[90m<int>\u001b[39m\u001b[23m 9, 9, 9, 9, 9, 9, 9, 9, 9, 9, 9, 9, 9, 9, 9, 9, 9, 9, 9, 9,…\n",
            "$ cs_p20b_1  \u001b[3m\u001b[90m<int>\u001b[39m\u001b[23m 1, 1, 1, 1, 1, 1, 1, 1, 1, 1, 1, 1, 1, 1, 1, 1, 1, 1, 1, 1,…\n",
            "$ cs_p20b_c  \u001b[3m\u001b[90m<int>\u001b[39m\u001b[23m 2, 2, 10, 6, 6, 6, 6, 6, 11, 11, 10, 13, 5, 7, 7, 15, 14, 1…\n",
            "$ cs_p20c_1  \u001b[3m\u001b[90m<int>\u001b[39m\u001b[23m NA, NA, NA, NA, NA, NA, NA, NA, NA, NA, NA, NA, NA, NA, NA,…\n",
            "$ cs_ad_mot  \u001b[3m\u001b[90m<int>\u001b[39m\u001b[23m NA, NA, NA, NA, NA, NA, NA, NA, NA, NA, NA, NA, NA, NA, NA,…\n",
            "$ cs_p21_des \u001b[3m\u001b[90m<chr>\u001b[39m\u001b[23m \"\", \"\", \"\", \"\", \"\", \"\", \"\", \"\", \"\", \"\", \"\", \"\", \"\", \"\", \"\",…\n",
            "$ cs_ad_des  \u001b[3m\u001b[90m<int>\u001b[39m\u001b[23m NA, NA, NA, NA, NA, NA, NA, NA, NA, NA, NA, NA, NA, NA, NA,…\n",
            "$ cs_nr_mot  \u001b[3m\u001b[90m<int>\u001b[39m\u001b[23m NA, NA, NA, NA, NA, NA, NA, NA, NA, NA, NA, NA, NA, NA, NA,…\n",
            "$ cs_p23_des \u001b[3m\u001b[90m<chr>\u001b[39m\u001b[23m \"\", \"\", \"\", \"\", \"\", \"\", \"\", \"\", \"\", \"\", \"\", \"\", \"\", \"\", \"\",…\n",
            "$ cs_nr_ori  \u001b[3m\u001b[90m<int>\u001b[39m\u001b[23m NA, NA, NA, NA, NA, NA, NA, NA, NA, NA, NA, NA, NA, NA, NA,…\n",
            "$ ur         \u001b[3m\u001b[90m<int>\u001b[39m\u001b[23m 1, 1, 1, 1, 1, 1, 1, 1, 1, 1, 1, 1, 1, 1, 1, 1, 1, 1, 1, 1,…\n",
            "$ zona       \u001b[3m\u001b[90m<int>\u001b[39m\u001b[23m 2, 2, 2, 2, 2, 2, 2, 2, 2, 2, 2, 2, 2, 2, 2, 2, 2, 2, 2, 2,…\n",
            "$ salario    \u001b[3m\u001b[90m<int>\u001b[39m\u001b[23m 7468, 7468, 7468, 7468, 7468, 7468, 7468, 7468, 7468, 7468,…\n",
            "$ fac_tri    \u001b[3m\u001b[90m<int>\u001b[39m\u001b[23m 2998, 2998, 862, 432, 432, 432, 1007, 1007, 1026, 1026, 341…\n",
            "$ fac_men    \u001b[3m\u001b[90m<int>\u001b[39m\u001b[23m 0, 0, 0, 4038, 4038, 0, 0, 0, 0, 0, 0, 0, 0, 0, 0, 3479, 0,…\n",
            "$ clase1     \u001b[3m\u001b[90m<int>\u001b[39m\u001b[23m 1, 1, 2, 1, 1, 1, 2, 2, 1, 1, 1, 1, 2, 1, 2, 2, 1, 1, 2, 1,…\n",
            "$ clase2     \u001b[3m\u001b[90m<int>\u001b[39m\u001b[23m 1, 1, 4, 1, 1, 1, 4, 3, 1, 2, 2, 1, 4, 1, 4, 4, 1, 1, 3, 1,…\n",
            "$ clase3     \u001b[3m\u001b[90m<int>\u001b[39m\u001b[23m 1, 3, 0, 1, 1, 1, 0, 0, 3, 6, 6, 1, 0, 1, 0, 0, 1, 1, 0, 1,…\n",
            "$ pos_ocu    \u001b[3m\u001b[90m<int>\u001b[39m\u001b[23m 1, 1, 0, 1, 1, 3, 0, 0, 1, 0, 0, 2, 0, 1, 0, 0, 1, 1, 0, 1,…\n",
            "$ seg_soc    \u001b[3m\u001b[90m<int>\u001b[39m\u001b[23m 1, 1, 0, 2, 2, 2, 0, 0, 1, 0, 0, 2, 0, 1, 0, 0, 2, 1, 0, 2,…\n",
            "$ rama       \u001b[3m\u001b[90m<int>\u001b[39m\u001b[23m 4, 1, 0, 4, 4, 3, 0, 0, 4, 0, 0, 4, 0, 1, 0, 0, 4, 4, 0, 7,…\n",
            "$ c_ocu11c   \u001b[3m\u001b[90m<int>\u001b[39m\u001b[23m 1, 5, 0, 8, 1, 6, 0, 0, 4, 0, 0, 1, 0, 1, 0, 0, 6, 1, 0, 6,…\n",
            "$ ing7c      \u001b[3m\u001b[90m<int>\u001b[39m\u001b[23m 3, 7, 0, 1, 2, 1, 0, 0, 1, 0, 0, 3, 0, 7, 0, 0, 1, 1, 0, 1,…\n",
            "$ dur9c      \u001b[3m\u001b[90m<int>\u001b[39m\u001b[23m 4, 1, 0, 8, 4, 4, 0, 0, 1, 0, 0, 3, 0, 4, 0, 0, 5, 3, 0, 4,…\n",
            "$ emple7c    \u001b[3m\u001b[90m<int>\u001b[39m\u001b[23m 6, 6, 0, 2, 3, 1, 0, 0, 6, 0, 0, 2, 0, 6, 0, 0, 4, 6, 0, 2,…\n",
            "$ medica5c   \u001b[3m\u001b[90m<int>\u001b[39m\u001b[23m 3, 3, 0, 4, 4, 1, 0, 0, 3, 0, 0, 1, 0, 3, 0, 0, 4, 3, 0, 1,…\n",
            "$ buscar5c   \u001b[3m\u001b[90m<int>\u001b[39m\u001b[23m 4, 4, 0, 4, 4, 4, 0, 0, 4, 0, 0, 4, 0, 4, 0, 0, 4, 4, 0, 4,…\n",
            "$ rama_est1  \u001b[3m\u001b[90m<int>\u001b[39m\u001b[23m 3, 2, 0, 3, 3, 3, 0, 0, 3, 0, 0, 3, 0, 2, 0, 0, 3, 3, 0, 4,…\n",
            "$ rama_est2  \u001b[3m\u001b[90m<int>\u001b[39m\u001b[23m 8, 4, 0, 6, 8, 5, 0, 0, 9, 0, 0, 8, 0, 4, 0, 0, 6, 11, 0, 0…\n",
            "$ dur_est    \u001b[3m\u001b[90m<int>\u001b[39m\u001b[23m 3, 1, 0, 5, 3, 3, 0, 0, 1, 0, 0, 3, 0, 3, 0, 0, 4, 3, 0, 3,…\n",
            "$ ambito1    \u001b[3m\u001b[90m<int>\u001b[39m\u001b[23m 2, 2, 0, 2, 2, 2, 0, 0, 2, 0, 0, 2, 0, 2, 0, 0, 2, 2, 0, 2,…\n",
            "$ ambito2    \u001b[3m\u001b[90m<int>\u001b[39m\u001b[23m 5, 5, 0, 3, 4, 3, 0, 0, 5, 0, 0, 3, 0, 5, 0, 0, 4, 7, 0, 8,…\n",
            "$ tue1       \u001b[3m\u001b[90m<int>\u001b[39m\u001b[23m 1, 1, 0, 1, 1, 3, 0, 0, 2, 0, 0, 1, 0, 1, 0, 0, 1, 2, 0, 4,…\n",
            "$ tue2       \u001b[3m\u001b[90m<int>\u001b[39m\u001b[23m 1, 1, 0, 2, 1, 5, 0, 0, 4, 0, 0, 2, 0, 1, 0, 0, 2, 4, 0, 0,…\n",
            "$ tue3       \u001b[3m\u001b[90m<int>\u001b[39m\u001b[23m 0, 0, 0, 0, 0, 0, 0, 0, 1, 0, 0, 0, 0, 0, 0, 0, 0, 2, 0, 0,…\n",
            "$ busqueda   \u001b[3m\u001b[90m<int>\u001b[39m\u001b[23m 2, 2, 0, 2, 2, 2, 0, 0, 2, 0, 0, 2, 0, 2, 0, 0, 2, 2, 0, 2,…\n",
            "$ d_ant_lab  \u001b[3m\u001b[90m<int>\u001b[39m\u001b[23m 0, 0, 0, 0, 0, 0, 0, 0, 0, 1, 1, 0, 0, 0, 0, 0, 0, 0, 0, 0,…\n",
            "$ d_cexp_est \u001b[3m\u001b[90m<int>\u001b[39m\u001b[23m 0, 0, 0, 0, 0, 0, 0, 0, 0, 2, 2, 0, 0, 0, 0, 0, 0, 0, 0, 0,…\n",
            "$ dur_des    \u001b[3m\u001b[90m<int>\u001b[39m\u001b[23m 0, 0, 0, 0, 0, 0, 0, 0, 0, 4, 6, 0, 0, 0, 0, 0, 0, 0, 0, 0,…\n",
            "$ sub_o      \u001b[3m\u001b[90m<int>\u001b[39m\u001b[23m 0, 0, 0, 0, 0, 1, 0, 0, 0, 0, 0, 0, 0, 0, 0, 0, 0, 0, 0, 0,…\n",
            "$ s_clasifi  \u001b[3m\u001b[90m<int>\u001b[39m\u001b[23m 0, 0, 0, 0, 0, 3, 0, 0, 0, 0, 0, 0, 0, 0, 0, 0, 0, 0, 0, 0,…\n",
            "$ remune2c   \u001b[3m\u001b[90m<int>\u001b[39m\u001b[23m 1, 1, 0, 1, 1, 0, 0, 0, 1, 0, 0, 0, 0, 1, 0, 0, 1, 1, 0, 2,…\n",
            "$ pre_asa    \u001b[3m\u001b[90m<int>\u001b[39m\u001b[23m 1, 1, 0, 1, 1, 0, 0, 0, 1, 0, 0, 0, 0, 1, 0, 0, 1, 1, 0, 2,…\n",
            "$ tip_con    \u001b[3m\u001b[90m<int>\u001b[39m\u001b[23m 3, 3, 0, 5, 5, 0, 0, 0, 3, 0, 0, 0, 0, 3, 0, 0, 5, 3, 0, 5,…\n",
            "$ dispo      \u001b[3m\u001b[90m<int>\u001b[39m\u001b[23m 0, 0, 0, 0, 0, 0, 0, 4, 0, 0, 0, 0, 0, 0, 0, 0, 0, 0, 4, 0,…\n",
            "$ nodispo    \u001b[3m\u001b[90m<int>\u001b[39m\u001b[23m 0, 0, 3, 0, 0, 0, 9, 0, 0, 0, 0, 0, 3, 0, 9, 3, 0, 0, 0, 0,…\n",
            "$ c_inac5c   \u001b[3m\u001b[90m<int>\u001b[39m\u001b[23m 0, 0, 2, 0, 0, 0, 2, 2, 0, 0, 0, 0, 1, 0, 2, 3, 0, 0, 2, 0,…\n",
            "$ pnea_est   \u001b[3m\u001b[90m<int>\u001b[39m\u001b[23m 0, 0, 4, 0, 0, 0, 3, 2, 0, 0, 0, 0, 4, 0, 3, 4, 0, 0, 2, 0,…\n",
            "$ niv_ins    \u001b[3m\u001b[90m<int>\u001b[39m\u001b[23m 4, 3, 2, 2, 4, 3, 4, 4, 4, 4, 2, 4, 3, 4, 3, 3, 2, 4, 3, 4,…\n",
            "$ eda5c      \u001b[3m\u001b[90m<int>\u001b[39m\u001b[23m 2, 3, 4, 1, 1, 3, 2, 2, 3, 2, 2, 3, 1, 2, 3, 4, 1, 2, 3, 1,…\n",
            "$ eda7c      \u001b[3m\u001b[90m<int>\u001b[39m\u001b[23m 3, 5, 6, 2, 2, 5, 3, 3, 5, 2, 3, 6, 1, 2, 5, 6, 1, 3, 6, 1,…\n",
            "$ eda12c     \u001b[3m\u001b[90m<int>\u001b[39m\u001b[23m 4, 8, 11, 2, 2, 8, 5, 5, 8, 3, 4, 10, 1, 3, 9, 11, 1, 5, 10…\n",
            "$ eda19c     \u001b[3m\u001b[90m<int>\u001b[39m\u001b[23m 9, 13, 17, 7, 7, 13, 10, 10, 13, 8, 9, 15, 6, 8, 14, 16, 6,…\n",
            "$ hij5c      \u001b[3m\u001b[90m<int>\u001b[39m\u001b[23m 2, 2, 2, 1, 1, 2, 3, 3, 2, 1, 0, 2, 1, 0, 0, 0, 0, 1, 3, 0,…\n",
            "$ domestico  \u001b[3m\u001b[90m<int>\u001b[39m\u001b[23m 3, 3, 8, 3, 3, 3, 8, 8, 3, 3, 3, 3, 8, 3, 8, 9, 3, 3, 8, 3,…\n",
            "$ anios_esc  \u001b[3m\u001b[90m<int>\u001b[39m\u001b[23m 13, 12, 9, 6, 17, 12, 12, 12, 12, 16, 6, 16, 11, 16, 9, 9, …\n",
            "$ hrsocup    \u001b[3m\u001b[90m<int>\u001b[39m\u001b[23m 30, 0, 0, 66, 30, 25, 0, 0, 0, 0, 0, 24, 0, 30, 0, 0, 36, 1…\n",
            "$ ingocup    \u001b[3m\u001b[90m<int>\u001b[39m\u001b[23m 20000, 0, 0, 5160, 10000, 0, 0, 0, 7000, 0, 0, 0, 0, 0, 0, …\n",
            "$ ing_x_hrs  \u001b[3m\u001b[90m<dbl>\u001b[39m\u001b[23m 155.03876, 0.00000, 0.00000, 18.18182, 77.51938, 0.00000, 0…\n",
            "$ tpg_p8a    \u001b[3m\u001b[90m<int>\u001b[39m\u001b[23m 0, 0, 0, 0, 0, 0, 0, 0, 0, 0, 0, 0, 0, 0, 0, 0, 0, 0, 0, 0,…\n",
            "$ tcco       \u001b[3m\u001b[90m<int>\u001b[39m\u001b[23m 0, 0, 0, 2, 0, 1, 0, 0, 0, 0, 0, 0, 0, 0, 0, 0, 2, 0, 0, 0,…\n",
            "$ cp_anoc    \u001b[3m\u001b[90m<int>\u001b[39m\u001b[23m 0, 0, 0, 0, 0, 1, 0, 0, 0, 0, 0, 0, 0, 0, 0, 0, 0, 0, 0, 0,…\n",
            "$ imssissste \u001b[3m\u001b[90m<int>\u001b[39m\u001b[23m 1, 1, 0, 4, 4, 4, 0, 0, 2, 0, 0, 4, 0, 1, 0, 0, 4, 2, 0, 4,…\n",
            "$ ma48me1sm  \u001b[3m\u001b[90m<int>\u001b[39m\u001b[23m 0, 0, 0, 1, 0, 0, 0, 0, 0, 0, 0, 0, 0, 0, 0, 0, 0, 0, 0, 0,…\n",
            "$ p14apoyos  \u001b[3m\u001b[90m<int>\u001b[39m\u001b[23m 0, 0, 0, 0, 0, 0, 0, 0, 0, 0, 0, 0, 0, 0, 0, 0, 0, 0, 0, 0,…\n",
            "$ scian      \u001b[3m\u001b[90m<int>\u001b[39m\u001b[23m 12, 4, 0, 18, 12, 7, 0, 0, 15, 0, 0, 12, 0, 4, 0, 0, 18, 20…\n",
            "$ t_tra      \u001b[3m\u001b[90m<int>\u001b[39m\u001b[23m 1, 1, 1, 1, 1, 1, 1, 1, 1, 1, 1, 1, 1, 1, 1, 1, 1, 1, 1, 1,…\n",
            "$ emp_ppal   \u001b[3m\u001b[90m<int>\u001b[39m\u001b[23m 2, 2, 0, 1, 1, 1, 0, 0, 2, 0, 0, 2, 0, 2, 0, 0, 1, 2, 0, 1,…\n",
            "$ tue_ppal   \u001b[3m\u001b[90m<int>\u001b[39m\u001b[23m 2, 2, 0, 2, 2, 1, 0, 0, 2, 0, 0, 2, 0, 2, 0, 0, 2, 2, 0, 2,…\n",
            "$ trans_ppal \u001b[3m\u001b[90m<int>\u001b[39m\u001b[23m 0, 0, 0, 0, 0, 0, 0, 0, 0, 0, 0, 0, 0, 0, 0, 0, 0, 0, 0, 0,…\n",
            "$ mh_fil2    \u001b[3m\u001b[90m<int>\u001b[39m\u001b[23m 3, 3, 0, 3, 3, 1, 0, 0, 3, 0, 0, 3, 0, 3, 0, 0, 3, 3, 0, 3,…\n",
            "$ mh_col     \u001b[3m\u001b[90m<int>\u001b[39m\u001b[23m 2, 2, 0, 1, 1, 7, 0, 0, 2, 0, 0, 6, 0, 2, 0, 0, 1, 2, 0, 3,…\n",
            "$ sec_ins    \u001b[3m\u001b[90m<int>\u001b[39m\u001b[23m 2, 2, 0, 4, 2, 8, 0, 0, 7, 0, 0, 4, 0, 2, 0, 0, 4, 5, 0, 11…\n",
            "$ tipo       \u001b[3m\u001b[90m<int>\u001b[39m\u001b[23m 1, 1, 1, 2, 2, 1, 1, 1, 1, 1, 1, 1, 1, 1, 1, 2, 1, 1, 1, 1,…\n",
            "$ mes_cal    \u001b[3m\u001b[90m<int>\u001b[39m\u001b[23m 97, 97, 97, 6, 6, 97, 97, 97, 97, 97, 97, 97, 97, 97, 97, 4…\n"
          ]
        }
      ]
    },
    {
      "cell_type": "markdown",
      "source": [
        "## Preparación de los datos"
      ],
      "metadata": {
        "id": "HsDud0jlZpk5"
      }
    },
    {
      "cell_type": "code",
      "source": [
        "#Preparación de datos\n",
        "#Cambiamos nombres de algunas variables\n",
        "rename_dict <- c( \"clase1\" = \"clas_PEA\",\n",
        "                  \"clase2\" = \"clas_PO\",\n",
        "                  \"emp_ppal\" = \"clas_INF\",\n",
        "                  \"sex\" = \"sexo\",\n",
        "                  \"hrsocup\" = \"n_hrs\",\n",
        "                  \"ingocup\" = \"ing_men\",\n",
        "                  \"ing_x_hrs\" = \"ing_hrs\",\n",
        "                  \"t_loc\" = \"t_loc\",\n",
        "                  \"ent\" = \"entidad\")\n",
        "\n",
        "colnames(df_enoe) <- rename_dict[match(colnames(df_enoe),\n",
        "                                                   names(rename_dict))]\n"
      ],
      "metadata": {
        "id": "qKL4AALty2su"
      },
      "execution_count": null,
      "outputs": []
    },
    {
      "cell_type": "code",
      "source": [
        "### Filtros y codificación de algunas variables\n",
        "\n",
        "df_enoe_f <- df_enoe |>\n",
        "             filter(r_def==0 & (c_res ==1 | c_res ==3) & (eda >= 15 &  eda< 30)) |>    #c_res: Condición de residencia y r_def: residencia definitiva. Para el uso de variables tenemos que aplicar este criterio según el Descriptor del archivo\n",
        "             mutate(\n",
        "                     clas_ocupado = case_when(\n",
        "                                  clas_PO == 1 ~ 'ocupados' ,\n",
        "                                  clas_PO == 2 ~ 'desocupados',\n",
        "                                  clas_PO == 3 ~ 'disponibles',\n",
        "                                  clas_PO == 4 ~ 'no disponibles',\n",
        "                                  TRUE ~ NA),\n",
        "\n",
        "                      sex = case_when(sexo == 1 ~ \"Hombre\",\n",
        "                                      sexo == 2 ~ \"Mujer\",\n",
        "                                        TRUE ~ NA ),\n",
        "\n",
        "                      entidad_ab = case_when(\n",
        "                                               entidad == 1 ~ \"AGS\",\n",
        "                                               entidad == 2 ~ \"BC\",\n",
        "                                               entidad == 3 ~ \"BCS\",\n",
        "                                               entidad == 4 ~ \"CAMP\",\n",
        "                                               entidad == 5 ~ \"COAH\",\n",
        "                                               entidad == 6 ~ \"COL\",\n",
        "                                               entidad == 7 ~ \"CHIS\",\n",
        "                                               entidad == 8 ~ \"CHIH\",\n",
        "                                               entidad == 9 ~ \"CDMX\",\n",
        "                                               entidad == 10 ~ \"DGO\",\n",
        "                                               entidad == 11 ~ \"GTO\",\n",
        "                                               entidad == 12 ~ \"GRO\",\n",
        "                                               entidad == 13 ~ \"HGO\",\n",
        "                                               entidad == 14 ~ \"JAL\",\n",
        "                                               entidad == 15 ~ \"MEX\",\n",
        "                                               entidad == 16 ~ \"MICH\",\n",
        "                                               entidad == 17 ~ \"MOR\",\n",
        "                                               entidad == 18 ~ \"NAY\",\n",
        "                                               entidad == 19 ~ \"NL\",\n",
        "                                               entidad == 20 ~ \"OAX\",\n",
        "                                               entidad == 21 ~ \"PUE\",\n",
        "                                               entidad == 22 ~ \"QRO\",\n",
        "                                               entidad == 23 ~ \"QR\",\n",
        "                                               entidad == 24 ~ \"SLP\",\n",
        "                                               entidad == 25 ~ \"SIN\",\n",
        "                                               entidad == 26 ~ \"SON\",\n",
        "                                               entidad == 27 ~ \"TAB\",\n",
        "                                               entidad == 28 ~ \"TAMS\",\n",
        "                                               entidad == 29 ~ \"TLAX\",\n",
        "                                               entidad == 30 ~ \"VER\",\n",
        "                                               entidad == 31 ~ \"YUC\",\n",
        "                                               entidad == 32 ~ \"ZAC\",\n",
        "                                               TRUE ~ \"Desconocido\") )   |>\n",
        "\n",
        "\n",
        "                          filter(clas_PO == 1 )  #Me quedo con los ocupados\n"
      ],
      "metadata": {
        "id": "n9WeCHwu5B1C"
      },
      "execution_count": null,
      "outputs": []
    },
    {
      "cell_type": "markdown",
      "source": [
        "## **Paquetería srvyr**\n",
        "\n",
        "Combina la capacidad de la paquetería survery con la sintaxis intuitiva de dplyr\n",
        "\n",
        "**Funciones:**\n",
        "\n",
        "as_survey_design(): Convierte un dataframe en un objeto de diseño de encuesta\n",
        "\n",
        "\n",
        "**Funciones de resumen y estadísticas:**\n",
        "\n",
        "survey_mean(): Calcula medias ponderadas\n",
        "\n",
        "survey_total(): Calcula totales ponderados\n",
        "\n",
        "survey_ratio(): Calcula razones/proporciones\n",
        "\n",
        "survey_quantile(): Calcula cuantiles ponderados\n",
        "\n",
        "survey_median(): Calcula la mediana ponderada\n",
        "\n",
        "survey_var(): Calcula varianzas muestrales\n",
        "\n",
        "\n"
      ],
      "metadata": {
        "id": "ciHhIRCC8Ci_"
      }
    },
    {
      "cell_type": "code",
      "source": [
        "#Cargamos libreria\n",
        "p_load('srvyr')\n",
        "\n",
        "#UPM: Unidad primaria de muestreo\n",
        "#EST: Estrato\n",
        "#fac_tri: Factor de expansión trimestrar\n",
        "\n",
        "# Diseño en srvyr\n",
        "df_enoe_d <- df_enoe_f |>\n",
        "                as_survey_design(\n",
        "                    ids = upm,                  # ID\n",
        "                    strata = est,               # Estrato\n",
        "                    weights = fac_tri,           # Pesos de cada observación\n",
        "                    nest =TRUE)                  #Cada UPM está contenida en un solo estrato, entonces los estratos son anidados (nest) dentro de los conglomerados.\n",
        "\n"
      ],
      "metadata": {
        "id": "GE9dGY357kAA"
      },
      "execution_count": null,
      "outputs": []
    },
    {
      "cell_type": "code",
      "source": [
        "#Promedio de horas semanales trabajadas\n",
        "df_enoe_d  |>\n",
        "  summarise(prom_horas = survey_mean(n_hrs )) #vartype = \"ci\")"
      ],
      "metadata": {
        "colab": {
          "base_uri": "https://localhost:8080/",
          "height": 129
        },
        "id": "jO5YTJby9caq",
        "outputId": "c6376423-b067-4a48-c81a-42003a259680"
      },
      "execution_count": null,
      "outputs": [
        {
          "output_type": "display_data",
          "data": {
            "text/html": [
              "<table class=\"dataframe\">\n",
              "<caption>A tibble: 1 × 2</caption>\n",
              "<thead>\n",
              "\t<tr><th scope=col>prom_horas</th><th scope=col>prom_horas_se</th></tr>\n",
              "\t<tr><th scope=col>&lt;dbl&gt;</th><th scope=col>&lt;dbl&gt;</th></tr>\n",
              "</thead>\n",
              "<tbody>\n",
              "\t<tr><td>40.63572</td><td>0.1437471</td></tr>\n",
              "</tbody>\n",
              "</table>\n"
            ],
            "text/markdown": "\nA tibble: 1 × 2\n\n| prom_horas &lt;dbl&gt; | prom_horas_se &lt;dbl&gt; |\n|---|---|\n| 40.63572 | 0.1437471 |\n\n",
            "text/latex": "A tibble: 1 × 2\n\\begin{tabular}{ll}\n prom\\_horas & prom\\_horas\\_se\\\\\n <dbl> & <dbl>\\\\\n\\hline\n\t 40.63572 & 0.1437471\\\\\n\\end{tabular}\n",
            "text/plain": [
              "  prom_horas prom_horas_se\n",
              "1 40.63572   0.1437471    "
            ]
          },
          "metadata": {}
        }
      ]
    },
    {
      "cell_type": "code",
      "source": [
        "#Promedio de horas semanales trabajdas por entidad\n",
        "table_horas_ent <- df_enoe_d  |>\n",
        "                   group_by(entidad_ab)  |>\n",
        "                    summarise(survey_mean(n_hrs))  |>\n",
        "                      arrange(desc(coef))\n",
        "\n",
        "table_horas_ent"
      ],
      "metadata": {
        "colab": {
          "base_uri": "https://localhost:8080/",
          "height": 1000
        },
        "id": "G8gnCwIF-SS7",
        "outputId": "c5acf518-ea62-4988-d2b2-ebd5732bd4e4"
      },
      "execution_count": null,
      "outputs": [
        {
          "output_type": "display_data",
          "data": {
            "text/html": [
              "<table class=\"dataframe\">\n",
              "<caption>A tibble: 32 × 3</caption>\n",
              "<thead>\n",
              "\t<tr><th scope=col>entidad_ab</th><th scope=col>coef</th><th scope=col>_se</th></tr>\n",
              "\t<tr><th scope=col>&lt;chr&gt;</th><th scope=col>&lt;dbl&gt;</th><th scope=col>&lt;dbl&gt;</th></tr>\n",
              "</thead>\n",
              "<tbody>\n",
              "\t<tr><td>AGS </td><td>43.43387</td><td>0.4290063</td></tr>\n",
              "\t<tr><td>BC  </td><td>40.29964</td><td>0.4376979</td></tr>\n",
              "\t<tr><td>BCS </td><td>41.32339</td><td>0.6749899</td></tr>\n",
              "\t<tr><td>CAMP</td><td>40.45934</td><td>0.7223984</td></tr>\n",
              "\t<tr><td>CDMX</td><td>39.57450</td><td>0.6819632</td></tr>\n",
              "\t<tr><td>CHIH</td><td>39.84181</td><td>0.4711774</td></tr>\n",
              "\t<tr><td>CHIS</td><td>41.59329</td><td>0.6937295</td></tr>\n",
              "\t<tr><td>COAH</td><td>41.08718</td><td>0.4091506</td></tr>\n",
              "\t<tr><td>COL </td><td>39.37620</td><td>0.7693841</td></tr>\n",
              "\t<tr><td>DGO </td><td>38.58974</td><td>0.5687469</td></tr>\n",
              "\t<tr><td>GRO </td><td>39.09422</td><td>0.7869564</td></tr>\n",
              "\t<tr><td>GTO </td><td>41.27123</td><td>0.5941661</td></tr>\n",
              "\t<tr><td>HGO </td><td>40.83359</td><td>1.0677803</td></tr>\n",
              "\t<tr><td>JAL </td><td>39.53421</td><td>0.4719649</td></tr>\n",
              "\t<tr><td>MEX </td><td>42.43653</td><td>0.6759427</td></tr>\n",
              "\t<tr><td>MICH</td><td>38.25448</td><td>0.6800696</td></tr>\n",
              "\t<tr><td>MOR </td><td>41.47084</td><td>0.6373990</td></tr>\n",
              "\t<tr><td>NAY </td><td>38.00002</td><td>0.5905652</td></tr>\n",
              "\t<tr><td>NL  </td><td>41.97299</td><td>0.3869759</td></tr>\n",
              "\t<tr><td>OAX </td><td>38.83607</td><td>0.8721460</td></tr>\n",
              "\t<tr><td>PUE </td><td>41.73740</td><td>0.5329334</td></tr>\n",
              "\t<tr><td>QR  </td><td>42.04867</td><td>0.6023862</td></tr>\n",
              "\t<tr><td>QRO </td><td>42.13781</td><td>0.4814092</td></tr>\n",
              "\t<tr><td>SIN </td><td>36.55129</td><td>0.6981330</td></tr>\n",
              "\t<tr><td>SLP </td><td>39.43614</td><td>0.8910376</td></tr>\n",
              "\t<tr><td>SON </td><td>39.65858</td><td>0.6204420</td></tr>\n",
              "\t<tr><td>TAB </td><td>40.92954</td><td>0.8009262</td></tr>\n",
              "\t<tr><td>TAMS</td><td>40.21190</td><td>0.5626579</td></tr>\n",
              "\t<tr><td>TLAX</td><td>42.41870</td><td>0.6082711</td></tr>\n",
              "\t<tr><td>VER </td><td>42.42918</td><td>0.7493716</td></tr>\n",
              "\t<tr><td>YUC </td><td>38.58936</td><td>0.5235608</td></tr>\n",
              "\t<tr><td>ZAC </td><td>38.86886</td><td>0.9712800</td></tr>\n",
              "</tbody>\n",
              "</table>\n"
            ],
            "text/markdown": "\nA tibble: 32 × 3\n\n| entidad_ab &lt;chr&gt; | coef &lt;dbl&gt; | _se &lt;dbl&gt; |\n|---|---|---|\n| AGS  | 43.43387 | 0.4290063 |\n| BC   | 40.29964 | 0.4376979 |\n| BCS  | 41.32339 | 0.6749899 |\n| CAMP | 40.45934 | 0.7223984 |\n| CDMX | 39.57450 | 0.6819632 |\n| CHIH | 39.84181 | 0.4711774 |\n| CHIS | 41.59329 | 0.6937295 |\n| COAH | 41.08718 | 0.4091506 |\n| COL  | 39.37620 | 0.7693841 |\n| DGO  | 38.58974 | 0.5687469 |\n| GRO  | 39.09422 | 0.7869564 |\n| GTO  | 41.27123 | 0.5941661 |\n| HGO  | 40.83359 | 1.0677803 |\n| JAL  | 39.53421 | 0.4719649 |\n| MEX  | 42.43653 | 0.6759427 |\n| MICH | 38.25448 | 0.6800696 |\n| MOR  | 41.47084 | 0.6373990 |\n| NAY  | 38.00002 | 0.5905652 |\n| NL   | 41.97299 | 0.3869759 |\n| OAX  | 38.83607 | 0.8721460 |\n| PUE  | 41.73740 | 0.5329334 |\n| QR   | 42.04867 | 0.6023862 |\n| QRO  | 42.13781 | 0.4814092 |\n| SIN  | 36.55129 | 0.6981330 |\n| SLP  | 39.43614 | 0.8910376 |\n| SON  | 39.65858 | 0.6204420 |\n| TAB  | 40.92954 | 0.8009262 |\n| TAMS | 40.21190 | 0.5626579 |\n| TLAX | 42.41870 | 0.6082711 |\n| VER  | 42.42918 | 0.7493716 |\n| YUC  | 38.58936 | 0.5235608 |\n| ZAC  | 38.86886 | 0.9712800 |\n\n",
            "text/latex": "A tibble: 32 × 3\n\\begin{tabular}{lll}\n entidad\\_ab & coef & \\_se\\\\\n <chr> & <dbl> & <dbl>\\\\\n\\hline\n\t AGS  & 43.43387 & 0.4290063\\\\\n\t BC   & 40.29964 & 0.4376979\\\\\n\t BCS  & 41.32339 & 0.6749899\\\\\n\t CAMP & 40.45934 & 0.7223984\\\\\n\t CDMX & 39.57450 & 0.6819632\\\\\n\t CHIH & 39.84181 & 0.4711774\\\\\n\t CHIS & 41.59329 & 0.6937295\\\\\n\t COAH & 41.08718 & 0.4091506\\\\\n\t COL  & 39.37620 & 0.7693841\\\\\n\t DGO  & 38.58974 & 0.5687469\\\\\n\t GRO  & 39.09422 & 0.7869564\\\\\n\t GTO  & 41.27123 & 0.5941661\\\\\n\t HGO  & 40.83359 & 1.0677803\\\\\n\t JAL  & 39.53421 & 0.4719649\\\\\n\t MEX  & 42.43653 & 0.6759427\\\\\n\t MICH & 38.25448 & 0.6800696\\\\\n\t MOR  & 41.47084 & 0.6373990\\\\\n\t NAY  & 38.00002 & 0.5905652\\\\\n\t NL   & 41.97299 & 0.3869759\\\\\n\t OAX  & 38.83607 & 0.8721460\\\\\n\t PUE  & 41.73740 & 0.5329334\\\\\n\t QR   & 42.04867 & 0.6023862\\\\\n\t QRO  & 42.13781 & 0.4814092\\\\\n\t SIN  & 36.55129 & 0.6981330\\\\\n\t SLP  & 39.43614 & 0.8910376\\\\\n\t SON  & 39.65858 & 0.6204420\\\\\n\t TAB  & 40.92954 & 0.8009262\\\\\n\t TAMS & 40.21190 & 0.5626579\\\\\n\t TLAX & 42.41870 & 0.6082711\\\\\n\t VER  & 42.42918 & 0.7493716\\\\\n\t YUC  & 38.58936 & 0.5235608\\\\\n\t ZAC  & 38.86886 & 0.9712800\\\\\n\\end{tabular}\n",
            "text/plain": [
              "   entidad_ab coef     _se      \n",
              "1  AGS        43.43387 0.4290063\n",
              "2  BC         40.29964 0.4376979\n",
              "3  BCS        41.32339 0.6749899\n",
              "4  CAMP       40.45934 0.7223984\n",
              "5  CDMX       39.57450 0.6819632\n",
              "6  CHIH       39.84181 0.4711774\n",
              "7  CHIS       41.59329 0.6937295\n",
              "8  COAH       41.08718 0.4091506\n",
              "9  COL        39.37620 0.7693841\n",
              "10 DGO        38.58974 0.5687469\n",
              "11 GRO        39.09422 0.7869564\n",
              "12 GTO        41.27123 0.5941661\n",
              "13 HGO        40.83359 1.0677803\n",
              "14 JAL        39.53421 0.4719649\n",
              "15 MEX        42.43653 0.6759427\n",
              "16 MICH       38.25448 0.6800696\n",
              "17 MOR        41.47084 0.6373990\n",
              "18 NAY        38.00002 0.5905652\n",
              "19 NL         41.97299 0.3869759\n",
              "20 OAX        38.83607 0.8721460\n",
              "21 PUE        41.73740 0.5329334\n",
              "22 QR         42.04867 0.6023862\n",
              "23 QRO        42.13781 0.4814092\n",
              "24 SIN        36.55129 0.6981330\n",
              "25 SLP        39.43614 0.8910376\n",
              "26 SON        39.65858 0.6204420\n",
              "27 TAB        40.92954 0.8009262\n",
              "28 TAMS       40.21190 0.5626579\n",
              "29 TLAX       42.41870 0.6082711\n",
              "30 VER        42.42918 0.7493716\n",
              "31 YUC        38.58936 0.5235608\n",
              "32 ZAC        38.86886 0.9712800"
            ]
          },
          "metadata": {}
        }
      ]
    },
    {
      "cell_type": "code",
      "source": [
        "#Promedio de horas semanales trabajdas por entidad y sexo\n",
        "df_enoe_d  |>\n",
        "  group_by(entidad_ab, sex)  |>\n",
        "     summarise(survey_mean(n_hrs))"
      ],
      "metadata": {
        "colab": {
          "base_uri": "https://localhost:8080/",
          "height": 1000
        },
        "id": "aqXJ3WnZ-W0b",
        "outputId": "b7befc63-a458-4bc6-a3f5-99485975ad00"
      },
      "execution_count": null,
      "outputs": [
        {
          "output_type": "display_data",
          "data": {
            "text/html": [
              "<table class=\"dataframe\">\n",
              "<caption>A grouped_df: 64 × 4</caption>\n",
              "<thead>\n",
              "\t<tr><th scope=col>entidad_ab</th><th scope=col>sex</th><th scope=col>coef</th><th scope=col>_se</th></tr>\n",
              "\t<tr><th scope=col>&lt;chr&gt;</th><th scope=col>&lt;chr&gt;</th><th scope=col>&lt;dbl&gt;</th><th scope=col>&lt;dbl&gt;</th></tr>\n",
              "</thead>\n",
              "<tbody>\n",
              "\t<tr><td>AGS </td><td>Hombre</td><td>46.12230</td><td>0.5219736</td></tr>\n",
              "\t<tr><td>AGS </td><td>Mujer </td><td>39.43186</td><td>0.5496093</td></tr>\n",
              "\t<tr><td>BC  </td><td>Hombre</td><td>41.98870</td><td>0.4796051</td></tr>\n",
              "\t<tr><td>BC  </td><td>Mujer </td><td>37.80203</td><td>0.6647691</td></tr>\n",
              "\t<tr><td>BCS </td><td>Hombre</td><td>44.17163</td><td>0.7326871</td></tr>\n",
              "\t<tr><td>BCS </td><td>Mujer </td><td>37.15739</td><td>1.0119375</td></tr>\n",
              "\t<tr><td>CAMP</td><td>Hombre</td><td>43.38589</td><td>0.9779845</td></tr>\n",
              "\t<tr><td>CAMP</td><td>Mujer </td><td>35.56918</td><td>0.8107598</td></tr>\n",
              "\t<tr><td>CDMX</td><td>Hombre</td><td>41.94775</td><td>0.9412069</td></tr>\n",
              "\t<tr><td>CDMX</td><td>Mujer </td><td>36.64546</td><td>0.9024512</td></tr>\n",
              "\t<tr><td>CHIH</td><td>Hombre</td><td>41.87224</td><td>0.5707191</td></tr>\n",
              "\t<tr><td>CHIH</td><td>Mujer </td><td>36.95445</td><td>0.6099381</td></tr>\n",
              "\t<tr><td>CHIS</td><td>Hombre</td><td>42.94933</td><td>0.8961132</td></tr>\n",
              "\t<tr><td>CHIS</td><td>Mujer </td><td>38.65210</td><td>1.0018781</td></tr>\n",
              "\t<tr><td>COAH</td><td>Hombre</td><td>43.56698</td><td>0.5173595</td></tr>\n",
              "\t<tr><td>COAH</td><td>Mujer </td><td>37.38506</td><td>0.6533107</td></tr>\n",
              "\t<tr><td>COL </td><td>Hombre</td><td>42.33369</td><td>1.0985414</td></tr>\n",
              "\t<tr><td>COL </td><td>Mujer </td><td>35.46094</td><td>0.9984331</td></tr>\n",
              "\t<tr><td>DGO </td><td>Hombre</td><td>41.33545</td><td>0.8193891</td></tr>\n",
              "\t<tr><td>DGO </td><td>Mujer </td><td>34.44500</td><td>0.7924918</td></tr>\n",
              "\t<tr><td>GRO </td><td>Hombre</td><td>42.01568</td><td>1.0584354</td></tr>\n",
              "\t<tr><td>GRO </td><td>Mujer </td><td>34.79544</td><td>1.0113925</td></tr>\n",
              "\t<tr><td>GTO </td><td>Hombre</td><td>43.23454</td><td>0.7158171</td></tr>\n",
              "\t<tr><td>GTO </td><td>Mujer </td><td>38.59298</td><td>0.8710084</td></tr>\n",
              "\t<tr><td>HGO </td><td>Hombre</td><td>44.52837</td><td>1.5158549</td></tr>\n",
              "\t<tr><td>HGO </td><td>Mujer </td><td>35.15354</td><td>1.2438737</td></tr>\n",
              "\t<tr><td>JAL </td><td>Hombre</td><td>41.46729</td><td>0.6040301</td></tr>\n",
              "\t<tr><td>JAL </td><td>Mujer </td><td>36.71492</td><td>0.6506586</td></tr>\n",
              "\t<tr><td>MEX </td><td>Hombre</td><td>44.52518</td><td>0.7298736</td></tr>\n",
              "\t<tr><td>MEX </td><td>Mujer </td><td>39.18935</td><td>1.0728874</td></tr>\n",
              "\t<tr><td>⋮</td><td>⋮</td><td>⋮</td><td>⋮</td></tr>\n",
              "\t<tr><td>NAY </td><td>Hombre</td><td>40.58148</td><td>0.7082175</td></tr>\n",
              "\t<tr><td>NAY </td><td>Mujer </td><td>34.30097</td><td>0.8017480</td></tr>\n",
              "\t<tr><td>NL  </td><td>Hombre</td><td>44.26508</td><td>0.5055748</td></tr>\n",
              "\t<tr><td>NL  </td><td>Mujer </td><td>38.71976</td><td>0.7360635</td></tr>\n",
              "\t<tr><td>OAX </td><td>Hombre</td><td>41.13180</td><td>1.0630753</td></tr>\n",
              "\t<tr><td>OAX </td><td>Mujer </td><td>34.80619</td><td>1.1104018</td></tr>\n",
              "\t<tr><td>PUE </td><td>Hombre</td><td>44.23943</td><td>0.6625499</td></tr>\n",
              "\t<tr><td>PUE </td><td>Mujer </td><td>37.97027</td><td>0.8212068</td></tr>\n",
              "\t<tr><td>QR  </td><td>Hombre</td><td>43.71120</td><td>0.7285003</td></tr>\n",
              "\t<tr><td>QR  </td><td>Mujer </td><td>39.66277</td><td>0.9089010</td></tr>\n",
              "\t<tr><td>QRO </td><td>Hombre</td><td>43.83402</td><td>0.6501149</td></tr>\n",
              "\t<tr><td>QRO </td><td>Mujer </td><td>39.80324</td><td>0.7482710</td></tr>\n",
              "\t<tr><td>SIN </td><td>Hombre</td><td>38.90242</td><td>0.8453076</td></tr>\n",
              "\t<tr><td>SIN </td><td>Mujer </td><td>33.33865</td><td>0.8973798</td></tr>\n",
              "\t<tr><td>SLP </td><td>Hombre</td><td>41.57872</td><td>0.9763866</td></tr>\n",
              "\t<tr><td>SLP </td><td>Mujer </td><td>36.61128</td><td>1.0070133</td></tr>\n",
              "\t<tr><td>SON </td><td>Hombre</td><td>41.42328</td><td>0.8257629</td></tr>\n",
              "\t<tr><td>SON </td><td>Mujer </td><td>37.29997</td><td>0.7609136</td></tr>\n",
              "\t<tr><td>TAB </td><td>Hombre</td><td>43.91174</td><td>1.0205767</td></tr>\n",
              "\t<tr><td>TAB </td><td>Mujer </td><td>35.55192</td><td>1.2137522</td></tr>\n",
              "\t<tr><td>TAMS</td><td>Hombre</td><td>43.19199</td><td>0.7100676</td></tr>\n",
              "\t<tr><td>TAMS</td><td>Mujer </td><td>35.79955</td><td>0.7964164</td></tr>\n",
              "\t<tr><td>TLAX</td><td>Hombre</td><td>44.48562</td><td>0.7102445</td></tr>\n",
              "\t<tr><td>TLAX</td><td>Mujer </td><td>39.14719</td><td>0.9451800</td></tr>\n",
              "\t<tr><td>VER </td><td>Hombre</td><td>44.23561</td><td>0.8394195</td></tr>\n",
              "\t<tr><td>VER </td><td>Mujer </td><td>39.01789</td><td>1.2618085</td></tr>\n",
              "\t<tr><td>YUC </td><td>Hombre</td><td>41.81922</td><td>0.5917985</td></tr>\n",
              "\t<tr><td>YUC </td><td>Mujer </td><td>34.00206</td><td>0.8320484</td></tr>\n",
              "\t<tr><td>ZAC </td><td>Hombre</td><td>41.31268</td><td>1.2470861</td></tr>\n",
              "\t<tr><td>ZAC </td><td>Mujer </td><td>34.90959</td><td>1.1560800</td></tr>\n",
              "</tbody>\n",
              "</table>\n"
            ],
            "text/markdown": "\nA grouped_df: 64 × 4\n\n| entidad_ab &lt;chr&gt; | sex &lt;chr&gt; | coef &lt;dbl&gt; | _se &lt;dbl&gt; |\n|---|---|---|---|\n| AGS  | Hombre | 46.12230 | 0.5219736 |\n| AGS  | Mujer  | 39.43186 | 0.5496093 |\n| BC   | Hombre | 41.98870 | 0.4796051 |\n| BC   | Mujer  | 37.80203 | 0.6647691 |\n| BCS  | Hombre | 44.17163 | 0.7326871 |\n| BCS  | Mujer  | 37.15739 | 1.0119375 |\n| CAMP | Hombre | 43.38589 | 0.9779845 |\n| CAMP | Mujer  | 35.56918 | 0.8107598 |\n| CDMX | Hombre | 41.94775 | 0.9412069 |\n| CDMX | Mujer  | 36.64546 | 0.9024512 |\n| CHIH | Hombre | 41.87224 | 0.5707191 |\n| CHIH | Mujer  | 36.95445 | 0.6099381 |\n| CHIS | Hombre | 42.94933 | 0.8961132 |\n| CHIS | Mujer  | 38.65210 | 1.0018781 |\n| COAH | Hombre | 43.56698 | 0.5173595 |\n| COAH | Mujer  | 37.38506 | 0.6533107 |\n| COL  | Hombre | 42.33369 | 1.0985414 |\n| COL  | Mujer  | 35.46094 | 0.9984331 |\n| DGO  | Hombre | 41.33545 | 0.8193891 |\n| DGO  | Mujer  | 34.44500 | 0.7924918 |\n| GRO  | Hombre | 42.01568 | 1.0584354 |\n| GRO  | Mujer  | 34.79544 | 1.0113925 |\n| GTO  | Hombre | 43.23454 | 0.7158171 |\n| GTO  | Mujer  | 38.59298 | 0.8710084 |\n| HGO  | Hombre | 44.52837 | 1.5158549 |\n| HGO  | Mujer  | 35.15354 | 1.2438737 |\n| JAL  | Hombre | 41.46729 | 0.6040301 |\n| JAL  | Mujer  | 36.71492 | 0.6506586 |\n| MEX  | Hombre | 44.52518 | 0.7298736 |\n| MEX  | Mujer  | 39.18935 | 1.0728874 |\n| ⋮ | ⋮ | ⋮ | ⋮ |\n| NAY  | Hombre | 40.58148 | 0.7082175 |\n| NAY  | Mujer  | 34.30097 | 0.8017480 |\n| NL   | Hombre | 44.26508 | 0.5055748 |\n| NL   | Mujer  | 38.71976 | 0.7360635 |\n| OAX  | Hombre | 41.13180 | 1.0630753 |\n| OAX  | Mujer  | 34.80619 | 1.1104018 |\n| PUE  | Hombre | 44.23943 | 0.6625499 |\n| PUE  | Mujer  | 37.97027 | 0.8212068 |\n| QR   | Hombre | 43.71120 | 0.7285003 |\n| QR   | Mujer  | 39.66277 | 0.9089010 |\n| QRO  | Hombre | 43.83402 | 0.6501149 |\n| QRO  | Mujer  | 39.80324 | 0.7482710 |\n| SIN  | Hombre | 38.90242 | 0.8453076 |\n| SIN  | Mujer  | 33.33865 | 0.8973798 |\n| SLP  | Hombre | 41.57872 | 0.9763866 |\n| SLP  | Mujer  | 36.61128 | 1.0070133 |\n| SON  | Hombre | 41.42328 | 0.8257629 |\n| SON  | Mujer  | 37.29997 | 0.7609136 |\n| TAB  | Hombre | 43.91174 | 1.0205767 |\n| TAB  | Mujer  | 35.55192 | 1.2137522 |\n| TAMS | Hombre | 43.19199 | 0.7100676 |\n| TAMS | Mujer  | 35.79955 | 0.7964164 |\n| TLAX | Hombre | 44.48562 | 0.7102445 |\n| TLAX | Mujer  | 39.14719 | 0.9451800 |\n| VER  | Hombre | 44.23561 | 0.8394195 |\n| VER  | Mujer  | 39.01789 | 1.2618085 |\n| YUC  | Hombre | 41.81922 | 0.5917985 |\n| YUC  | Mujer  | 34.00206 | 0.8320484 |\n| ZAC  | Hombre | 41.31268 | 1.2470861 |\n| ZAC  | Mujer  | 34.90959 | 1.1560800 |\n\n",
            "text/latex": "A grouped\\_df: 64 × 4\n\\begin{tabular}{llll}\n entidad\\_ab & sex & coef & \\_se\\\\\n <chr> & <chr> & <dbl> & <dbl>\\\\\n\\hline\n\t AGS  & Hombre & 46.12230 & 0.5219736\\\\\n\t AGS  & Mujer  & 39.43186 & 0.5496093\\\\\n\t BC   & Hombre & 41.98870 & 0.4796051\\\\\n\t BC   & Mujer  & 37.80203 & 0.6647691\\\\\n\t BCS  & Hombre & 44.17163 & 0.7326871\\\\\n\t BCS  & Mujer  & 37.15739 & 1.0119375\\\\\n\t CAMP & Hombre & 43.38589 & 0.9779845\\\\\n\t CAMP & Mujer  & 35.56918 & 0.8107598\\\\\n\t CDMX & Hombre & 41.94775 & 0.9412069\\\\\n\t CDMX & Mujer  & 36.64546 & 0.9024512\\\\\n\t CHIH & Hombre & 41.87224 & 0.5707191\\\\\n\t CHIH & Mujer  & 36.95445 & 0.6099381\\\\\n\t CHIS & Hombre & 42.94933 & 0.8961132\\\\\n\t CHIS & Mujer  & 38.65210 & 1.0018781\\\\\n\t COAH & Hombre & 43.56698 & 0.5173595\\\\\n\t COAH & Mujer  & 37.38506 & 0.6533107\\\\\n\t COL  & Hombre & 42.33369 & 1.0985414\\\\\n\t COL  & Mujer  & 35.46094 & 0.9984331\\\\\n\t DGO  & Hombre & 41.33545 & 0.8193891\\\\\n\t DGO  & Mujer  & 34.44500 & 0.7924918\\\\\n\t GRO  & Hombre & 42.01568 & 1.0584354\\\\\n\t GRO  & Mujer  & 34.79544 & 1.0113925\\\\\n\t GTO  & Hombre & 43.23454 & 0.7158171\\\\\n\t GTO  & Mujer  & 38.59298 & 0.8710084\\\\\n\t HGO  & Hombre & 44.52837 & 1.5158549\\\\\n\t HGO  & Mujer  & 35.15354 & 1.2438737\\\\\n\t JAL  & Hombre & 41.46729 & 0.6040301\\\\\n\t JAL  & Mujer  & 36.71492 & 0.6506586\\\\\n\t MEX  & Hombre & 44.52518 & 0.7298736\\\\\n\t MEX  & Mujer  & 39.18935 & 1.0728874\\\\\n\t ⋮ & ⋮ & ⋮ & ⋮\\\\\n\t NAY  & Hombre & 40.58148 & 0.7082175\\\\\n\t NAY  & Mujer  & 34.30097 & 0.8017480\\\\\n\t NL   & Hombre & 44.26508 & 0.5055748\\\\\n\t NL   & Mujer  & 38.71976 & 0.7360635\\\\\n\t OAX  & Hombre & 41.13180 & 1.0630753\\\\\n\t OAX  & Mujer  & 34.80619 & 1.1104018\\\\\n\t PUE  & Hombre & 44.23943 & 0.6625499\\\\\n\t PUE  & Mujer  & 37.97027 & 0.8212068\\\\\n\t QR   & Hombre & 43.71120 & 0.7285003\\\\\n\t QR   & Mujer  & 39.66277 & 0.9089010\\\\\n\t QRO  & Hombre & 43.83402 & 0.6501149\\\\\n\t QRO  & Mujer  & 39.80324 & 0.7482710\\\\\n\t SIN  & Hombre & 38.90242 & 0.8453076\\\\\n\t SIN  & Mujer  & 33.33865 & 0.8973798\\\\\n\t SLP  & Hombre & 41.57872 & 0.9763866\\\\\n\t SLP  & Mujer  & 36.61128 & 1.0070133\\\\\n\t SON  & Hombre & 41.42328 & 0.8257629\\\\\n\t SON  & Mujer  & 37.29997 & 0.7609136\\\\\n\t TAB  & Hombre & 43.91174 & 1.0205767\\\\\n\t TAB  & Mujer  & 35.55192 & 1.2137522\\\\\n\t TAMS & Hombre & 43.19199 & 0.7100676\\\\\n\t TAMS & Mujer  & 35.79955 & 0.7964164\\\\\n\t TLAX & Hombre & 44.48562 & 0.7102445\\\\\n\t TLAX & Mujer  & 39.14719 & 0.9451800\\\\\n\t VER  & Hombre & 44.23561 & 0.8394195\\\\\n\t VER  & Mujer  & 39.01789 & 1.2618085\\\\\n\t YUC  & Hombre & 41.81922 & 0.5917985\\\\\n\t YUC  & Mujer  & 34.00206 & 0.8320484\\\\\n\t ZAC  & Hombre & 41.31268 & 1.2470861\\\\\n\t ZAC  & Mujer  & 34.90959 & 1.1560800\\\\\n\\end{tabular}\n",
            "text/plain": [
              "   entidad_ab sex    coef     _se      \n",
              "1  AGS        Hombre 46.12230 0.5219736\n",
              "2  AGS        Mujer  39.43186 0.5496093\n",
              "3  BC         Hombre 41.98870 0.4796051\n",
              "4  BC         Mujer  37.80203 0.6647691\n",
              "5  BCS        Hombre 44.17163 0.7326871\n",
              "6  BCS        Mujer  37.15739 1.0119375\n",
              "7  CAMP       Hombre 43.38589 0.9779845\n",
              "8  CAMP       Mujer  35.56918 0.8107598\n",
              "9  CDMX       Hombre 41.94775 0.9412069\n",
              "10 CDMX       Mujer  36.64546 0.9024512\n",
              "11 CHIH       Hombre 41.87224 0.5707191\n",
              "12 CHIH       Mujer  36.95445 0.6099381\n",
              "13 CHIS       Hombre 42.94933 0.8961132\n",
              "14 CHIS       Mujer  38.65210 1.0018781\n",
              "15 COAH       Hombre 43.56698 0.5173595\n",
              "16 COAH       Mujer  37.38506 0.6533107\n",
              "17 COL        Hombre 42.33369 1.0985414\n",
              "18 COL        Mujer  35.46094 0.9984331\n",
              "19 DGO        Hombre 41.33545 0.8193891\n",
              "20 DGO        Mujer  34.44500 0.7924918\n",
              "21 GRO        Hombre 42.01568 1.0584354\n",
              "22 GRO        Mujer  34.79544 1.0113925\n",
              "23 GTO        Hombre 43.23454 0.7158171\n",
              "24 GTO        Mujer  38.59298 0.8710084\n",
              "25 HGO        Hombre 44.52837 1.5158549\n",
              "26 HGO        Mujer  35.15354 1.2438737\n",
              "27 JAL        Hombre 41.46729 0.6040301\n",
              "28 JAL        Mujer  36.71492 0.6506586\n",
              "29 MEX        Hombre 44.52518 0.7298736\n",
              "30 MEX        Mujer  39.18935 1.0728874\n",
              "⋮  ⋮          ⋮      ⋮        ⋮        \n",
              "35 NAY        Hombre 40.58148 0.7082175\n",
              "36 NAY        Mujer  34.30097 0.8017480\n",
              "37 NL         Hombre 44.26508 0.5055748\n",
              "38 NL         Mujer  38.71976 0.7360635\n",
              "39 OAX        Hombre 41.13180 1.0630753\n",
              "40 OAX        Mujer  34.80619 1.1104018\n",
              "41 PUE        Hombre 44.23943 0.6625499\n",
              "42 PUE        Mujer  37.97027 0.8212068\n",
              "43 QR         Hombre 43.71120 0.7285003\n",
              "44 QR         Mujer  39.66277 0.9089010\n",
              "45 QRO        Hombre 43.83402 0.6501149\n",
              "46 QRO        Mujer  39.80324 0.7482710\n",
              "47 SIN        Hombre 38.90242 0.8453076\n",
              "48 SIN        Mujer  33.33865 0.8973798\n",
              "49 SLP        Hombre 41.57872 0.9763866\n",
              "50 SLP        Mujer  36.61128 1.0070133\n",
              "51 SON        Hombre 41.42328 0.8257629\n",
              "52 SON        Mujer  37.29997 0.7609136\n",
              "53 TAB        Hombre 43.91174 1.0205767\n",
              "54 TAB        Mujer  35.55192 1.2137522\n",
              "55 TAMS       Hombre 43.19199 0.7100676\n",
              "56 TAMS       Mujer  35.79955 0.7964164\n",
              "57 TLAX       Hombre 44.48562 0.7102445\n",
              "58 TLAX       Mujer  39.14719 0.9451800\n",
              "59 VER        Hombre 44.23561 0.8394195\n",
              "60 VER        Mujer  39.01789 1.2618085\n",
              "61 YUC        Hombre 41.81922 0.5917985\n",
              "62 YUC        Mujer  34.00206 0.8320484\n",
              "63 ZAC        Hombre 41.31268 1.2470861\n",
              "64 ZAC        Mujer  34.90959 1.1560800"
            ]
          },
          "metadata": {}
        }
      ]
    }
  ]
}